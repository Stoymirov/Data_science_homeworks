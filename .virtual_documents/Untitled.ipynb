import matplotlib.pyplot as plt
import numpy as np
import pandas as pd
import sqlite3








 books_data = pd.read_csv(
     "Books.csv",
     na_values=["Unknown","No rating"],
     header=None,names=["book_title",...],
 chunksize=10)


next(books_data )





books_data.head()


books_data.shape


type(books_data)


type(books_data.title)



pd.DataFrame({
    "name":["Michael","Ivan"],
    "age":[20,12]
})


books_data.dtypes


books_data.pages = books_data.pages.replace("Unknown",np.nan)



books_data.pages.astype(float)


books_data.published_date.str.len().value_counts()


books_data[
books_data.published_date.str.len() ==25
]


books_data.average_rating


plt.hist(data=books_data,x="average_rating",bins="auto")
plt.show()


books_data.average_rating.value_counts()


sum(books_data.average_rating.isna()) / len(books_data) *100


books_data.average_rating.skew()


pd.read_excel(sheet_name= None)


con =sqlite3.connect("sqlite-sakila.db")



df = pd.read_sql_query("select * from film")



