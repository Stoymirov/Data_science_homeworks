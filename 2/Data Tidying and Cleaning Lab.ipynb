{
 "cells": [
  {
   "cell_type": "code",
   "execution_count": 296,
   "id": "078d90d4-aec6-40fe-997f-ce63c962d936",
   "metadata": {},
   "outputs": [],
   "source": [
    "import pandas as pd\n",
    "import matplotlib.pyplot as plt\n",
    "import scipy.stats as st\n",
    "import numpy as np\n",
    "import re\n"
   ]
  },
  {
   "cell_type": "markdown",
   "id": "02aa71be-5d01-4efc-85fa-a019fe92a39a",
   "metadata": {},
   "source": [
    "# Data Tidying and Cleaning Lab\n",
    "## Reading, tidying and cleaning data. Preparing data for exploration, mining, analysis and learning"
   ]
  },
  {
   "cell_type": "markdown",
   "id": "259927d3-4ad5-471e-b34b-114f07127a39",
   "metadata": {},
   "source": [
    "In this lab, you'll be working with the Coffee Quality Index dataset, located [here](https://www.kaggle.com/datasets/volpatto/coffee-quality-database-from-cqi). For convenience (and to save trouble in case you can't download files, or someone uploads a newer version), I've provided the dataset in the `data/` folder. The metadata (description) is at the Kaggle link. For this lab, you'll only need `merged_data_cleaned.csv`, as it is the concatenation of the other two datasets.\n",
    "\n",
    "In this (and the following labs), you'll get several questions and problems. Do your analysis, describe it, use any tools and plots you wish, and answer. You can create any amount of cells you'd like.\n",
    "\n",
    "Sometimes, the answers will not be unique, and they will depend on how you decide to approach and solve the problem. This is usual - we're doing science after all!\n",
    "\n",
    "It's a good idea to save your clean dataset after all the work you've done to it."
   ]
  },
  {
   "cell_type": "markdown",
   "id": "4450ac8e-523c-46f8-a410-9ad5af4cfc14",
   "metadata": {},
   "source": [
    "### Problem 1. Read the dataset (1 point)\n",
    "This should be self-explanatory. The first column is the index."
   ]
  },
  {
   "cell_type": "code",
   "execution_count": 297,
   "id": "df50bd71-ea2a-4db9-814d-c49f782ca101",
   "metadata": {},
   "outputs": [],
   "source": [
    "data = pd.read_csv('data/merged_data_cleaned.csv')\n"
   ]
  },
  {
   "cell_type": "code",
   "execution_count": 298,
   "id": "e872d6b3-326d-4002-87db-7fceb405f905",
   "metadata": {},
   "outputs": [],
   "source": [
    "data = data.drop(columns=['Unnamed: 0'])"
   ]
  },
  {
   "cell_type": "markdown",
   "id": "b278e2a8-56b4-4b1a-ad71-e7b920321e37",
   "metadata": {},
   "source": [
    "### Problem 2. Observations and features (1 point)\n",
    "How many observations are there? How many features? Which features are numerical, and which are categorical?\n",
    "\n",
    "**Note:** Think about the _meaning_, not the data types. The dataset hasn't been thoroughly cleaned."
   ]
  },
  {
   "cell_type": "code",
   "execution_count": 299,
   "id": "e7d17c46-5475-4c33-9c35-b7cf56ac41c3",
   "metadata": {},
   "outputs": [
    {
     "data": {
      "text/plain": [
       "Species                   object\n",
       "Owner                     object\n",
       "Country.of.Origin         object\n",
       "Farm.Name                 object\n",
       "Lot.Number                object\n",
       "Mill                      object\n",
       "ICO.Number                object\n",
       "Company                   object\n",
       "Altitude                  object\n",
       "Region                    object\n",
       "Producer                  object\n",
       "Number.of.Bags             int64\n",
       "Bag.Weight                object\n",
       "In.Country.Partner        object\n",
       "Harvest.Year              object\n",
       "Grading.Date              object\n",
       "Owner.1                   object\n",
       "Variety                   object\n",
       "Processing.Method         object\n",
       "Aroma                    float64\n",
       "Flavor                   float64\n",
       "Aftertaste               float64\n",
       "Acidity                  float64\n",
       "Body                     float64\n",
       "Balance                  float64\n",
       "Uniformity               float64\n",
       "Clean.Cup                float64\n",
       "Sweetness                float64\n",
       "Cupper.Points            float64\n",
       "Total.Cup.Points         float64\n",
       "Moisture                 float64\n",
       "Category.One.Defects       int64\n",
       "Quakers                  float64\n",
       "Color                     object\n",
       "Category.Two.Defects       int64\n",
       "Expiration                object\n",
       "Certification.Body        object\n",
       "Certification.Address     object\n",
       "Certification.Contact     object\n",
       "unit_of_measurement       object\n",
       "altitude_low_meters      float64\n",
       "altitude_high_meters     float64\n",
       "altitude_mean_meters     float64\n",
       "dtype: object"
      ]
     },
     "execution_count": 299,
     "metadata": {},
     "output_type": "execute_result"
    }
   ],
   "source": [
    "data.dtypes"
   ]
  },
  {
   "cell_type": "code",
   "execution_count": 300,
   "id": "cebf3db9-8573-4221-83e5-86dfe9ffb592",
   "metadata": {},
   "outputs": [
    {
     "name": "stdout",
     "output_type": "stream",
     "text": [
      "shape of data is: (1339, 43)\n",
      "total missing values are: 4044\n"
     ]
    }
   ],
   "source": [
    "print(f'shape of data is: {data.shape}')\n",
    "print(f'total missing values are: {data.isna().sum().sum()}')"
   ]
  },
  {
   "cell_type": "code",
   "execution_count": 301,
   "id": "69ded525-6d7b-4cd9-910d-fe306c2cb294",
   "metadata": {},
   "outputs": [
    {
     "data": {
      "text/html": [
       "<div>\n",
       "<style scoped>\n",
       "    .dataframe tbody tr th:only-of-type {\n",
       "        vertical-align: middle;\n",
       "    }\n",
       "\n",
       "    .dataframe tbody tr th {\n",
       "        vertical-align: top;\n",
       "    }\n",
       "\n",
       "    .dataframe thead th {\n",
       "        text-align: right;\n",
       "    }\n",
       "</style>\n",
       "<table border=\"1\" class=\"dataframe\">\n",
       "  <thead>\n",
       "    <tr style=\"text-align: right;\">\n",
       "      <th></th>\n",
       "      <th>Species</th>\n",
       "      <th>Owner</th>\n",
       "      <th>Country.of.Origin</th>\n",
       "      <th>Farm.Name</th>\n",
       "      <th>Lot.Number</th>\n",
       "      <th>Mill</th>\n",
       "      <th>ICO.Number</th>\n",
       "      <th>Company</th>\n",
       "      <th>Altitude</th>\n",
       "      <th>Region</th>\n",
       "      <th>...</th>\n",
       "      <th>Color</th>\n",
       "      <th>Category.Two.Defects</th>\n",
       "      <th>Expiration</th>\n",
       "      <th>Certification.Body</th>\n",
       "      <th>Certification.Address</th>\n",
       "      <th>Certification.Contact</th>\n",
       "      <th>unit_of_measurement</th>\n",
       "      <th>altitude_low_meters</th>\n",
       "      <th>altitude_high_meters</th>\n",
       "      <th>altitude_mean_meters</th>\n",
       "    </tr>\n",
       "  </thead>\n",
       "  <tbody>\n",
       "    <tr>\n",
       "      <th>0</th>\n",
       "      <td>Arabica</td>\n",
       "      <td>metad plc</td>\n",
       "      <td>Ethiopia</td>\n",
       "      <td>metad plc</td>\n",
       "      <td>NaN</td>\n",
       "      <td>metad plc</td>\n",
       "      <td>2014/2015</td>\n",
       "      <td>metad agricultural developmet plc</td>\n",
       "      <td>1950-2200</td>\n",
       "      <td>guji-hambela</td>\n",
       "      <td>...</td>\n",
       "      <td>Green</td>\n",
       "      <td>0</td>\n",
       "      <td>April 3rd, 2016</td>\n",
       "      <td>METAD Agricultural Development plc</td>\n",
       "      <td>309fcf77415a3661ae83e027f7e5f05dad786e44</td>\n",
       "      <td>19fef5a731de2db57d16da10287413f5f99bc2dd</td>\n",
       "      <td>m</td>\n",
       "      <td>1950.0</td>\n",
       "      <td>2200.0</td>\n",
       "      <td>2075.0</td>\n",
       "    </tr>\n",
       "    <tr>\n",
       "      <th>1</th>\n",
       "      <td>Arabica</td>\n",
       "      <td>metad plc</td>\n",
       "      <td>Ethiopia</td>\n",
       "      <td>metad plc</td>\n",
       "      <td>NaN</td>\n",
       "      <td>metad plc</td>\n",
       "      <td>2014/2015</td>\n",
       "      <td>metad agricultural developmet plc</td>\n",
       "      <td>1950-2200</td>\n",
       "      <td>guji-hambela</td>\n",
       "      <td>...</td>\n",
       "      <td>Green</td>\n",
       "      <td>1</td>\n",
       "      <td>April 3rd, 2016</td>\n",
       "      <td>METAD Agricultural Development plc</td>\n",
       "      <td>309fcf77415a3661ae83e027f7e5f05dad786e44</td>\n",
       "      <td>19fef5a731de2db57d16da10287413f5f99bc2dd</td>\n",
       "      <td>m</td>\n",
       "      <td>1950.0</td>\n",
       "      <td>2200.0</td>\n",
       "      <td>2075.0</td>\n",
       "    </tr>\n",
       "    <tr>\n",
       "      <th>2</th>\n",
       "      <td>Arabica</td>\n",
       "      <td>grounds for health admin</td>\n",
       "      <td>Guatemala</td>\n",
       "      <td>san marcos barrancas \"san cristobal cuch</td>\n",
       "      <td>NaN</td>\n",
       "      <td>NaN</td>\n",
       "      <td>NaN</td>\n",
       "      <td>NaN</td>\n",
       "      <td>1600 - 1800 m</td>\n",
       "      <td>NaN</td>\n",
       "      <td>...</td>\n",
       "      <td>NaN</td>\n",
       "      <td>0</td>\n",
       "      <td>May 31st, 2011</td>\n",
       "      <td>Specialty Coffee Association</td>\n",
       "      <td>36d0d00a3724338ba7937c52a378d085f2172daa</td>\n",
       "      <td>0878a7d4b9d35ddbf0fe2ce69a2062cceb45a660</td>\n",
       "      <td>m</td>\n",
       "      <td>1600.0</td>\n",
       "      <td>1800.0</td>\n",
       "      <td>1700.0</td>\n",
       "    </tr>\n",
       "    <tr>\n",
       "      <th>3</th>\n",
       "      <td>Arabica</td>\n",
       "      <td>yidnekachew dabessa</td>\n",
       "      <td>Ethiopia</td>\n",
       "      <td>yidnekachew dabessa coffee plantation</td>\n",
       "      <td>NaN</td>\n",
       "      <td>wolensu</td>\n",
       "      <td>NaN</td>\n",
       "      <td>yidnekachew debessa coffee plantation</td>\n",
       "      <td>1800-2200</td>\n",
       "      <td>oromia</td>\n",
       "      <td>...</td>\n",
       "      <td>Green</td>\n",
       "      <td>2</td>\n",
       "      <td>March 25th, 2016</td>\n",
       "      <td>METAD Agricultural Development plc</td>\n",
       "      <td>309fcf77415a3661ae83e027f7e5f05dad786e44</td>\n",
       "      <td>19fef5a731de2db57d16da10287413f5f99bc2dd</td>\n",
       "      <td>m</td>\n",
       "      <td>1800.0</td>\n",
       "      <td>2200.0</td>\n",
       "      <td>2000.0</td>\n",
       "    </tr>\n",
       "    <tr>\n",
       "      <th>4</th>\n",
       "      <td>Arabica</td>\n",
       "      <td>metad plc</td>\n",
       "      <td>Ethiopia</td>\n",
       "      <td>metad plc</td>\n",
       "      <td>NaN</td>\n",
       "      <td>metad plc</td>\n",
       "      <td>2014/2015</td>\n",
       "      <td>metad agricultural developmet plc</td>\n",
       "      <td>1950-2200</td>\n",
       "      <td>guji-hambela</td>\n",
       "      <td>...</td>\n",
       "      <td>Green</td>\n",
       "      <td>2</td>\n",
       "      <td>April 3rd, 2016</td>\n",
       "      <td>METAD Agricultural Development plc</td>\n",
       "      <td>309fcf77415a3661ae83e027f7e5f05dad786e44</td>\n",
       "      <td>19fef5a731de2db57d16da10287413f5f99bc2dd</td>\n",
       "      <td>m</td>\n",
       "      <td>1950.0</td>\n",
       "      <td>2200.0</td>\n",
       "      <td>2075.0</td>\n",
       "    </tr>\n",
       "  </tbody>\n",
       "</table>\n",
       "<p>5 rows × 43 columns</p>\n",
       "</div>"
      ],
      "text/plain": [
       "   Species                     Owner Country.of.Origin  \\\n",
       "0  Arabica                 metad plc          Ethiopia   \n",
       "1  Arabica                 metad plc          Ethiopia   \n",
       "2  Arabica  grounds for health admin         Guatemala   \n",
       "3  Arabica       yidnekachew dabessa          Ethiopia   \n",
       "4  Arabica                 metad plc          Ethiopia   \n",
       "\n",
       "                                  Farm.Name Lot.Number       Mill ICO.Number  \\\n",
       "0                                 metad plc        NaN  metad plc  2014/2015   \n",
       "1                                 metad plc        NaN  metad plc  2014/2015   \n",
       "2  san marcos barrancas \"san cristobal cuch        NaN        NaN        NaN   \n",
       "3     yidnekachew dabessa coffee plantation        NaN    wolensu        NaN   \n",
       "4                                 metad plc        NaN  metad plc  2014/2015   \n",
       "\n",
       "                                 Company       Altitude        Region  ...  \\\n",
       "0      metad agricultural developmet plc      1950-2200  guji-hambela  ...   \n",
       "1      metad agricultural developmet plc      1950-2200  guji-hambela  ...   \n",
       "2                                    NaN  1600 - 1800 m           NaN  ...   \n",
       "3  yidnekachew debessa coffee plantation      1800-2200        oromia  ...   \n",
       "4      metad agricultural developmet plc      1950-2200  guji-hambela  ...   \n",
       "\n",
       "   Color  Category.Two.Defects        Expiration  \\\n",
       "0  Green                     0   April 3rd, 2016   \n",
       "1  Green                     1   April 3rd, 2016   \n",
       "2    NaN                     0    May 31st, 2011   \n",
       "3  Green                     2  March 25th, 2016   \n",
       "4  Green                     2   April 3rd, 2016   \n",
       "\n",
       "                   Certification.Body  \\\n",
       "0  METAD Agricultural Development plc   \n",
       "1  METAD Agricultural Development plc   \n",
       "2        Specialty Coffee Association   \n",
       "3  METAD Agricultural Development plc   \n",
       "4  METAD Agricultural Development plc   \n",
       "\n",
       "                      Certification.Address  \\\n",
       "0  309fcf77415a3661ae83e027f7e5f05dad786e44   \n",
       "1  309fcf77415a3661ae83e027f7e5f05dad786e44   \n",
       "2  36d0d00a3724338ba7937c52a378d085f2172daa   \n",
       "3  309fcf77415a3661ae83e027f7e5f05dad786e44   \n",
       "4  309fcf77415a3661ae83e027f7e5f05dad786e44   \n",
       "\n",
       "                      Certification.Contact unit_of_measurement  \\\n",
       "0  19fef5a731de2db57d16da10287413f5f99bc2dd                   m   \n",
       "1  19fef5a731de2db57d16da10287413f5f99bc2dd                   m   \n",
       "2  0878a7d4b9d35ddbf0fe2ce69a2062cceb45a660                   m   \n",
       "3  19fef5a731de2db57d16da10287413f5f99bc2dd                   m   \n",
       "4  19fef5a731de2db57d16da10287413f5f99bc2dd                   m   \n",
       "\n",
       "  altitude_low_meters altitude_high_meters  altitude_mean_meters  \n",
       "0              1950.0               2200.0                2075.0  \n",
       "1              1950.0               2200.0                2075.0  \n",
       "2              1600.0               1800.0                1700.0  \n",
       "3              1800.0               2200.0                2000.0  \n",
       "4              1950.0               2200.0                2075.0  \n",
       "\n",
       "[5 rows x 43 columns]"
      ]
     },
     "execution_count": 301,
     "metadata": {},
     "output_type": "execute_result"
    }
   ],
   "source": [
    "data.head()"
   ]
  },
  {
   "cell_type": "markdown",
   "id": "27dc710c-b817-48fb-8f9e-13ee024c673a",
   "metadata": {},
   "source": [
    "We see that the names of the features are not all following the same pattern of naming. We will make them all snake case."
   ]
  },
  {
   "cell_type": "code",
   "execution_count": 302,
   "id": "7edae5ce-cf13-4d32-a015-2d046d12589d",
   "metadata": {},
   "outputs": [],
   "source": [
    "data.columns = data.columns.str.replace('.','_')"
   ]
  },
  {
   "cell_type": "markdown",
   "id": "efb13f19-86fd-47cd-8dd1-a12281e04f7d",
   "metadata": {},
   "source": [
    "The first thing I notice is that the alltitude is something numerical which is categorized. Let us see the value_counts of that."
   ]
  },
  {
   "cell_type": "markdown",
   "id": "6d331930-c93e-462f-bfa2-b20ea11182f5",
   "metadata": {},
   "source": [
    "## Working with Altitude"
   ]
  },
  {
   "cell_type": "code",
   "execution_count": 303,
   "id": "c3f1a174-085c-4e31-b7bf-80dcdd1bdeb6",
   "metadata": {},
   "outputs": [],
   "source": [
    "data['Altitude'].value_counts().to_csv('altitude_value_count.csv')"
   ]
  },
  {
   "cell_type": "code",
   "execution_count": 304,
   "id": "b348fac7-5050-4c44-bd49-3f4ce02f4bb6",
   "metadata": {},
   "outputs": [
    {
     "name": "stdout",
     "output_type": "stream",
     "text": [
      "unique: 396\n"
     ]
    }
   ],
   "source": [
    "print(f'unique: {data.Altitude.nunique()}')"
   ]
  },
  {
   "cell_type": "code",
   "execution_count": 305,
   "id": "9aa37b9c-f0f0-4435-94cf-74d465a7526a",
   "metadata": {},
   "outputs": [
    {
     "data": {
      "text/plain": [
       "321           800++\n",
       "1020           1200\n",
       "165          2000 m\n",
       "1051       1500msnm\n",
       "660             NaN\n",
       "51           1400ft\n",
       "163     above 1100m\n",
       "103       1400 masl\n",
       "745             533\n",
       "133            1200\n",
       "193            2560\n",
       "475            900m\n",
       "567      1200-2000m\n",
       "59              NaN\n",
       "754             NaN\n",
       "1033           1100\n",
       "790           1040m\n",
       "1283            NaN\n",
       "663            4300\n",
       "67        1800-2000\n",
       "Name: Altitude, dtype: object"
      ]
     },
     "execution_count": 305,
     "metadata": {},
     "output_type": "execute_result"
    }
   ],
   "source": [
    "data.Altitude.sample(20)"
   ]
  },
  {
   "cell_type": "markdown",
   "id": "4d186bca-2671-4953-bd86-f1878710a0c2",
   "metadata": {},
   "source": [
    "Here we encouter a problem, that there are 396 different Altitude and they very much differ in their format."
   ]
  },
  {
   "cell_type": "markdown",
   "id": "d2daf66b-1962-4c78-bc1a-543558aa46cd",
   "metadata": {},
   "source": [
    "It is straight ahead visible that the data is very messy. We need to fix that."
   ]
  },
  {
   "cell_type": "code",
   "execution_count": 306,
   "id": "ac8c8994-8d04-43ff-aaa7-58c76f68e9a2",
   "metadata": {},
   "outputs": [],
   "source": [
    "def clean_altitude_with_feet(val):\n",
    "    if pd.isna(val):\n",
    "        return np.nan\n",
    "\n",
    "    val = str(val).lower().strip()\n",
    "\n",
    "    # Remove commas, 'de', and normalize interval separator ' a ' -> '-'\n",
    "    val = val.replace(',', '')\n",
    "    val = val.replace('de ', '')\n",
    "    val = val.replace(' a ', '-')\n",
    "\n",
    "    # Detect if feet or meters\n",
    "    is_feet = ('ft' in val) or ('feet' in val)\n",
    "\n",
    "    # Remove known unit words (meters)\n",
    "    for unit in ['msnm', 'mts', 'm', '公尺', 'feet', 'ft']:\n",
    "        val = val.replace(unit, '')\n",
    "\n",
    "    val = val.strip()\n",
    "\n",
    "    # If range (interval), average it\n",
    "    if '-' in val:\n",
    "        parts = val.split('-')\n",
    "        try:\n",
    "            nums = [float(p.strip()) for p in parts]\n",
    "            avg = sum(nums) / len(nums)\n",
    "        except:\n",
    "            return np.nan\n",
    "    else:\n",
    "        try:\n",
    "            avg = float(val)\n",
    "        except:\n",
    "            return np.nan\n",
    "\n",
    "    # Convert if feet\n",
    "    if is_feet:\n",
    "        avg = avg * 0.3048\n",
    "\n",
    "    return avg\n"
   ]
  },
  {
   "cell_type": "code",
   "execution_count": 307,
   "id": "ece17104-6ef6-4aac-a246-51daa756bd8e",
   "metadata": {},
   "outputs": [],
   "source": [
    "data.Altitude = data['Altitude'].apply(clean_altitude)"
   ]
  },
  {
   "cell_type": "code",
   "execution_count": 308,
   "id": "cda0f009-e15a-4ddd-ace4-9674c171e2cd",
   "metadata": {},
   "outputs": [],
   "source": [
    "data['Altitude'].apply(clean_altitude).value_counts().to_csv('cleaned_altitude.csv')\n"
   ]
  },
  {
   "cell_type": "code",
   "execution_count": 309,
   "id": "874f8d23-acd1-4a9b-b2d5-f7cbc3bcd827",
   "metadata": {},
   "outputs": [
    {
     "data": {
      "text/plain": [
       "Altitude\n",
       "1200.0    57\n",
       "1100.0    51\n",
       "1300.0    46\n",
       "1500.0    42\n",
       "1400.0    41\n",
       "          ..\n",
       "1059.0     1\n",
       "1645.0     1\n",
       "1473.0     1\n",
       "1089.0     1\n",
       "40.0       1\n",
       "Name: count, Length: 181, dtype: int64"
      ]
     },
     "execution_count": 309,
     "metadata": {},
     "output_type": "execute_result"
    }
   ],
   "source": [
    "data.Altitude.value_counts()"
   ]
  },
  {
   "cell_type": "markdown",
   "id": "158aeb17-b581-42b4-ba6b-d4adf9edbc1f",
   "metadata": {},
   "source": [
    "The approach we did was to try and filter some of the data where we knew what we could do and then return NaN where the sample had a unique format. Surely it would have been better to transform all the data, but this would take lot of time especially with a bit data set."
   ]
  },
  {
   "cell_type": "markdown",
   "id": "2b745e68-35eb-4acb-b39f-513137f0ee4b",
   "metadata": {},
   "source": [
    "### Problem 3. Column manipulation (1 point)\n",
    "Make the column names more Pythonic (which helps with the quality and... aesthetics). Convert column names to `snake_case`, i.e. `species`, `country_of_origin`, `ico_number`, etc. Try to not do it manually."
   ]
  },
  {
   "cell_type": "markdown",
   "id": "75c52b13-8b28-4984-8075-ff2ddbed121d",
   "metadata": {},
   "source": [
    "This I already did."
   ]
  },
  {
   "cell_type": "markdown",
   "id": "8c53c4c6-6eb9-4c92-bd39-89286fe4c86e",
   "metadata": {},
   "source": [
    "### Problem 4. Bag weight (1 point)\n",
    "What's up with the bag weights? Make all necessary changes to the column values. Don't forget to document your methods and assumptions."
   ]
  },
  {
   "cell_type": "markdown",
   "id": "6afc1d55-9a15-43a4-b29b-617bccc7fd32",
   "metadata": {},
   "source": [
    "Let us take a look at the bag weights."
   ]
  },
  {
   "cell_type": "code",
   "execution_count": 310,
   "id": "2e981898-1573-4056-ae63-285fd64f6c39",
   "metadata": {},
   "outputs": [
    {
     "data": {
      "text/plain": [
       "56"
      ]
     },
     "execution_count": 310,
     "metadata": {},
     "output_type": "execute_result"
    }
   ],
   "source": [
    "data.Bag_Weight.nunique()"
   ]
  },
  {
   "cell_type": "code",
   "execution_count": 311,
   "id": "552b404c-20e4-4be0-a96b-b8366e3c9967",
   "metadata": {},
   "outputs": [
    {
     "data": {
      "text/plain": [
       "Bag_Weight\n",
       "1 kg        331\n",
       "60 kg       256\n",
       "69 kg       200\n",
       "70 kg       156\n",
       "2 kg        122\n",
       "100 lbs      59\n",
       "30 kg        29\n",
       "5 lbs        23\n",
       "6            19\n",
       "20 kg        14\n",
       "50 kg        14\n",
       "10 kg        11\n",
       "59 kg        10\n",
       "1 lbs         8\n",
       "1             7\n",
       "3 lbs         7\n",
       "5 kg          7\n",
       "2 lbs         5\n",
       "4 lbs         4\n",
       "80 kg         4\n",
       "18975 kg      4\n",
       "0 lbs         3\n",
       "46 kg         3\n",
       "29 kg         2\n",
       "9000 kg       2\n",
       "25 kg         2\n",
       "66 kg         2\n",
       "35 kg         2\n",
       "12000 kg      2\n",
       "40 kg         2\n",
       "6 kg          2\n",
       "19200 kg      2\n",
       "15 kg         2\n",
       "13800 kg      1\n",
       "100 kg        1\n",
       "55 lbs        1\n",
       "4 kg          1\n",
       "67 kg         1\n",
       "350 kg        1\n",
       "3 kg          1\n",
       "8 kg          1\n",
       "80 lbs        1\n",
       "24 kg         1\n",
       "1500 kg       1\n",
       "2 kg,lbs      1\n",
       "0 kg          1\n",
       "660 kg        1\n",
       "1218 kg       1\n",
       "2             1\n",
       "18 kg         1\n",
       "150 lbs       1\n",
       "18000 kg      1\n",
       "1 kg,lbs      1\n",
       "132 lbs       1\n",
       "34 kg         1\n",
       "130 lbs       1\n",
       "Name: count, dtype: int64"
      ]
     },
     "execution_count": 311,
     "metadata": {},
     "output_type": "execute_result"
    }
   ],
   "source": [
    "data.Bag_Weight.value_counts()"
   ]
  },
  {
   "cell_type": "markdown",
   "id": "ca1093ef-e5a9-4ff6-857f-8b90c1d6d8dc",
   "metadata": {},
   "source": [
    "We see that there is a difference in the metrics. We here see how many different metrics there are, but considering we had a bigger data set we could use regex."
   ]
  },
  {
   "cell_type": "code",
   "execution_count": 312,
   "id": "a77a129b-e58e-4170-9e5c-21f51212a2dd",
   "metadata": {},
   "outputs": [
    {
     "data": {
      "text/plain": [
       "0     \n",
       "kg        1196\n",
       "lbs        114\n",
       "kg,lbs       2\n",
       "Name: count, dtype: int64"
      ]
     },
     "execution_count": 312,
     "metadata": {},
     "output_type": "execute_result"
    }
   ],
   "source": [
    "data.Bag_Weight.astype(str).str.extract(r'([a-zA-Z,]+)').value_counts()"
   ]
  },
  {
   "cell_type": "code",
   "execution_count": 313,
   "id": "1a247c71-25a6-441e-aff0-d7b857a826ef",
   "metadata": {},
   "outputs": [],
   "source": [
    "def clean_weight(value):\n",
    "    if pd.isna(value):\n",
    "        return np.nan\n",
    "\n",
    "    value = str(value).strip().lower().replace(\" \", \"\")\n",
    "    \n",
    "    if 'kg' in value:\n",
    "        value = value.replace('kg', '')\n",
    "        factor = 1\n",
    "    elif 'lbs' in value or 'lb' in value:\n",
    "        value = value.replace('lbs', '').replace('lb', '')\n",
    "        factor = 0.453592\n",
    "    else:\n",
    "        factor = 1  \n",
    "\n",
    "    try:\n",
    "        return float(value) * factor\n",
    "    except ValueError:\n",
    "        return np.nan\n"
   ]
  },
  {
   "cell_type": "code",
   "execution_count": 314,
   "id": "ece23d65-3f19-4cc2-9dcc-c17d1933690a",
   "metadata": {},
   "outputs": [],
   "source": [
    "data['Bag_Weight'] = data[\"Bag_Weight\"].apply(clean_weight)"
   ]
  },
  {
   "cell_type": "code",
   "execution_count": 315,
   "id": "2dd995c3-6d27-439a-895b-2f1248e0b798",
   "metadata": {},
   "outputs": [
    {
     "data": {
      "text/plain": [
       "0  \n",
       "nan    2\n",
       "Name: count, dtype: int64"
      ]
     },
     "execution_count": 315,
     "metadata": {},
     "output_type": "execute_result"
    }
   ],
   "source": [
    "data.Bag_Weight.astype(str).str.extract(r'([a-zA-Z]+)').value_counts()"
   ]
  },
  {
   "cell_type": "markdown",
   "id": "16b68404-3e53-49b8-acbd-6c929a1ab94c",
   "metadata": {},
   "source": [
    "Now we see that all has been transformed to kg and the 2 samples where we were not sure have been removed."
   ]
  },
  {
   "cell_type": "markdown",
   "id": "2ff1f817-8e5e-4185-a320-dde7ed2cada1",
   "metadata": {},
   "source": [
    "### Problem 5. Dates (1 point)\n",
    "This should remind you of problem 4 but it's slightly nastier. Fix the harvest years, document the process.\n",
    "\n",
    "While you're here, fix the expiration dates, and grading dates. Unlike the other column, these should be dates (`pd.to_datetime()` is your friend)."
   ]
  },
  {
   "cell_type": "code",
   "execution_count": 316,
   "id": "814dc5f9-9572-44f0-bff6-8efeb084f93d",
   "metadata": {},
   "outputs": [
    {
     "data": {
      "text/plain": [
       "Harvest_Year\n",
       "2012                        354\n",
       "2014                        233\n",
       "2013                        181\n",
       "2015                        129\n",
       "2016                        124\n",
       "2017                         70\n",
       "2013/2014                    29\n",
       "2015/2016                    28\n",
       "2011                         26\n",
       "2017 / 2018                  19\n",
       "2014/2015                    19\n",
       "2009/2010                    12\n",
       "2010                         10\n",
       "2010-2011                     6\n",
       "2016 / 2017                   6\n",
       "4T/10                         4\n",
       "March 2010                    3\n",
       "2009-2010                     3\n",
       "Mayo a Julio                  3\n",
       "4T/2010                       3\n",
       "Abril - Julio                 2\n",
       "January 2011                  2\n",
       "2011/2012                     2\n",
       "08/09 crop                    2\n",
       "December 2009-March 2010      1\n",
       "TEST                          1\n",
       "4T72010                       1\n",
       "2018                          1\n",
       "1t/2011                       1\n",
       "2016/2017                     1\n",
       "3T/2011                       1\n",
       "Spring 2011 in Colombia.      1\n",
       "Abril - Julio /2011           1\n",
       "4t/2011                       1\n",
       "2009 / 2010                   1\n",
       "47/2010                       1\n",
       "2009 - 2010                   1\n",
       "August to December            1\n",
       "May-August                    1\n",
       "4t/2010                       1\n",
       "1T/2011                       1\n",
       "January Through April         1\n",
       "Fall 2009                     1\n",
       "Sept 2009 - April 2010        1\n",
       "mmm                           1\n",
       "23 July 2010                  1\n",
       "Name: count, dtype: int64"
      ]
     },
     "execution_count": 316,
     "metadata": {},
     "output_type": "execute_result"
    }
   ],
   "source": [
    "data.Harvest_Year.value_counts()"
   ]
  },
  {
   "cell_type": "code",
   "execution_count": 317,
   "id": "49a2a65a-bbd6-4401-8beb-cfb3a25b760f",
   "metadata": {},
   "outputs": [],
   "source": [
    "count_of_harvest_year = data.Harvest_Year.count()"
   ]
  },
  {
   "cell_type": "code",
   "execution_count": 318,
   "id": "1d02668a-bc9c-4209-9c39-5fc7598fd0da",
   "metadata": {},
   "outputs": [
    {
     "data": {
      "text/plain": [
       "1292"
      ]
     },
     "execution_count": 318,
     "metadata": {},
     "output_type": "execute_result"
    }
   ],
   "source": [
    "count_of_harvest_year"
   ]
  },
  {
   "cell_type": "code",
   "execution_count": 319,
   "id": "0456e2cd-5748-4c9e-ae2d-e17c92fd66ac",
   "metadata": {},
   "outputs": [],
   "source": [
    "\n",
    "def extract_year(value):\n",
    "    # Find all 4-digit years between 1900–2099\n",
    "    years = re.findall(r'(19\\d{2}|20\\d{2})', str(value))\n",
    "    \n",
    "    if not years:\n",
    "        return np.nan  \n",
    "    elif len(years) == 1:\n",
    "        return int(years[0]) \n",
    "    else:\n",
    "        return int(years[0])  \n",
    "\n",
    "\n",
    "data['Harvest_Year'] = data['Harvest_Year'].apply(extract_year)\n"
   ]
  },
  {
   "cell_type": "markdown",
   "id": "07fdbf49-1735-4f9a-987b-e0435eae5266",
   "metadata": {},
   "source": [
    "I belive this is the best way to process the data since months would give us no information as of which year the harvest was made. We could suppose that the year is the imoportant thing here, hence the column name. However if I had more information as to why the data might be important I might have kept the months in as well. Also where the year is between two years we choose to take the first one which I am not so sure of."
   ]
  },
  {
   "cell_type": "code",
   "execution_count": 320,
   "id": "eac7e405-270e-4230-9537-3c26115fc60d",
   "metadata": {},
   "outputs": [
    {
     "data": {
      "text/plain": [
       "0       2014.0\n",
       "1       2014.0\n",
       "2          NaN\n",
       "3       2014.0\n",
       "4       2014.0\n",
       "         ...  \n",
       "1334    2016.0\n",
       "1335    2016.0\n",
       "1336    2014.0\n",
       "1337    2013.0\n",
       "1338    2013.0\n",
       "Name: Harvest_Year, Length: 1339, dtype: float64"
      ]
     },
     "execution_count": 320,
     "metadata": {},
     "output_type": "execute_result"
    }
   ],
   "source": [
    "data.Harvest_Year"
   ]
  },
  {
   "cell_type": "code",
   "execution_count": 321,
   "id": "0fcec53d-b42c-44cd-a76f-e8a53b376309",
   "metadata": {},
   "outputs": [],
   "source": [
    "count_after_filtration_harvest_year = data.Harvest_Year.count()"
   ]
  },
  {
   "cell_type": "code",
   "execution_count": 322,
   "id": "d9a7cb07-1af6-4670-ba5e-971175d8f1a5",
   "metadata": {},
   "outputs": [
    {
     "data": {
      "text/plain": [
       "1276"
      ]
     },
     "execution_count": 322,
     "metadata": {},
     "output_type": "execute_result"
    }
   ],
   "source": [
    "count_after_filtration_harvest_year"
   ]
  },
  {
   "cell_type": "code",
   "execution_count": 323,
   "id": "851dd560-bdb0-4b99-beb4-2c2a6f42e510",
   "metadata": {},
   "outputs": [
    {
     "data": {
      "text/plain": [
       "16"
      ]
     },
     "execution_count": 323,
     "metadata": {},
     "output_type": "execute_result"
    }
   ],
   "source": [
    "count_of_harvest_year - count_after_filtration_harvest_year"
   ]
  },
  {
   "cell_type": "markdown",
   "id": "af5293b2-a886-4e71-b453-f371f32f89d9",
   "metadata": {},
   "source": [
    "We have lost information from 16 samples which is:"
   ]
  },
  {
   "cell_type": "code",
   "execution_count": 324,
   "id": "8c948304-1060-4fc1-be5c-71434aeb984e",
   "metadata": {},
   "outputs": [
    {
     "data": {
      "text/plain": [
       "1.194921583271098"
      ]
     },
     "execution_count": 324,
     "metadata": {},
     "output_type": "execute_result"
    }
   ],
   "source": [
    "16/len(data)*100"
   ]
  },
  {
   "cell_type": "markdown",
   "id": "30a0b9ff-388a-42be-aad0-ba4ed07585d9",
   "metadata": {},
   "source": [
    "### Filtering other dates"
   ]
  },
  {
   "cell_type": "code",
   "execution_count": 325,
   "id": "c79f327d-c998-4cef-b5f2-485745fa75b0",
   "metadata": {},
   "outputs": [],
   "source": [
    "data[\"Expiration\"] = pd.to_datetime(data['Expiration'], format='mixed', errors='coerce')\n"
   ]
  },
  {
   "cell_type": "code",
   "execution_count": 326,
   "id": "4aa0935d-03b8-45ce-8389-66cb4be48a6f",
   "metadata": {},
   "outputs": [],
   "source": [
    "data['Grading_Date']  = pd.to_datetime(data['Grading_Date'], format='mixed', errors='coerce')"
   ]
  },
  {
   "cell_type": "markdown",
   "id": "0dff33b4-c94d-43b3-bab3-97eabb862a37",
   "metadata": {},
   "source": [
    "### Problem 6. Countries (1 point)\n",
    "How many coffees are there with unknown countries of origin? What can you do about them?"
   ]
  },
  {
   "cell_type": "code",
   "execution_count": 327,
   "id": "03e5cc56-ca6c-4414-b936-5e21940d6c69",
   "metadata": {},
   "outputs": [
    {
     "data": {
      "text/plain": [
       "1"
      ]
     },
     "execution_count": 327,
     "metadata": {},
     "output_type": "execute_result"
    }
   ],
   "source": [
    "data.Country_of_Origin.isna().sum()"
   ]
  },
  {
   "cell_type": "code",
   "execution_count": 328,
   "id": "0edf731c-5768-4b7c-a07e-bd3bb5f75e2c",
   "metadata": {},
   "outputs": [
    {
     "data": {
      "text/plain": [
       "Country_of_Origin\n",
       "Mexico                          236\n",
       "Colombia                        183\n",
       "Guatemala                       181\n",
       "Brazil                          132\n",
       "Taiwan                           75\n",
       "United States (Hawaii)           73\n",
       "Honduras                         53\n",
       "Costa Rica                       51\n",
       "Ethiopia                         44\n",
       "Tanzania, United Republic Of     40\n",
       "Uganda                           36\n",
       "Thailand                         32\n",
       "Nicaragua                        26\n",
       "Kenya                            25\n",
       "El Salvador                      21\n",
       "Indonesia                        20\n",
       "China                            16\n",
       "India                            14\n",
       "Malawi                           11\n",
       "United States                    10\n",
       "Peru                             10\n",
       "Myanmar                           8\n",
       "Vietnam                           8\n",
       "Haiti                             6\n",
       "Philippines                       5\n",
       "United States (Puerto Rico)       4\n",
       "Panama                            4\n",
       "Ecuador                           3\n",
       "Laos                              3\n",
       "Burundi                           2\n",
       "Papua New Guinea                  1\n",
       "Rwanda                            1\n",
       "Zambia                            1\n",
       "Japan                             1\n",
       "Mauritius                         1\n",
       "Cote d?Ivoire                     1\n",
       "Name: count, dtype: int64"
      ]
     },
     "execution_count": 328,
     "metadata": {},
     "output_type": "execute_result"
    }
   ],
   "source": [
    "data.Country_of_Origin.value_counts()"
   ]
  },
  {
   "cell_type": "markdown",
   "id": "f9b0d1ae-b58e-42ad-b7ec-64202b5e23e6",
   "metadata": {},
   "source": [
    "What we can see is that there is one missing country and one country where the encoding of a charachter has gone wrong."
   ]
  },
  {
   "cell_type": "markdown",
   "id": "d0aa6f30-4b93-4f23-95e0-2cafb7152c6c",
   "metadata": {},
   "source": [
    "### Problem 7. Owners (1 point)\n",
    "There are two suspicious columns, named `Owner`, and `Owner.1` (they're likely called something different after you solved problem 3). Do something about them. Is there any link to `Producer`?"
   ]
  },
  {
   "cell_type": "code",
   "execution_count": 329,
   "id": "39bc1689-33f6-4446-bfc3-c4b4e69eccf6",
   "metadata": {},
   "outputs": [
    {
     "data": {
      "text/plain": [
       "315"
      ]
     },
     "execution_count": 329,
     "metadata": {},
     "output_type": "execute_result"
    }
   ],
   "source": [
    "data.Owner.nunique()"
   ]
  },
  {
   "cell_type": "code",
   "execution_count": 330,
   "id": "77b737ef-5183-4421-9cef-a74354e78713",
   "metadata": {},
   "outputs": [
    {
     "data": {
      "text/plain": [
       "319"
      ]
     },
     "execution_count": 330,
     "metadata": {},
     "output_type": "execute_result"
    }
   ],
   "source": [
    "data.Owner_1.nunique()\n"
   ]
  },
  {
   "cell_type": "code",
   "execution_count": 331,
   "id": "8e30c176-71e3-4719-8f48-141c36d02430",
   "metadata": {},
   "outputs": [
    {
     "data": {
      "text/plain": [
       "0                      metad plc\n",
       "1                      metad plc\n",
       "2       grounds for health admin\n",
       "3            yidnekachew dabessa\n",
       "4                      metad plc\n",
       "                  ...           \n",
       "1334                 luis robles\n",
       "1335                 luis robles\n",
       "1336                 james moore\n",
       "1337               cafe politico\n",
       "1338               cafe politico\n",
       "Name: Owner, Length: 1339, dtype: object"
      ]
     },
     "execution_count": 331,
     "metadata": {},
     "output_type": "execute_result"
    }
   ],
   "source": [
    "data.Owner"
   ]
  },
  {
   "cell_type": "code",
   "execution_count": 332,
   "id": "3ac8deaa-0511-46ec-82dc-c490f9065cdf",
   "metadata": {},
   "outputs": [
    {
     "data": {
      "text/plain": [
       "0                      metad plc\n",
       "1                      metad plc\n",
       "2       Grounds for Health Admin\n",
       "3            Yidnekachew Dabessa\n",
       "4                      metad plc\n",
       "                  ...           \n",
       "1334                 Luis Robles\n",
       "1335                 Luis Robles\n",
       "1336                 James Moore\n",
       "1337               Cafe Politico\n",
       "1338               Cafe Politico\n",
       "Name: Owner_1, Length: 1339, dtype: object"
      ]
     },
     "execution_count": 332,
     "metadata": {},
     "output_type": "execute_result"
    }
   ],
   "source": [
    "data.Owner_1"
   ]
  },
  {
   "cell_type": "code",
   "execution_count": 333,
   "id": "0c2b661f-d9d4-40fd-80e2-2dae0e7b2d5b",
   "metadata": {},
   "outputs": [
    {
     "data": {
      "text/html": [
       "<div>\n",
       "<style scoped>\n",
       "    .dataframe tbody tr th:only-of-type {\n",
       "        vertical-align: middle;\n",
       "    }\n",
       "\n",
       "    .dataframe tbody tr th {\n",
       "        vertical-align: top;\n",
       "    }\n",
       "\n",
       "    .dataframe thead th {\n",
       "        text-align: right;\n",
       "    }\n",
       "</style>\n",
       "<table border=\"1\" class=\"dataframe\">\n",
       "  <thead>\n",
       "    <tr style=\"text-align: right;\">\n",
       "      <th></th>\n",
       "      <th>Owner</th>\n",
       "      <th>Owner_1</th>\n",
       "      <th>Producer</th>\n",
       "    </tr>\n",
       "  </thead>\n",
       "  <tbody>\n",
       "    <tr>\n",
       "      <th>0</th>\n",
       "      <td>metad plc</td>\n",
       "      <td>metad plc</td>\n",
       "      <td>METAD PLC</td>\n",
       "    </tr>\n",
       "    <tr>\n",
       "      <th>1</th>\n",
       "      <td>metad plc</td>\n",
       "      <td>metad plc</td>\n",
       "      <td>METAD PLC</td>\n",
       "    </tr>\n",
       "    <tr>\n",
       "      <th>2</th>\n",
       "      <td>grounds for health admin</td>\n",
       "      <td>Grounds for Health Admin</td>\n",
       "      <td>NaN</td>\n",
       "    </tr>\n",
       "    <tr>\n",
       "      <th>3</th>\n",
       "      <td>yidnekachew dabessa</td>\n",
       "      <td>Yidnekachew Dabessa</td>\n",
       "      <td>Yidnekachew Dabessa Coffee Plantation</td>\n",
       "    </tr>\n",
       "    <tr>\n",
       "      <th>4</th>\n",
       "      <td>metad plc</td>\n",
       "      <td>metad plc</td>\n",
       "      <td>METAD PLC</td>\n",
       "    </tr>\n",
       "    <tr>\n",
       "      <th>...</th>\n",
       "      <td>...</td>\n",
       "      <td>...</td>\n",
       "      <td>...</td>\n",
       "    </tr>\n",
       "    <tr>\n",
       "      <th>1334</th>\n",
       "      <td>luis robles</td>\n",
       "      <td>Luis Robles</td>\n",
       "      <td>Café Robusta del Ecuador S.A.</td>\n",
       "    </tr>\n",
       "    <tr>\n",
       "      <th>1335</th>\n",
       "      <td>luis robles</td>\n",
       "      <td>Luis Robles</td>\n",
       "      <td>Café Robusta del Ecuador S.A.</td>\n",
       "    </tr>\n",
       "    <tr>\n",
       "      <th>1336</th>\n",
       "      <td>james moore</td>\n",
       "      <td>James Moore</td>\n",
       "      <td>Cafe Cazengo</td>\n",
       "    </tr>\n",
       "    <tr>\n",
       "      <th>1337</th>\n",
       "      <td>cafe politico</td>\n",
       "      <td>Cafe Politico</td>\n",
       "      <td>NaN</td>\n",
       "    </tr>\n",
       "    <tr>\n",
       "      <th>1338</th>\n",
       "      <td>cafe politico</td>\n",
       "      <td>Cafe Politico</td>\n",
       "      <td>NaN</td>\n",
       "    </tr>\n",
       "  </tbody>\n",
       "</table>\n",
       "<p>1339 rows × 3 columns</p>\n",
       "</div>"
      ],
      "text/plain": [
       "                         Owner                   Owner_1  \\\n",
       "0                    metad plc                 metad plc   \n",
       "1                    metad plc                 metad plc   \n",
       "2     grounds for health admin  Grounds for Health Admin   \n",
       "3          yidnekachew dabessa       Yidnekachew Dabessa   \n",
       "4                    metad plc                 metad plc   \n",
       "...                        ...                       ...   \n",
       "1334               luis robles               Luis Robles   \n",
       "1335               luis robles               Luis Robles   \n",
       "1336               james moore               James Moore   \n",
       "1337             cafe politico             Cafe Politico   \n",
       "1338             cafe politico             Cafe Politico   \n",
       "\n",
       "                                   Producer  \n",
       "0                                 METAD PLC  \n",
       "1                                 METAD PLC  \n",
       "2                                       NaN  \n",
       "3     Yidnekachew Dabessa Coffee Plantation  \n",
       "4                                 METAD PLC  \n",
       "...                                     ...  \n",
       "1334          Café Robusta del Ecuador S.A.  \n",
       "1335          Café Robusta del Ecuador S.A.  \n",
       "1336                           Cafe Cazengo  \n",
       "1337                                    NaN  \n",
       "1338                                    NaN  \n",
       "\n",
       "[1339 rows x 3 columns]"
      ]
     },
     "execution_count": 333,
     "metadata": {},
     "output_type": "execute_result"
    }
   ],
   "source": [
    "data[['Owner','Owner_1','Producer']]"
   ]
  },
  {
   "cell_type": "code",
   "execution_count": 334,
   "id": "7a44a21f-3baa-4f1f-899a-3374651029f9",
   "metadata": {},
   "outputs": [
    {
     "data": {
      "text/plain": [
       "True     770\n",
       "False    569\n",
       "Name: count, dtype: int64"
      ]
     },
     "execution_count": 334,
     "metadata": {},
     "output_type": "execute_result"
    }
   ],
   "source": [
    "(data['Owner'].str.title() == data['Owner_1']).value_counts()\n"
   ]
  },
  {
   "cell_type": "code",
   "execution_count": 335,
   "id": "e7e29728-92b8-472e-8f6f-0aa12acf7c4b",
   "metadata": {},
   "outputs": [
    {
     "data": {
      "text/html": [
       "<div>\n",
       "<style scoped>\n",
       "    .dataframe tbody tr th:only-of-type {\n",
       "        vertical-align: middle;\n",
       "    }\n",
       "\n",
       "    .dataframe tbody tr th {\n",
       "        vertical-align: top;\n",
       "    }\n",
       "\n",
       "    .dataframe thead th {\n",
       "        text-align: right;\n",
       "    }\n",
       "</style>\n",
       "<table border=\"1\" class=\"dataframe\">\n",
       "  <thead>\n",
       "    <tr style=\"text-align: right;\">\n",
       "      <th></th>\n",
       "      <th>Owner</th>\n",
       "      <th>Owner_1</th>\n",
       "    </tr>\n",
       "  </thead>\n",
       "  <tbody>\n",
       "    <tr>\n",
       "      <th>0</th>\n",
       "      <td>metad plc</td>\n",
       "      <td>metad plc</td>\n",
       "    </tr>\n",
       "    <tr>\n",
       "      <th>1</th>\n",
       "      <td>metad plc</td>\n",
       "      <td>metad plc</td>\n",
       "    </tr>\n",
       "    <tr>\n",
       "      <th>2</th>\n",
       "      <td>grounds for health admin</td>\n",
       "      <td>Grounds for Health Admin</td>\n",
       "    </tr>\n",
       "    <tr>\n",
       "      <th>4</th>\n",
       "      <td>metad plc</td>\n",
       "      <td>metad plc</td>\n",
       "    </tr>\n",
       "    <tr>\n",
       "      <th>11</th>\n",
       "      <td>cqi q coffee sample representative</td>\n",
       "      <td>CQI Q Coffee Sample Representative</td>\n",
       "    </tr>\n",
       "    <tr>\n",
       "      <th>...</th>\n",
       "      <td>...</td>\n",
       "      <td>...</td>\n",
       "    </tr>\n",
       "    <tr>\n",
       "      <th>1320</th>\n",
       "      <td>ugacof</td>\n",
       "      <td>UGACOF</td>\n",
       "    </tr>\n",
       "    <tr>\n",
       "      <th>1321</th>\n",
       "      <td>ugacof</td>\n",
       "      <td>UGACOF</td>\n",
       "    </tr>\n",
       "    <tr>\n",
       "      <th>1325</th>\n",
       "      <td>ankole coffee producers coop</td>\n",
       "      <td>Ankole coffee producers coop</td>\n",
       "    </tr>\n",
       "    <tr>\n",
       "      <th>1328</th>\n",
       "      <td>kawacom uganda ltd</td>\n",
       "      <td>Kawacom Uganda LTD</td>\n",
       "    </tr>\n",
       "    <tr>\n",
       "      <th>1330</th>\n",
       "      <td>mannya coffee project</td>\n",
       "      <td>Mannya coffee project</td>\n",
       "    </tr>\n",
       "  </tbody>\n",
       "</table>\n",
       "<p>569 rows × 2 columns</p>\n",
       "</div>"
      ],
      "text/plain": [
       "                                   Owner                             Owner_1\n",
       "0                              metad plc                           metad plc\n",
       "1                              metad plc                           metad plc\n",
       "2               grounds for health admin            Grounds for Health Admin\n",
       "4                              metad plc                           metad plc\n",
       "11    cqi q coffee sample representative  CQI Q Coffee Sample Representative\n",
       "...                                  ...                                 ...\n",
       "1320                              ugacof                              UGACOF\n",
       "1321                              ugacof                              UGACOF\n",
       "1325        ankole coffee producers coop        Ankole coffee producers coop\n",
       "1328                  kawacom uganda ltd                  Kawacom Uganda LTD\n",
       "1330               mannya coffee project               Mannya coffee project\n",
       "\n",
       "[569 rows x 2 columns]"
      ]
     },
     "execution_count": 335,
     "metadata": {},
     "output_type": "execute_result"
    }
   ],
   "source": [
    "data.loc[data['Owner'].str.title() != data['Owner_1'], ['Owner', 'Owner_1']]"
   ]
  },
  {
   "cell_type": "markdown",
   "id": "ea37b808-b2b9-4793-ab7d-598323b7c501",
   "metadata": {},
   "source": [
    "From this we could simply say that Owner_1 is a more accurate version of owner where the owners are written as supposed to."
   ]
  },
  {
   "cell_type": "code",
   "execution_count": 336,
   "id": "8cf24b2c-99f3-4f7f-8bbb-988b8a34c29a",
   "metadata": {},
   "outputs": [
    {
     "data": {
      "text/plain": [
       "False    1210\n",
       "True      129\n",
       "Name: count, dtype: int64"
      ]
     },
     "execution_count": 336,
     "metadata": {},
     "output_type": "execute_result"
    }
   ],
   "source": [
    "(data['Owner_1'] == data['Producer']).value_counts()"
   ]
  },
  {
   "cell_type": "markdown",
   "id": "9e2a1e72-bcd2-4450-b28f-1f3d67126927",
   "metadata": {},
   "source": [
    "From this we see that sometimes the producer and the owner are the same. Now i am going to drop the Owner column and rename the Owner_1 column to Owner"
   ]
  },
  {
   "cell_type": "code",
   "execution_count": 337,
   "id": "f8aa0642-449d-42b6-aa44-0c7a3f4020df",
   "metadata": {},
   "outputs": [],
   "source": [
    "data.drop('Owner',axis=1)\n",
    "data.rename(columns={'Owner_1':'Owner'},inplace=True)"
   ]
  },
  {
   "cell_type": "markdown",
   "id": "30c53923-1b72-4500-af0a-47fdca9f57e9",
   "metadata": {},
   "source": [
    "### Problem 8. Coffee color by country and continent (1 point)\n",
    "Create a table which shows how many coffees of each color are there in every country. Leave the missing values as they are.\n",
    "\n",
    "**Note:** If you ask me, countries should be in rows, I prefer long tables much better than wide ones.\n",
    "\n",
    "Now do the same for continents. You know what continent each country is located in."
   ]
  },
  {
   "cell_type": "code",
   "execution_count": 338,
   "id": "72cbe6a9-ca71-4826-806d-562bc30b40d2",
   "metadata": {},
   "outputs": [],
   "source": [
    "table = data.pivot_table(\n",
    "    index = \"Country_of_Origin\",\n",
    "    columns = \"Color\",\n",
    "    aggfunc=\"size\",\n",
    "    fill_value=0\n",
    ")\n",
    "continents = {\n",
    "     'Colombia': 'South America',\n",
    "    'Ethiopia': 'Africa',\n",
    "    'Brazil': 'South America',\n",
    "    'Guatemala': 'North America',\n",
    "    'Kenya': 'Africa',\n",
    "    'Indonesia': 'Asia',\n",
    "    'Honduras': 'North America',\n",
    "}\n",
    "data['continents'] =data['Country_of_Origin'].map(continents)"
   ]
  },
  {
   "cell_type": "code",
   "execution_count": 339,
   "id": "07f6466a-da45-4fb1-96c3-251018fae354",
   "metadata": {},
   "outputs": [
    {
     "data": {
      "text/html": [
       "<div>\n",
       "<style scoped>\n",
       "    .dataframe tbody tr th:only-of-type {\n",
       "        vertical-align: middle;\n",
       "    }\n",
       "\n",
       "    .dataframe tbody tr th {\n",
       "        vertical-align: top;\n",
       "    }\n",
       "\n",
       "    .dataframe thead th {\n",
       "        text-align: right;\n",
       "    }\n",
       "</style>\n",
       "<table border=\"1\" class=\"dataframe\">\n",
       "  <thead>\n",
       "    <tr style=\"text-align: right;\">\n",
       "      <th>Color</th>\n",
       "      <th>Blue-Green</th>\n",
       "      <th>Bluish-Green</th>\n",
       "      <th>Green</th>\n",
       "    </tr>\n",
       "    <tr>\n",
       "      <th>Country_of_Origin</th>\n",
       "      <th></th>\n",
       "      <th></th>\n",
       "      <th></th>\n",
       "    </tr>\n",
       "  </thead>\n",
       "  <tbody>\n",
       "    <tr>\n",
       "      <th>Brazil</th>\n",
       "      <td>14</td>\n",
       "      <td>12</td>\n",
       "      <td>92</td>\n",
       "    </tr>\n",
       "    <tr>\n",
       "      <th>Burundi</th>\n",
       "      <td>0</td>\n",
       "      <td>0</td>\n",
       "      <td>1</td>\n",
       "    </tr>\n",
       "    <tr>\n",
       "      <th>China</th>\n",
       "      <td>0</td>\n",
       "      <td>0</td>\n",
       "      <td>16</td>\n",
       "    </tr>\n",
       "    <tr>\n",
       "      <th>Colombia</th>\n",
       "      <td>8</td>\n",
       "      <td>8</td>\n",
       "      <td>118</td>\n",
       "    </tr>\n",
       "    <tr>\n",
       "      <th>Costa Rica</th>\n",
       "      <td>10</td>\n",
       "      <td>9</td>\n",
       "      <td>28</td>\n",
       "    </tr>\n",
       "  </tbody>\n",
       "</table>\n",
       "</div>"
      ],
      "text/plain": [
       "Color              Blue-Green  Bluish-Green  Green\n",
       "Country_of_Origin                                 \n",
       "Brazil                     14            12     92\n",
       "Burundi                     0             0      1\n",
       "China                       0             0     16\n",
       "Colombia                    8             8    118\n",
       "Costa Rica                 10             9     28"
      ]
     },
     "execution_count": 339,
     "metadata": {},
     "output_type": "execute_result"
    }
   ],
   "source": [
    "table.head()"
   ]
  },
  {
   "cell_type": "code",
   "execution_count": 340,
   "id": "bfed9047-e860-4dbb-8e22-d4acaf03943a",
   "metadata": {},
   "outputs": [],
   "source": [
    "color_by_continent = data.pivot_table(\n",
    "    index='continents',\n",
    "    columns='Color',\n",
    "    aggfunc='size',\n",
    "    fill_value=0\n",
    ")"
   ]
  },
  {
   "cell_type": "code",
   "execution_count": 341,
   "id": "98f59e43-3d5d-4922-80ac-cfa6a05262f1",
   "metadata": {},
   "outputs": [
    {
     "data": {
      "text/html": [
       "<div>\n",
       "<style scoped>\n",
       "    .dataframe tbody tr th:only-of-type {\n",
       "        vertical-align: middle;\n",
       "    }\n",
       "\n",
       "    .dataframe tbody tr th {\n",
       "        vertical-align: top;\n",
       "    }\n",
       "\n",
       "    .dataframe thead th {\n",
       "        text-align: right;\n",
       "    }\n",
       "</style>\n",
       "<table border=\"1\" class=\"dataframe\">\n",
       "  <thead>\n",
       "    <tr style=\"text-align: right;\">\n",
       "      <th>Color</th>\n",
       "      <th>Blue-Green</th>\n",
       "      <th>Bluish-Green</th>\n",
       "      <th>Green</th>\n",
       "    </tr>\n",
       "    <tr>\n",
       "      <th>continents</th>\n",
       "      <th></th>\n",
       "      <th></th>\n",
       "      <th></th>\n",
       "    </tr>\n",
       "  </thead>\n",
       "  <tbody>\n",
       "    <tr>\n",
       "      <th>Africa</th>\n",
       "      <td>3</td>\n",
       "      <td>8</td>\n",
       "      <td>29</td>\n",
       "    </tr>\n",
       "    <tr>\n",
       "      <th>Asia</th>\n",
       "      <td>4</td>\n",
       "      <td>3</td>\n",
       "      <td>6</td>\n",
       "    </tr>\n",
       "    <tr>\n",
       "      <th>North America</th>\n",
       "      <td>5</td>\n",
       "      <td>9</td>\n",
       "      <td>206</td>\n",
       "    </tr>\n",
       "    <tr>\n",
       "      <th>South America</th>\n",
       "      <td>22</td>\n",
       "      <td>20</td>\n",
       "      <td>210</td>\n",
       "    </tr>\n",
       "  </tbody>\n",
       "</table>\n",
       "</div>"
      ],
      "text/plain": [
       "Color          Blue-Green  Bluish-Green  Green\n",
       "continents                                    \n",
       "Africa                  3             8     29\n",
       "Asia                    4             3      6\n",
       "North America           5             9    206\n",
       "South America          22            20    210"
      ]
     },
     "execution_count": 341,
     "metadata": {},
     "output_type": "execute_result"
    }
   ],
   "source": [
    "color_by_continent"
   ]
  },
  {
   "cell_type": "markdown",
   "id": "27095ced-7179-4ee4-94d3-7d94450b4120",
   "metadata": {},
   "source": [
    "### Problem 9. Ratings (1 point)\n",
    "The columns `Aroma`, `Flavor`, etc., up to `Moisture` represent subjective ratings. Explore them. Show the means and range; draw histograms and / or boxplots as needed. You can even try correlations if you want. What's up with all those ratings?"
   ]
  },
  {
   "cell_type": "code",
   "execution_count": 342,
   "id": "5e8a4388-f789-4b6f-9d84-33fd765651de",
   "metadata": {},
   "outputs": [
    {
     "data": {
      "text/plain": [
       "count    1339.000000\n",
       "mean        7.566706\n",
       "std         0.377560\n",
       "min         0.000000\n",
       "25%         7.420000\n",
       "50%         7.580000\n",
       "75%         7.750000\n",
       "max         8.750000\n",
       "Name: Aroma, dtype: float64"
      ]
     },
     "execution_count": 342,
     "metadata": {},
     "output_type": "execute_result"
    }
   ],
   "source": [
    "data.Aroma.describe()"
   ]
  },
  {
   "cell_type": "code",
   "execution_count": 343,
   "id": "09a7515b-1057-45d3-83df-9c369416c759",
   "metadata": {},
   "outputs": [
    {
     "data": {
      "text/plain": [
       "40"
      ]
     },
     "execution_count": 343,
     "metadata": {},
     "output_type": "execute_result"
    }
   ],
   "source": [
    "data[data['Aroma'] <7].shape[0]"
   ]
  },
  {
   "cell_type": "code",
   "execution_count": 344,
   "id": "759f66b0-76a2-4c42-ad1e-ca52230b5aa1",
   "metadata": {},
   "outputs": [
    {
     "data": {
      "image/png": "[encoded data removed]",
      "text/plain": [
       "<Figure size 640x480 with 1 Axes>"
      ]
     },
     "metadata": {},
     "output_type": "display_data"
    }
   ],
   "source": [
    "plt.boxplot(data=data,x='Aroma')\n",
    "plt.show()"
   ]
  },
  {
   "cell_type": "markdown",
   "id": "2b8f7746-e44e-4a16-a2cb-7f6bb43e375c",
   "metadata": {},
   "source": [
    "It is vissible that there is a value at zero which is very peculiar. We could consider it an outlier. Lets try to get rid of it and see what happens."
   ]
  },
  {
   "cell_type": "code",
   "execution_count": 345,
   "id": "eb2d887b-b36c-4152-83a8-cd984b97405d",
   "metadata": {},
   "outputs": [],
   "source": [
    "data = data[data[\"Aroma\"]>5]"
   ]
  },
  {
   "cell_type": "code",
   "execution_count": 346,
   "id": "c87e462c-a7b8-4bf7-8c4f-712bf1db748a",
   "metadata": {},
   "outputs": [
    {
     "data": {
      "text/plain": [
       "{'whiskers': [<matplotlib.lines.Line2D at 0x29874175ea0>,\n",
       "  <matplotlib.lines.Line2D at 0x29874175c00>],\n",
       " 'caps': [<matplotlib.lines.Line2D at 0x29873fac6d0>,\n",
       "  <matplotlib.lines.Line2D at 0x29874175e70>],\n",
       " 'boxes': [<matplotlib.lines.Line2D at 0x29874176e90>],\n",
       " 'medians': [<matplotlib.lines.Line2D at 0x29874177fa0>],\n",
       " 'fliers': [<matplotlib.lines.Line2D at 0x29874177190>],\n",
       " 'means': []}"
      ]
     },
     "execution_count": 346,
     "metadata": {},
     "output_type": "execute_result"
    },
    {
     "data": {
      "image/png": "[encoded data removed]",
      "text/plain": [
       "<Figure size 640x480 with 1 Axes>"
      ]
     },
     "metadata": {},
     "output_type": "display_data"
    }
   ],
   "source": [
    "plt.boxplot(data=data,x=\"Aroma\")"
   ]
  },
  {
   "cell_type": "markdown",
   "id": "92054218-978d-48c6-b7aa-36226837354c",
   "metadata": {},
   "source": [
    "### Problem 10. High-level errors (1 point)\n",
    "Check the countries against region names, altitudes, and companies. Are there any discrepancies (e.g. human errors, like a region not matching the country)? Take a look at the (cleaned) altitudes; there has been a lot of preprocessing done to them. Was it done correctly?"
   ]
  },
  {
   "cell_type": "code",
   "execution_count": null,
   "id": "a971e5dd-4bb1-4ad6-bcbc-3cceab758f5d",
   "metadata": {},
   "outputs": [],
   "source": []
  },
  {
   "cell_type": "markdown",
   "id": "3c3b5118-9f8e-45c2-a200-1be89fa4b3bf",
   "metadata": {},
   "source": [
    "### * Problem 11. Clean and explore at will\n",
    "The dataset claimed to be clean, but we were able to discover a lot of things to fix and do better.\n",
    "\n",
    "Play around with the data as much as you wish, and if you find variables to tidy up and clean - by all means, do that!"
   ]
  },
  {
   "cell_type": "code",
   "execution_count": null,
   "id": "928732cf-7ef4-471a-9818-139dd519eb45",
   "metadata": {},
   "outputs": [],
   "source": []
  }
 ],
 "metadata": {
  "kernelspec": {
   "display_name": "Python 3 (ipykernel)",
   "language": "python",
   "name": "python3"
  },
  "language_info": {
   "codemirror_mode": {
    "name": "ipython",
    "version": 3
   },
   "file_extension": ".py",
   "mimetype": "text/x-python",
   "name": "python",
   "nbconvert_exporter": "python",
   "pygments_lexer": "ipython3",
   "version": "3.10.0"
  }
 },
 "nbformat": 4,
 "nbformat_minor": 5
}
