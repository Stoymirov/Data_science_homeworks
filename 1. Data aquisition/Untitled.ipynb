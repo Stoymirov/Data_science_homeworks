{
 "cells": [
  {
   "cell_type": "code",
   "execution_count": 86,
   "id": "1ec36d6f-236d-475f-817b-128ac18e3d6f",
   "metadata": {},
   "outputs": [],
   "source": [
    "import matplotlib.pyplot as plt\n",
    "import numpy as np\n",
    "import pandas as pd\n",
    "import sqlite3\n",
    "\n",
    "import dask.dataframe as dd"
   ]
  },
  {
   "cell_type": "markdown",
   "id": "317e1244-22b5-44d5-a208-b778440b03c0",
   "metadata": {},
   "source": [
    "# Data Acquisition"
   ]
  },
  {
   "cell_type": "markdown",
   "id": "313bc583-25e8-4310-b755-5a45d5474b6d",
   "metadata": {},
   "source": [
    "## Live Demos"
   ]
  },
  {
   "cell_type": "code",
   "execution_count": 78,
   "id": "1da1d9bf-ddc9-42ce-a544-0141b68914ee",
   "metadata": {},
   "outputs": [],
   "source": [
    " # books_data = pd.read_csv(\n",
    " #     \"Books.csv\",\n",
    " #     na_values=[\"Unknown\",\"No rating\"],\n",
    " #     header=None,names=[\"book_title\",...])"
   ]
  },
  {
   "cell_type": "code",
   "execution_count": 83,
   "id": "ea0b7bec-3dbe-4fe6-b91d-a67c429485bf",
   "metadata": {},
   "outputs": [],
   "source": [
    "books_data = pd.read_csv(\"Books.csv\",na_values=[\"Unknown\",\"No rating\"])"
   ]
  },
  {
   "cell_type": "code",
   "execution_count": null,
   "id": "90723719-6e02-4fb5-b51e-d06702ea09ad",
   "metadata": {},
   "outputs": [],
   "source": []
  },
  {
   "cell_type": "code",
   "execution_count": 27,
   "id": "3fef0c29-c88c-4c75-8f19-7b8d1189600f",
   "metadata": {},
   "outputs": [
    {
     "data": {
      "text/html": [
       "<div>\n",
       "<style scoped>\n",
       "    .dataframe tbody tr th:only-of-type {\n",
       "        vertical-align: middle;\n",
       "    }\n",
       "\n",
       "    .dataframe tbody tr th {\n",
       "        vertical-align: top;\n",
       "    }\n",
       "\n",
       "    .dataframe thead th {\n",
       "        text-align: right;\n",
       "    }\n",
       "</style>\n",
       "<table border=\"1\" class=\"dataframe\">\n",
       "  <thead>\n",
       "    <tr style=\"text-align: right;\">\n",
       "      <th></th>\n",
       "      <th>title</th>\n",
       "      <th>author</th>\n",
       "      <th>pages</th>\n",
       "      <th>genre</th>\n",
       "      <th>description</th>\n",
       "      <th>published_date</th>\n",
       "      <th>publisher</th>\n",
       "      <th>language</th>\n",
       "      <th>average_rating</th>\n",
       "      <th>ratings_count</th>\n",
       "      <th>thumbnail</th>\n",
       "    </tr>\n",
       "  </thead>\n",
       "  <tbody>\n",
       "    <tr>\n",
       "      <th>0</th>\n",
       "      <td>Fictional Points of View</td>\n",
       "      <td>Peter Lamarque</td>\n",
       "      <td>252.0</td>\n",
       "      <td>Literary Criticism</td>\n",
       "      <td>The volume focuses on a wide range of thinkers...</td>\n",
       "      <td>1996</td>\n",
       "      <td>Cornell University Press</td>\n",
       "      <td>en</td>\n",
       "      <td>No rating</td>\n",
       "      <td>0</td>\n",
       "      <td>http://books.google.com/books/content?id=rh-om...</td>\n",
       "    </tr>\n",
       "    <tr>\n",
       "      <th>1</th>\n",
       "      <td>Science Fiction and Fantasy Literature</td>\n",
       "      <td>R. Reginald, Douglas Menville, Mary A. Burgess</td>\n",
       "      <td>802.0</td>\n",
       "      <td>Reference</td>\n",
       "      <td>Science Fiction and Fantasy Literature, A Chec...</td>\n",
       "      <td>2010-09-01</td>\n",
       "      <td>Wildside Press LLC</td>\n",
       "      <td>en</td>\n",
       "      <td>No rating</td>\n",
       "      <td>0</td>\n",
       "      <td>http://books.google.com/books/content?id=P8zW2...</td>\n",
       "    </tr>\n",
       "    <tr>\n",
       "      <th>2</th>\n",
       "      <td>Library of Congress Subject Headings</td>\n",
       "      <td>Library of Congress. Cataloging Policy and Sup...</td>\n",
       "      <td>1662.0</td>\n",
       "      <td>Subject headings, Library of Congress</td>\n",
       "      <td>No description available</td>\n",
       "      <td>2004</td>\n",
       "      <td>Unknown Publisher</td>\n",
       "      <td>en</td>\n",
       "      <td>No rating</td>\n",
       "      <td>0</td>\n",
       "      <td>http://books.google.com/books/content?id=pEhkh...</td>\n",
       "    </tr>\n",
       "    <tr>\n",
       "      <th>3</th>\n",
       "      <td>Library of Congress Subject Headings</td>\n",
       "      <td>Library of Congress</td>\n",
       "      <td>1512.0</td>\n",
       "      <td>Subject headings, Library of Congress</td>\n",
       "      <td>No description available</td>\n",
       "      <td>2007</td>\n",
       "      <td>Unknown Publisher</td>\n",
       "      <td>en</td>\n",
       "      <td>No rating</td>\n",
       "      <td>0</td>\n",
       "      <td>http://books.google.com/books/content?id=FgAjF...</td>\n",
       "    </tr>\n",
       "    <tr>\n",
       "      <th>4</th>\n",
       "      <td>Fictional Space in the Modernist and Post-mode...</td>\n",
       "      <td>Carl Darryl Malmgren</td>\n",
       "      <td>248.0</td>\n",
       "      <td>Fiction</td>\n",
       "      <td>Fictional space is the imaginal expanse of fie...</td>\n",
       "      <td>1985</td>\n",
       "      <td>Bucknell University Press</td>\n",
       "      <td>en</td>\n",
       "      <td>No rating</td>\n",
       "      <td>0</td>\n",
       "      <td>http://books.google.com/books/content?id=KXzoz...</td>\n",
       "    </tr>\n",
       "  </tbody>\n",
       "</table>\n",
       "</div>"
      ],
      "text/plain": [
       "                                               title  \\\n",
       "0                           Fictional Points of View   \n",
       "1             Science Fiction and Fantasy Literature   \n",
       "2               Library of Congress Subject Headings   \n",
       "3               Library of Congress Subject Headings   \n",
       "4  Fictional Space in the Modernist and Post-mode...   \n",
       "\n",
       "                                              author   pages  \\\n",
       "0                                     Peter Lamarque   252.0   \n",
       "1     R. Reginald, Douglas Menville, Mary A. Burgess   802.0   \n",
       "2  Library of Congress. Cataloging Policy and Sup...  1662.0   \n",
       "3                                Library of Congress  1512.0   \n",
       "4                               Carl Darryl Malmgren   248.0   \n",
       "\n",
       "                                   genre  \\\n",
       "0                     Literary Criticism   \n",
       "1                              Reference   \n",
       "2  Subject headings, Library of Congress   \n",
       "3  Subject headings, Library of Congress   \n",
       "4                                Fiction   \n",
       "\n",
       "                                         description published_date  \\\n",
       "0  The volume focuses on a wide range of thinkers...           1996   \n",
       "1  Science Fiction and Fantasy Literature, A Chec...     2010-09-01   \n",
       "2                           No description available           2004   \n",
       "3                           No description available           2007   \n",
       "4  Fictional space is the imaginal expanse of fie...           1985   \n",
       "\n",
       "                   publisher language average_rating  ratings_count  \\\n",
       "0   Cornell University Press       en      No rating              0   \n",
       "1         Wildside Press LLC       en      No rating              0   \n",
       "2          Unknown Publisher       en      No rating              0   \n",
       "3          Unknown Publisher       en      No rating              0   \n",
       "4  Bucknell University Press       en      No rating              0   \n",
       "\n",
       "                                           thumbnail  \n",
       "0  http://books.google.com/books/content?id=rh-om...  \n",
       "1  http://books.google.com/books/content?id=P8zW2...  \n",
       "2  http://books.google.com/books/content?id=pEhkh...  \n",
       "3  http://books.google.com/books/content?id=FgAjF...  \n",
       "4  http://books.google.com/books/content?id=KXzoz...  "
      ]
     },
     "execution_count": 27,
     "metadata": {},
     "output_type": "execute_result"
    }
   ],
   "source": [
    "books_data.head()"
   ]
  },
  {
   "cell_type": "code",
   "execution_count": 28,
   "id": "f1065008-1de6-43f8-abc3-7ec38109257d",
   "metadata": {},
   "outputs": [
    {
     "data": {
      "text/plain": [
       "(2049, 11)"
      ]
     },
     "execution_count": 28,
     "metadata": {},
     "output_type": "execute_result"
    }
   ],
   "source": [
    "books_data.shape"
   ]
  },
  {
   "cell_type": "code",
   "execution_count": 74,
   "id": "54e6eb19-00e1-412d-902d-64b3545e4c59",
   "metadata": {},
   "outputs": [
    {
     "data": {
      "text/plain": [
       "pandas.io.parsers.readers.TextFileReader"
      ]
     },
     "execution_count": 74,
     "metadata": {},
     "output_type": "execute_result"
    }
   ],
   "source": [
    "type(books_data)"
   ]
  },
  {
   "cell_type": "code",
   "execution_count": 30,
   "id": "53e75755-69ed-4816-8125-b43a98b1941d",
   "metadata": {},
   "outputs": [
    {
     "data": {
      "text/plain": [
       "pandas.core.series.Series"
      ]
     },
     "execution_count": 30,
     "metadata": {},
     "output_type": "execute_result"
    }
   ],
   "source": [
    "type(books_data.title)"
   ]
  },
  {
   "cell_type": "code",
   "execution_count": 31,
   "id": "6f138f9a-b62b-4529-b2b1-f954e286fc33",
   "metadata": {},
   "outputs": [
    {
     "data": {
      "text/html": [
       "<div>\n",
       "<style scoped>\n",
       "    .dataframe tbody tr th:only-of-type {\n",
       "        vertical-align: middle;\n",
       "    }\n",
       "\n",
       "    .dataframe tbody tr th {\n",
       "        vertical-align: top;\n",
       "    }\n",
       "\n",
       "    .dataframe thead th {\n",
       "        text-align: right;\n",
       "    }\n",
       "</style>\n",
       "<table border=\"1\" class=\"dataframe\">\n",
       "  <thead>\n",
       "    <tr style=\"text-align: right;\">\n",
       "      <th></th>\n",
       "      <th>name</th>\n",
       "      <th>age</th>\n",
       "    </tr>\n",
       "  </thead>\n",
       "  <tbody>\n",
       "    <tr>\n",
       "      <th>0</th>\n",
       "      <td>Michael</td>\n",
       "      <td>20</td>\n",
       "    </tr>\n",
       "    <tr>\n",
       "      <th>1</th>\n",
       "      <td>Ivan</td>\n",
       "      <td>12</td>\n",
       "    </tr>\n",
       "  </tbody>\n",
       "</table>\n",
       "</div>"
      ],
      "text/plain": [
       "      name  age\n",
       "0  Michael   20\n",
       "1     Ivan   12"
      ]
     },
     "execution_count": 31,
     "metadata": {},
     "output_type": "execute_result"
    }
   ],
   "source": [
    "\n",
    "pd.DataFrame({\n",
    "    \"name\":[\"Michael\",\"Ivan\"],\n",
    "    \"age\":[20,12]\n",
    "})"
   ]
  },
  {
   "cell_type": "code",
   "execution_count": 32,
   "id": "de5cf1ca-5069-4374-b719-3e8e50957f82",
   "metadata": {},
   "outputs": [
    {
     "data": {
      "text/plain": [
       "title              object\n",
       "author             object\n",
       "pages             float64\n",
       "genre              object\n",
       "description        object\n",
       "published_date     object\n",
       "publisher          object\n",
       "language           object\n",
       "average_rating     object\n",
       "ratings_count       int64\n",
       "thumbnail          object\n",
       "dtype: object"
      ]
     },
     "execution_count": 32,
     "metadata": {},
     "output_type": "execute_result"
    }
   ],
   "source": [
    "books_data.dtypes"
   ]
  },
  {
   "cell_type": "code",
   "execution_count": 33,
   "id": "fcb89cb5-5d73-4db6-b5b0-f2adda4f08df",
   "metadata": {},
   "outputs": [],
   "source": [
    "books_data.pages = books_data.pages.replace(\"Unknown\",np.nan)\n"
   ]
  },
  {
   "cell_type": "code",
   "execution_count": 34,
   "id": "4ae6b38b-9394-47a1-8b03-53cd4cea5898",
   "metadata": {},
   "outputs": [
    {
     "data": {
      "text/plain": [
       "0        252.0\n",
       "1        802.0\n",
       "2       1662.0\n",
       "3       1512.0\n",
       "4        248.0\n",
       "         ...  \n",
       "2044     256.0\n",
       "2045     608.0\n",
       "2046     512.0\n",
       "2047     448.0\n",
       "2048     256.0\n",
       "Name: pages, Length: 2049, dtype: float64"
      ]
     },
     "execution_count": 34,
     "metadata": {},
     "output_type": "execute_result"
    }
   ],
   "source": [
    "books_data.pages.astype(float)"
   ]
  },
  {
   "cell_type": "code",
   "execution_count": 35,
   "id": "4d2edab3-56e9-4f86-806f-c84a645e4fa2",
   "metadata": {},
   "outputs": [
    {
     "data": {
      "text/plain": [
       "published_date\n",
       "10.0    1142\n",
       "4.0      711\n",
       "7.0      108\n",
       "9.0        1\n",
       "25.0       1\n",
       "Name: count, dtype: int64"
      ]
     },
     "execution_count": 35,
     "metadata": {},
     "output_type": "execute_result"
    }
   ],
   "source": [
    "books_data.published_date.str.len().value_counts()"
   ]
  },
  {
   "cell_type": "code",
   "execution_count": 37,
   "id": "03ff0acb-5118-4e2f-9065-48d5777169cc",
   "metadata": {},
   "outputs": [
    {
     "data": {
      "text/html": [
       "<div>\n",
       "<style scoped>\n",
       "    .dataframe tbody tr th:only-of-type {\n",
       "        vertical-align: middle;\n",
       "    }\n",
       "\n",
       "    .dataframe tbody tr th {\n",
       "        vertical-align: top;\n",
       "    }\n",
       "\n",
       "    .dataframe thead th {\n",
       "        text-align: right;\n",
       "    }\n",
       "</style>\n",
       "<table border=\"1\" class=\"dataframe\">\n",
       "  <thead>\n",
       "    <tr style=\"text-align: right;\">\n",
       "      <th></th>\n",
       "      <th>title</th>\n",
       "      <th>author</th>\n",
       "      <th>pages</th>\n",
       "      <th>genre</th>\n",
       "      <th>description</th>\n",
       "      <th>published_date</th>\n",
       "      <th>publisher</th>\n",
       "      <th>language</th>\n",
       "      <th>average_rating</th>\n",
       "      <th>ratings_count</th>\n",
       "      <th>thumbnail</th>\n",
       "    </tr>\n",
       "  </thead>\n",
       "  <tbody>\n",
       "    <tr>\n",
       "      <th>1820</th>\n",
       "      <td>L'amore bugiardo</td>\n",
       "      <td>Gillian Flynn</td>\n",
       "      <td>528.0</td>\n",
       "      <td>Fiction</td>\n",
       "      <td>DA QUESTO LIBRO IL FILM DIRETTO DA DAVID FINCH...</td>\n",
       "      <td>2012-12-13T00:00:00+01:00</td>\n",
       "      <td>Rizzoli First</td>\n",
       "      <td>it</td>\n",
       "      <td>No rating</td>\n",
       "      <td>0</td>\n",
       "      <td>http://books.google.com/books/content?id=8eTf5...</td>\n",
       "    </tr>\n",
       "  </tbody>\n",
       "</table>\n",
       "</div>"
      ],
      "text/plain": [
       "                 title         author  pages    genre  \\\n",
       "1820  L'amore bugiardo  Gillian Flynn  528.0  Fiction   \n",
       "\n",
       "                                            description  \\\n",
       "1820  DA QUESTO LIBRO IL FILM DIRETTO DA DAVID FINCH...   \n",
       "\n",
       "                 published_date      publisher language average_rating  \\\n",
       "1820  2012-12-13T00:00:00+01:00  Rizzoli First       it      No rating   \n",
       "\n",
       "      ratings_count                                          thumbnail  \n",
       "1820              0  http://books.google.com/books/content?id=8eTf5...  "
      ]
     },
     "execution_count": 37,
     "metadata": {},
     "output_type": "execute_result"
    }
   ],
   "source": [
    "books_data[\n",
    "books_data.published_date.str.len() ==25\n",
    "]"
   ]
  },
  {
   "cell_type": "code",
   "execution_count": 39,
   "id": "824db515-6ade-4f4f-aa63-fcd60d1d5d18",
   "metadata": {},
   "outputs": [
    {
     "data": {
      "text/plain": [
       "0       NaN\n",
       "1       NaN\n",
       "2       NaN\n",
       "3       NaN\n",
       "4       NaN\n",
       "       ... \n",
       "2044    4.0\n",
       "2045    4.1\n",
       "2046    4.2\n",
       "2047    4.0\n",
       "2048    4.2\n",
       "Name: average_rating, Length: 2049, dtype: float64"
      ]
     },
     "execution_count": 39,
     "metadata": {},
     "output_type": "execute_result"
    }
   ],
   "source": [
    "books_data.average_rating"
   ]
  },
  {
   "cell_type": "code",
   "execution_count": 45,
   "id": "1d1cf5e2-61d6-439b-bee3-a10085d9f814",
   "metadata": {},
   "outputs": [
    {
     "data": {
      "image/png": "[encoded data removed]",
      "text/plain": [
       "<Figure size 640x480 with 1 Axes>"
      ]
     },
     "metadata": {},
     "output_type": "display_data"
    }
   ],
   "source": [
    "plt.hist(data=books_data,x=\"average_rating\",bins=\"auto\")\n",
    "plt.show()"
   ]
  },
  {
   "cell_type": "code",
   "execution_count": 48,
   "id": "33863bd7-346a-4703-91a9-aa5adcde06e3",
   "metadata": {},
   "outputs": [
    {
     "data": {
      "text/plain": [
       "average_rating\n",
       "5.0    92\n",
       "4.0    62\n",
       "4.5    26\n",
       "3.0    21\n",
       "1.0    15\n",
       "3.5    14\n",
       "4.2    13\n",
       "4.1    12\n",
       "4.3    10\n",
       "2.0     6\n",
       "4.4     4\n",
       "2.5     3\n",
       "Name: count, dtype: int64"
      ]
     },
     "execution_count": 48,
     "metadata": {},
     "output_type": "execute_result"
    }
   ],
   "source": [
    "books_data.average_rating.value_counts()"
   ]
  },
  {
   "cell_type": "code",
   "execution_count": 54,
   "id": "69f33759-49dd-4f5b-a6c5-78070418bde4",
   "metadata": {},
   "outputs": [
    {
     "data": {
      "text/plain": [
       "86.43240605173256"
      ]
     },
     "execution_count": 54,
     "metadata": {},
     "output_type": "execute_result"
    }
   ],
   "source": [
    "sum(books_data.average_rating.isna()) / len(books_data) *100"
   ]
  },
  {
   "cell_type": "code",
   "execution_count": 55,
   "id": "c5dee2a1-7fad-4c4c-88c4-b65c64739726",
   "metadata": {},
   "outputs": [
    {
     "data": {
      "text/plain": [
       "-1.5865345534785174"
      ]
     },
     "execution_count": 55,
     "metadata": {},
     "output_type": "execute_result"
    }
   ],
   "source": [
    "books_data.average_rating.skew()"
   ]
  },
  {
   "cell_type": "code",
   "execution_count": null,
   "id": "d17c5ec1-c93c-4dcd-b47a-554f3031eff4",
   "metadata": {},
   "outputs": [],
   "source": [
    "pd.read_excel(sheet_name= None)"
   ]
  },
  {
   "cell_type": "code",
   "execution_count": 62,
   "id": "b8b54636-4fb2-4d8d-bcff-1bee492c9799",
   "metadata": {},
   "outputs": [
    {
     "name": "stdout",
     "output_type": "stream",
     "text": [
      "<sqlite3.Connection object at 0x000001C5E1A55030>\n"
     ]
    }
   ],
   "source": [
    "con =sqlite3.connect(\"sqlite-sakila.db\")\n"
   ]
  },
  {
   "cell_type": "code",
   "execution_count": 68,
   "id": "3c403f73-99a2-4a1b-9404-ed69cef202c3",
   "metadata": {},
   "outputs": [
    {
     "data": {
      "text/html": [
       "<div>\n",
       "<style scoped>\n",
       "    .dataframe tbody tr th:only-of-type {\n",
       "        vertical-align: middle;\n",
       "    }\n",
       "\n",
       "    .dataframe tbody tr th {\n",
       "        vertical-align: top;\n",
       "    }\n",
       "\n",
       "    .dataframe thead th {\n",
       "        text-align: right;\n",
       "    }\n",
       "</style>\n",
       "<table border=\"1\" class=\"dataframe\">\n",
       "  <thead>\n",
       "    <tr style=\"text-align: right;\">\n",
       "      <th></th>\n",
       "      <th>film_id</th>\n",
       "      <th>title</th>\n",
       "      <th>description</th>\n",
       "      <th>release_year</th>\n",
       "      <th>language_id</th>\n",
       "      <th>original_language_id</th>\n",
       "      <th>rental_duration</th>\n",
       "      <th>rental_rate</th>\n",
       "      <th>length</th>\n",
       "      <th>replacement_cost</th>\n",
       "      <th>rating</th>\n",
       "      <th>special_features</th>\n",
       "      <th>last_update</th>\n",
       "      <th>language_id</th>\n",
       "      <th>name</th>\n",
       "      <th>last_update</th>\n",
       "    </tr>\n",
       "  </thead>\n",
       "  <tbody>\n",
       "    <tr>\n",
       "      <th>0</th>\n",
       "      <td>1</td>\n",
       "      <td>ACADEMY DINOSAUR</td>\n",
       "      <td>A Epic Drama of a Feminist And a Mad Scientist...</td>\n",
       "      <td>2006</td>\n",
       "      <td>1</td>\n",
       "      <td>None</td>\n",
       "      <td>6</td>\n",
       "      <td>0.99</td>\n",
       "      <td>86</td>\n",
       "      <td>20.99</td>\n",
       "      <td>PG</td>\n",
       "      <td>Deleted Scenes,Behind the Scenes</td>\n",
       "      <td>2021-03-06 15:52:00</td>\n",
       "      <td>1</td>\n",
       "      <td>English</td>\n",
       "      <td>2021-03-06 15:51:48</td>\n",
       "    </tr>\n",
       "    <tr>\n",
       "      <th>1</th>\n",
       "      <td>2</td>\n",
       "      <td>ACE GOLDFINGER</td>\n",
       "      <td>A Astounding Epistle of a Database Administrat...</td>\n",
       "      <td>2006</td>\n",
       "      <td>1</td>\n",
       "      <td>None</td>\n",
       "      <td>3</td>\n",
       "      <td>4.99</td>\n",
       "      <td>48</td>\n",
       "      <td>12.99</td>\n",
       "      <td>G</td>\n",
       "      <td>Trailers,Deleted Scenes</td>\n",
       "      <td>2021-03-06 15:52:00</td>\n",
       "      <td>1</td>\n",
       "      <td>English</td>\n",
       "      <td>2021-03-06 15:51:48</td>\n",
       "    </tr>\n",
       "    <tr>\n",
       "      <th>2</th>\n",
       "      <td>3</td>\n",
       "      <td>ADAPTATION HOLES</td>\n",
       "      <td>A Astounding Reflection of a Lumberjack And a ...</td>\n",
       "      <td>2006</td>\n",
       "      <td>1</td>\n",
       "      <td>None</td>\n",
       "      <td>7</td>\n",
       "      <td>2.99</td>\n",
       "      <td>50</td>\n",
       "      <td>18.99</td>\n",
       "      <td>NC-17</td>\n",
       "      <td>Trailers,Deleted Scenes</td>\n",
       "      <td>2021-03-06 15:52:00</td>\n",
       "      <td>1</td>\n",
       "      <td>English</td>\n",
       "      <td>2021-03-06 15:51:48</td>\n",
       "    </tr>\n",
       "    <tr>\n",
       "      <th>3</th>\n",
       "      <td>4</td>\n",
       "      <td>AFFAIR PREJUDICE</td>\n",
       "      <td>A Fanciful Documentary of a Frisbee And a Lumb...</td>\n",
       "      <td>2006</td>\n",
       "      <td>1</td>\n",
       "      <td>None</td>\n",
       "      <td>5</td>\n",
       "      <td>2.99</td>\n",
       "      <td>117</td>\n",
       "      <td>26.99</td>\n",
       "      <td>G</td>\n",
       "      <td>Commentaries,Behind the Scenes</td>\n",
       "      <td>2021-03-06 15:52:00</td>\n",
       "      <td>1</td>\n",
       "      <td>English</td>\n",
       "      <td>2021-03-06 15:51:48</td>\n",
       "    </tr>\n",
       "    <tr>\n",
       "      <th>4</th>\n",
       "      <td>5</td>\n",
       "      <td>AFRICAN EGG</td>\n",
       "      <td>A Fast-Paced Documentary of a Pastry Chef And ...</td>\n",
       "      <td>2006</td>\n",
       "      <td>1</td>\n",
       "      <td>None</td>\n",
       "      <td>6</td>\n",
       "      <td>2.99</td>\n",
       "      <td>130</td>\n",
       "      <td>22.99</td>\n",
       "      <td>G</td>\n",
       "      <td>Deleted Scenes</td>\n",
       "      <td>2021-03-06 15:52:00</td>\n",
       "      <td>1</td>\n",
       "      <td>English</td>\n",
       "      <td>2021-03-06 15:51:48</td>\n",
       "    </tr>\n",
       "  </tbody>\n",
       "</table>\n",
       "</div>"
      ],
      "text/plain": [
       "   film_id             title  \\\n",
       "0        1  ACADEMY DINOSAUR   \n",
       "1        2    ACE GOLDFINGER   \n",
       "2        3  ADAPTATION HOLES   \n",
       "3        4  AFFAIR PREJUDICE   \n",
       "4        5       AFRICAN EGG   \n",
       "\n",
       "                                         description release_year  \\\n",
       "0  A Epic Drama of a Feminist And a Mad Scientist...         2006   \n",
       "1  A Astounding Epistle of a Database Administrat...         2006   \n",
       "2  A Astounding Reflection of a Lumberjack And a ...         2006   \n",
       "3  A Fanciful Documentary of a Frisbee And a Lumb...         2006   \n",
       "4  A Fast-Paced Documentary of a Pastry Chef And ...         2006   \n",
       "\n",
       "   language_id original_language_id  rental_duration  rental_rate  length  \\\n",
       "0            1                 None                6         0.99      86   \n",
       "1            1                 None                3         4.99      48   \n",
       "2            1                 None                7         2.99      50   \n",
       "3            1                 None                5         2.99     117   \n",
       "4            1                 None                6         2.99     130   \n",
       "\n",
       "   replacement_cost rating                  special_features  \\\n",
       "0             20.99     PG  Deleted Scenes,Behind the Scenes   \n",
       "1             12.99      G           Trailers,Deleted Scenes   \n",
       "2             18.99  NC-17           Trailers,Deleted Scenes   \n",
       "3             26.99      G    Commentaries,Behind the Scenes   \n",
       "4             22.99      G                    Deleted Scenes   \n",
       "\n",
       "           last_update  language_id     name          last_update  \n",
       "0  2021-03-06 15:52:00            1  English  2021-03-06 15:51:48  \n",
       "1  2021-03-06 15:52:00            1  English  2021-03-06 15:51:48  \n",
       "2  2021-03-06 15:52:00            1  English  2021-03-06 15:51:48  \n",
       "3  2021-03-06 15:52:00            1  English  2021-03-06 15:51:48  \n",
       "4  2021-03-06 15:52:00            1  English  2021-03-06 15:51:48  "
      ]
     },
     "execution_count": 68,
     "metadata": {},
     "output_type": "execute_result"
    }
   ],
   "source": [
    "df = pd.read_sql_query(\"select * from film as f join language as l on f.language_id = l.language_id\",con)\n",
    "df.head()"
   ]
  },
  {
   "cell_type": "code",
   "execution_count": 85,
   "id": "8e3cfc8c-71a9-4d29-aaa8-9db50964a1b5",
   "metadata": {},
   "outputs": [
    {
     "data": {
      "text/plain": [
       "<Axes: >"
      ]
     },
     "execution_count": 85,
     "metadata": {},
     "output_type": "execute_result"
    },
    {
     "data": {
      "image/png": "[encoded data removed]",
      "text/plain": [
       "<Figure size 640x480 with 1 Axes>"
      ]
     },
     "metadata": {},
     "output_type": "display_data"
    }
   ],
   "source": [
    "books_data.average_rating.hist()"
   ]
  },
  {
   "cell_type": "code",
   "execution_count": 92,
   "id": "28134bca-a83d-496b-a2a2-cbaabc90e717",
   "metadata": {},
   "outputs": [],
   "source": [
    "languages = pd.read_sql_query(\"select * from language\",con)"
   ]
  },
  {
   "cell_type": "code",
   "execution_count": 95,
   "id": "e5f772a0-e962-4865-9286-f13238b6523f",
   "metadata": {},
   "outputs": [],
   "source": [
    "languages.loc[0:2].to_csv(\"languages/part1.csv\")\n",
    "languages.loc[2:4].to_csv(\"languages/part2.csv\")\n",
    "languages.loc[4:6].to_csv(\"languages/part3.csv\")"
   ]
  },
  {
   "cell_type": "code",
   "execution_count": 101,
   "id": "bccb0425-9fe5-4423-b7e2-e636d833e54c",
   "metadata": {},
   "outputs": [
    {
     "data": {
      "text/plain": [
       "8"
      ]
     },
     "execution_count": 101,
     "metadata": {},
     "output_type": "execute_result"
    }
   ],
   "source": [
    "dd.read_csv(\"languages/*\").language_id.count().compute()"
   ]
  },
  {
   "cell_type": "code",
   "execution_count": 106,
   "id": "6b061d97-f03e-4120-9022-40f65e32c791",
   "metadata": {},
   "outputs": [
    {
     "data": {
      "text/plain": [
       "pandas.core.frame.DataFrame"
      ]
     },
     "execution_count": 106,
     "metadata": {},
     "output_type": "execute_result"
    }
   ],
   "source": [
    "trip_data = pd.read_excel(\"green_tripdata_2015-09.xls\",index_col=None)\n"
   ]
  },
  {
   "cell_type": "code",
   "execution_count": 108,
   "id": "ce8315ee-3726-4c8e-a880-32b6eb4e6558",
   "metadata": {},
   "outputs": [
    {
     "data": {
      "text/html": [
       "<div>\n",
       "<style scoped>\n",
       "    .dataframe tbody tr th:only-of-type {\n",
       "        vertical-align: middle;\n",
       "    }\n",
       "\n",
       "    .dataframe tbody tr th {\n",
       "        vertical-align: top;\n",
       "    }\n",
       "\n",
       "    .dataframe thead th {\n",
       "        text-align: right;\n",
       "    }\n",
       "</style>\n",
       "<table border=\"1\" class=\"dataframe\">\n",
       "  <thead>\n",
       "    <tr style=\"text-align: right;\">\n",
       "      <th></th>\n",
       "      <th>VendorID</th>\n",
       "      <th>lpep_pickup_datetime</th>\n",
       "      <th>Lpep_dropoff_datetime</th>\n",
       "      <th>Store_and_fwd_flag</th>\n",
       "      <th>RateCodeID</th>\n",
       "      <th>Pickup_longitude</th>\n",
       "      <th>Pickup_latitude</th>\n",
       "      <th>Dropoff_longitude</th>\n",
       "      <th>Dropoff_latitude</th>\n",
       "      <th>Passenger_count</th>\n",
       "      <th>...</th>\n",
       "      <th>Fare_amount</th>\n",
       "      <th>Extra</th>\n",
       "      <th>MTA_tax</th>\n",
       "      <th>Tip_amount</th>\n",
       "      <th>Tolls_amount</th>\n",
       "      <th>Ehail_fee</th>\n",
       "      <th>improvement_surcharge</th>\n",
       "      <th>Total_amount</th>\n",
       "      <th>Payment_type</th>\n",
       "      <th>Trip_type</th>\n",
       "    </tr>\n",
       "  </thead>\n",
       "  <tbody>\n",
       "    <tr>\n",
       "      <th>0</th>\n",
       "      <td>2</td>\n",
       "      <td>2015-09-01 00:02:34</td>\n",
       "      <td>2015-09-01 00:02:38</td>\n",
       "      <td>N</td>\n",
       "      <td>5</td>\n",
       "      <td>-73.979485</td>\n",
       "      <td>40.684956</td>\n",
       "      <td>-73.979431</td>\n",
       "      <td>40.685020</td>\n",
       "      <td>1</td>\n",
       "      <td>...</td>\n",
       "      <td>7.8</td>\n",
       "      <td>0.0</td>\n",
       "      <td>0.0</td>\n",
       "      <td>1.95</td>\n",
       "      <td>0.0</td>\n",
       "      <td>NaN</td>\n",
       "      <td>0.0</td>\n",
       "      <td>9.75</td>\n",
       "      <td>1</td>\n",
       "      <td>2</td>\n",
       "    </tr>\n",
       "    <tr>\n",
       "      <th>1</th>\n",
       "      <td>2</td>\n",
       "      <td>2015-09-01 00:04:20</td>\n",
       "      <td>2015-09-01 00:04:24</td>\n",
       "      <td>N</td>\n",
       "      <td>5</td>\n",
       "      <td>-74.010796</td>\n",
       "      <td>40.912216</td>\n",
       "      <td>-74.010780</td>\n",
       "      <td>40.912212</td>\n",
       "      <td>1</td>\n",
       "      <td>...</td>\n",
       "      <td>45.0</td>\n",
       "      <td>0.0</td>\n",
       "      <td>0.0</td>\n",
       "      <td>0.00</td>\n",
       "      <td>0.0</td>\n",
       "      <td>NaN</td>\n",
       "      <td>0.0</td>\n",
       "      <td>45.00</td>\n",
       "      <td>1</td>\n",
       "      <td>2</td>\n",
       "    </tr>\n",
       "    <tr>\n",
       "      <th>2</th>\n",
       "      <td>2</td>\n",
       "      <td>2015-09-01 00:01:50</td>\n",
       "      <td>2015-09-01 00:04:24</td>\n",
       "      <td>N</td>\n",
       "      <td>1</td>\n",
       "      <td>-73.921410</td>\n",
       "      <td>40.766708</td>\n",
       "      <td>-73.914413</td>\n",
       "      <td>40.764687</td>\n",
       "      <td>1</td>\n",
       "      <td>...</td>\n",
       "      <td>4.0</td>\n",
       "      <td>0.5</td>\n",
       "      <td>0.5</td>\n",
       "      <td>0.50</td>\n",
       "      <td>0.0</td>\n",
       "      <td>NaN</td>\n",
       "      <td>0.3</td>\n",
       "      <td>5.80</td>\n",
       "      <td>1</td>\n",
       "      <td>1</td>\n",
       "    </tr>\n",
       "    <tr>\n",
       "      <th>3</th>\n",
       "      <td>2</td>\n",
       "      <td>2015-09-01 00:02:36</td>\n",
       "      <td>2015-09-01 00:06:42</td>\n",
       "      <td>N</td>\n",
       "      <td>1</td>\n",
       "      <td>-73.921387</td>\n",
       "      <td>40.766678</td>\n",
       "      <td>-73.931427</td>\n",
       "      <td>40.771584</td>\n",
       "      <td>1</td>\n",
       "      <td>...</td>\n",
       "      <td>5.0</td>\n",
       "      <td>0.5</td>\n",
       "      <td>0.5</td>\n",
       "      <td>0.00</td>\n",
       "      <td>0.0</td>\n",
       "      <td>NaN</td>\n",
       "      <td>0.3</td>\n",
       "      <td>6.30</td>\n",
       "      <td>2</td>\n",
       "      <td>1</td>\n",
       "    </tr>\n",
       "    <tr>\n",
       "      <th>4</th>\n",
       "      <td>2</td>\n",
       "      <td>2015-09-01 00:00:14</td>\n",
       "      <td>2015-09-01 00:04:20</td>\n",
       "      <td>N</td>\n",
       "      <td>1</td>\n",
       "      <td>-73.955482</td>\n",
       "      <td>40.714046</td>\n",
       "      <td>-73.944412</td>\n",
       "      <td>40.714729</td>\n",
       "      <td>1</td>\n",
       "      <td>...</td>\n",
       "      <td>5.0</td>\n",
       "      <td>0.5</td>\n",
       "      <td>0.5</td>\n",
       "      <td>0.00</td>\n",
       "      <td>0.0</td>\n",
       "      <td>NaN</td>\n",
       "      <td>0.3</td>\n",
       "      <td>6.30</td>\n",
       "      <td>2</td>\n",
       "      <td>1</td>\n",
       "    </tr>\n",
       "  </tbody>\n",
       "</table>\n",
       "<p>5 rows × 21 columns</p>\n",
       "</div>"
      ],
      "text/plain": [
       "   VendorID lpep_pickup_datetime Lpep_dropoff_datetime Store_and_fwd_flag  \\\n",
       "0         2  2015-09-01 00:02:34   2015-09-01 00:02:38                  N   \n",
       "1         2  2015-09-01 00:04:20   2015-09-01 00:04:24                  N   \n",
       "2         2  2015-09-01 00:01:50   2015-09-01 00:04:24                  N   \n",
       "3         2  2015-09-01 00:02:36   2015-09-01 00:06:42                  N   \n",
       "4         2  2015-09-01 00:00:14   2015-09-01 00:04:20                  N   \n",
       "\n",
       "   RateCodeID  Pickup_longitude  Pickup_latitude  Dropoff_longitude  \\\n",
       "0           5        -73.979485        40.684956         -73.979431   \n",
       "1           5        -74.010796        40.912216         -74.010780   \n",
       "2           1        -73.921410        40.766708         -73.914413   \n",
       "3           1        -73.921387        40.766678         -73.931427   \n",
       "4           1        -73.955482        40.714046         -73.944412   \n",
       "\n",
       "   Dropoff_latitude  Passenger_count  ...  Fare_amount  Extra  MTA_tax  \\\n",
       "0         40.685020                1  ...          7.8    0.0      0.0   \n",
       "1         40.912212                1  ...         45.0    0.0      0.0   \n",
       "2         40.764687                1  ...          4.0    0.5      0.5   \n",
       "3         40.771584                1  ...          5.0    0.5      0.5   \n",
       "4         40.714729                1  ...          5.0    0.5      0.5   \n",
       "\n",
       "   Tip_amount  Tolls_amount  Ehail_fee  improvement_surcharge  Total_amount  \\\n",
       "0        1.95           0.0        NaN                    0.0          9.75   \n",
       "1        0.00           0.0        NaN                    0.0         45.00   \n",
       "2        0.50           0.0        NaN                    0.3          5.80   \n",
       "3        0.00           0.0        NaN                    0.3          6.30   \n",
       "4        0.00           0.0        NaN                    0.3          6.30   \n",
       "\n",
       "   Payment_type  Trip_type   \n",
       "0             1           2  \n",
       "1             1           2  \n",
       "2             1           1  \n",
       "3             2           1  \n",
       "4             2           1  \n",
       "\n",
       "[5 rows x 21 columns]"
      ]
     },
     "execution_count": 108,
     "metadata": {},
     "output_type": "execute_result"
    }
   ],
   "source": [
    "type(trip_data)\n",
    "trip_data.head(5)"
   ]
  },
  {
   "cell_type": "markdown",
   "id": "37d04835-9827-468e-ba79-b5b103ca239a",
   "metadata": {},
   "source": [
    "Creating a dataFrame"
   ]
  },
  {
   "cell_type": "code",
   "execution_count": 114,
   "id": "cba606da-411a-4bec-b265-6a035e5b36b1",
   "metadata": {},
   "outputs": [],
   "source": [
    "data = pd.DataFrame({'Yes':[10,13],'No':[13,14]})"
   ]
  },
  {
   "cell_type": "code",
   "execution_count": 116,
   "id": "e4e2e95d-18a1-4e43-8024-f65ac28006bc",
   "metadata": {},
   "outputs": [
    {
     "data": {
      "text/html": [
       "<div>\n",
       "<style scoped>\n",
       "    .dataframe tbody tr th:only-of-type {\n",
       "        vertical-align: middle;\n",
       "    }\n",
       "\n",
       "    .dataframe tbody tr th {\n",
       "        vertical-align: top;\n",
       "    }\n",
       "\n",
       "    .dataframe thead th {\n",
       "        text-align: right;\n",
       "    }\n",
       "</style>\n",
       "<table border=\"1\" class=\"dataframe\">\n",
       "  <thead>\n",
       "    <tr style=\"text-align: right;\">\n",
       "      <th></th>\n",
       "      <th>Yes</th>\n",
       "      <th>No</th>\n",
       "    </tr>\n",
       "  </thead>\n",
       "  <tbody>\n",
       "    <tr>\n",
       "      <th>0</th>\n",
       "      <td>10</td>\n",
       "      <td>13</td>\n",
       "    </tr>\n",
       "    <tr>\n",
       "      <th>1</th>\n",
       "      <td>13</td>\n",
       "      <td>14</td>\n",
       "    </tr>\n",
       "  </tbody>\n",
       "</table>\n",
       "</div>"
      ],
      "text/plain": [
       "   Yes  No\n",
       "0   10  13\n",
       "1   13  14"
      ]
     },
     "execution_count": 116,
     "metadata": {},
     "output_type": "execute_result"
    }
   ],
   "source": [
    "data"
   ]
  },
  {
   "cell_type": "code",
   "execution_count": 117,
   "id": "4340883c-b7d9-4289-a061-902b681e444a",
   "metadata": {},
   "outputs": [],
   "source": [
    "data_product = pd.DataFrame({'Bob':['I liked it','awlful'],'Mike':['sucks','kinda good']},index=['Product A','Product B'])"
   ]
  },
  {
   "cell_type": "code",
   "execution_count": 118,
   "id": "c1df39eb-9223-46ba-a832-59d2c16fc29a",
   "metadata": {},
   "outputs": [
    {
     "data": {
      "text/html": [
       "<div>\n",
       "<style scoped>\n",
       "    .dataframe tbody tr th:only-of-type {\n",
       "        vertical-align: middle;\n",
       "    }\n",
       "\n",
       "    .dataframe tbody tr th {\n",
       "        vertical-align: top;\n",
       "    }\n",
       "\n",
       "    .dataframe thead th {\n",
       "        text-align: right;\n",
       "    }\n",
       "</style>\n",
       "<table border=\"1\" class=\"dataframe\">\n",
       "  <thead>\n",
       "    <tr style=\"text-align: right;\">\n",
       "      <th></th>\n",
       "      <th>Bob</th>\n",
       "      <th>Mike</th>\n",
       "    </tr>\n",
       "  </thead>\n",
       "  <tbody>\n",
       "    <tr>\n",
       "      <th>Product A</th>\n",
       "      <td>I liked it</td>\n",
       "      <td>sucks</td>\n",
       "    </tr>\n",
       "    <tr>\n",
       "      <th>Product B</th>\n",
       "      <td>awlful</td>\n",
       "      <td>kinda good</td>\n",
       "    </tr>\n",
       "  </tbody>\n",
       "</table>\n",
       "</div>"
      ],
      "text/plain": [
       "                  Bob        Mike\n",
       "Product A  I liked it       sucks\n",
       "Product B      awlful  kinda good"
      ]
     },
     "execution_count": 118,
     "metadata": {},
     "output_type": "execute_result"
    }
   ],
   "source": [
    "data_product"
   ]
  },
  {
   "cell_type": "code",
   "execution_count": 119,
   "id": "95b03cb4-ad20-439c-b06f-5d6fc8539f39",
   "metadata": {},
   "outputs": [
    {
     "data": {
      "text/plain": [
       "2016 time    30\n",
       "2015 time    35\n",
       "2017         40\n",
       "Name: Product A, dtype: int64"
      ]
     },
     "execution_count": 119,
     "metadata": {},
     "output_type": "execute_result"
    }
   ],
   "source": [
    "pd.Series([30,35,40],index=[\"2016 time\",'2015 time','2017'],name = \"Product A\")"
   ]
  },
  {
   "cell_type": "code",
   "execution_count": 122,
   "id": "b6539b77-a995-4ed9-adf8-6f1a2a231b9d",
   "metadata": {},
   "outputs": [],
   "source": [
    "fruits = pd.DataFrame({'Apples':[30],'Bananas':[21]})"
   ]
  },
  {
   "cell_type": "code",
   "execution_count": 123,
   "id": "269a682e-64f4-4e23-ae79-dfaf45f4e3b5",
   "metadata": {},
   "outputs": [
    {
     "data": {
      "text/html": [
       "<div>\n",
       "<style scoped>\n",
       "    .dataframe tbody tr th:only-of-type {\n",
       "        vertical-align: middle;\n",
       "    }\n",
       "\n",
       "    .dataframe tbody tr th {\n",
       "        vertical-align: top;\n",
       "    }\n",
       "\n",
       "    .dataframe thead th {\n",
       "        text-align: right;\n",
       "    }\n",
       "</style>\n",
       "<table border=\"1\" class=\"dataframe\">\n",
       "  <thead>\n",
       "    <tr style=\"text-align: right;\">\n",
       "      <th></th>\n",
       "      <th>Apples</th>\n",
       "      <th>Bananas</th>\n",
       "    </tr>\n",
       "  </thead>\n",
       "  <tbody>\n",
       "    <tr>\n",
       "      <th>0</th>\n",
       "      <td>30</td>\n",
       "      <td>21</td>\n",
       "    </tr>\n",
       "  </tbody>\n",
       "</table>\n",
       "</div>"
      ],
      "text/plain": [
       "   Apples  Bananas\n",
       "0      30       21"
      ]
     },
     "execution_count": 123,
     "metadata": {},
     "output_type": "execute_result"
    }
   ],
   "source": [
    "fruits"
   ]
  },
  {
   "cell_type": "code",
   "execution_count": 124,
   "id": "fc3b9167-f1e8-4521-9595-c9b26933bf06",
   "metadata": {},
   "outputs": [
    {
     "ename": "NameError",
     "evalue": "name 'reviews' is not defined",
     "output_type": "error",
     "traceback": [
      "\u001b[1;31m---------------------------------------------------------------------------\u001b[0m",
      "\u001b[1;31mNameError\u001b[0m                                 Traceback (most recent call last)",
      "Cell \u001b[1;32mIn[124], line 1\u001b[0m\n\u001b[1;32m----> 1\u001b[0m tropical \u001b[38;5;241m=\u001b[39m reviews\u001b[38;5;241m.\u001b[39mdescription\u001b[38;5;241m.\u001b[39mmap(\u001b[38;5;28;01mlambda\u001b[39;00m desc: \u001b[38;5;124m\"\u001b[39m\u001b[38;5;124mtropical\u001b[39m\u001b[38;5;124m\"\u001b[39m \u001b[38;5;129;01min\u001b[39;00m desc)\u001b[38;5;241m.\u001b[39msum()\n\u001b[0;32m      2\u001b[0m fruity \u001b[38;5;241m=\u001b[39m reviews\u001b[38;5;241m.\u001b[39mdescription\u001b[38;5;241m.\u001b[39mmap(\u001b[38;5;28;01mlambda\u001b[39;00m desc: \u001b[38;5;124m\"\u001b[39m\u001b[38;5;124mfruity\u001b[39m\u001b[38;5;124m\"\u001b[39m \u001b[38;5;129;01min\u001b[39;00m desc)\u001b[38;5;241m.\u001b[39msum()\n\u001b[0;32m      3\u001b[0m descriptor_counts \u001b[38;5;241m=\u001b[39m pd\u001b[38;5;241m.\u001b[39mSeries([tropical,fruity],index \u001b[38;5;241m=\u001b[39m[\u001b[38;5;124m\"\u001b[39m\u001b[38;5;124mtropical\u001b[39m\u001b[38;5;124m\"\u001b[39m,\u001b[38;5;124m'\u001b[39m\u001b[38;5;124mfruity\u001b[39m\u001b[38;5;124m'\u001b[39m])\n",
      "\u001b[1;31mNameError\u001b[0m: name 'reviews' is not defined"
     ]
    }
   ],
   "source": []
  },
  {
   "cell_type": "code",
   "execution_count": null,
   "id": "82c2c7d1-015b-4c8e-9a9a-17caf891e8ae",
   "metadata": {},
   "outputs": [],
   "source": []
  }
 ],
 "metadata": {
  "kernelspec": {
   "display_name": "Python 3 (ipykernel)",
   "language": "python",
   "name": "python3"
  },
  "language_info": {
   "codemirror_mode": {
    "name": "ipython",
    "version": 3
   },
   "file_extension": ".py",
   "mimetype": "text/x-python",
   "name": "python",
   "nbconvert_exporter": "python",
   "pygments_lexer": "ipython3",
   "version": "3.12.7"
  }
 },
 "nbformat": 4,
 "nbformat_minor": 5
}
