{
 "cells": [
  {
   "cell_type": "code",
   "execution_count": 102,
   "id": "1b1927be-b3ca-4858-93e1-83348b9b931e",
   "metadata": {},
   "outputs": [],
   "source": [
    "import numpy as np\n",
    "import pandas as pd\n",
    "import matplotlib.pyplot as plt\n",
    "import seaborn as sns"
   ]
  },
  {
   "cell_type": "markdown",
   "id": "0a1bacf2-619d-4a97-bf91-e791cee8ce99",
   "metadata": {},
   "source": [
    "# Data Visualization and Exploratory Data Analysis Lab\n",
    "## Visualizing and exploring data. The data mining process"
   ]
  },
  {
   "cell_type": "markdown",
   "id": "7dd6a75a-59db-4b6f-b51c-79cfbffcef45",
   "metadata": {},
   "source": [
    "In this lab, you'll get acquainted with the most streamed songs on Spotify in 2024. The dataset and its associated metadata can be found [here](https://www.kaggle.com/datasets/nelgiriyewithana/most-streamed-spotify-songs-2024). The version you'll need is provided in the `data/` folder.\n",
    "\n",
    "You know the drill. Do what you can / want / need to answer the questions to the best of your ability. Answers do not need to be trivial, or even the same among different people."
   ]
  },
  {
   "cell_type": "markdown",
   "id": "b8cfbf65-857c-464e-98df-b6425b0b571d",
   "metadata": {},
   "source": [
    "### Problem 1. Read the dataset (1 point)\n",
    "Read the file without unzipping it first. You can try a different character encoding, like `unicode_escape`. Don't worry too much about weird characters."
   ]
  },
  {
   "cell_type": "code",
   "execution_count": 2,
   "id": "f0343a0d-dd21-4dcb-b8e6-02d85cb62397",
   "metadata": {},
   "outputs": [],
   "source": [
    "data = pd.read_csv(\"data/spotify_most_streamed_2024.zip\",compression='zip',encoding=\"unicode_escape\")"
   ]
  },
  {
   "cell_type": "markdown",
   "id": "225c2aeb-448f-4f39-ae57-403090ce36c8",
   "metadata": {},
   "source": [
    "To begin with, we can see that the file is zipped. This means that we have to use some other arguments. I used:\n",
    "1. ```compression='zip'```, since we are reading a zipped file\n",
    "2. ```encoding=\"unicode_escape\"```, since utf-8 does not work propery and throws an error"
   ]
  },
  {
   "cell_type": "code",
   "execution_count": null,
   "id": "35fc527e-37ea-4d58-8add-f541ca6191dc",
   "metadata": {},
   "outputs": [],
   "source": []
  },
  {
   "cell_type": "markdown",
   "id": "84bb1876-3ab5-4d66-86f6-7e1ede99fffe",
   "metadata": {},
   "source": [
    "### Problem 2. Perform some cleaning (1 point)\n",
    "Ensure all data has been read correctly; check the data types. Give the columns better names (e.g. `all_time_rank`, `track_score`, etc.). To do so, try to use `apply()` instead of a manual mapping between old and new name. Get rid of any unnecessary ones."
   ]
  },
  {
   "cell_type": "code",
   "execution_count": 3,
   "id": "cc09146e-049b-49d6-9be9-e2f8a44c9005",
   "metadata": {},
   "outputs": [
    {
     "data": {
      "text/html": [
       "<div>\n",
       "<style scoped>\n",
       "    .dataframe tbody tr th:only-of-type {\n",
       "        vertical-align: middle;\n",
       "    }\n",
       "\n",
       "    .dataframe tbody tr th {\n",
       "        vertical-align: top;\n",
       "    }\n",
       "\n",
       "    .dataframe thead th {\n",
       "        text-align: right;\n",
       "    }\n",
       "</style>\n",
       "<table border=\"1\" class=\"dataframe\">\n",
       "  <thead>\n",
       "    <tr style=\"text-align: right;\">\n",
       "      <th></th>\n",
       "      <th>Track</th>\n",
       "      <th>Album Name</th>\n",
       "      <th>Artist</th>\n",
       "      <th>Release Date</th>\n",
       "      <th>ISRC</th>\n",
       "      <th>All Time Rank</th>\n",
       "      <th>Track Score</th>\n",
       "      <th>Spotify Streams</th>\n",
       "      <th>Spotify Playlist Count</th>\n",
       "      <th>Spotify Playlist Reach</th>\n",
       "      <th>...</th>\n",
       "      <th>SiriusXM Spins</th>\n",
       "      <th>Deezer Playlist Count</th>\n",
       "      <th>Deezer Playlist Reach</th>\n",
       "      <th>Amazon Playlist Count</th>\n",
       "      <th>Pandora Streams</th>\n",
       "      <th>Pandora Track Stations</th>\n",
       "      <th>Soundcloud Streams</th>\n",
       "      <th>Shazam Counts</th>\n",
       "      <th>TIDAL Popularity</th>\n",
       "      <th>Explicit Track</th>\n",
       "    </tr>\n",
       "  </thead>\n",
       "  <tbody>\n",
       "    <tr>\n",
       "      <th>0</th>\n",
       "      <td>MILLION DOLLAR BABY</td>\n",
       "      <td>Million Dollar Baby - Single</td>\n",
       "      <td>Tommy Richman</td>\n",
       "      <td>4/26/2024</td>\n",
       "      <td>QM24S2402528</td>\n",
       "      <td>1</td>\n",
       "      <td>725.4</td>\n",
       "      <td>390,470,936</td>\n",
       "      <td>30,716</td>\n",
       "      <td>196,631,588</td>\n",
       "      <td>...</td>\n",
       "      <td>684</td>\n",
       "      <td>62.0</td>\n",
       "      <td>17,598,718</td>\n",
       "      <td>114.0</td>\n",
       "      <td>18,004,655</td>\n",
       "      <td>22,931</td>\n",
       "      <td>4,818,457</td>\n",
       "      <td>2,669,262</td>\n",
       "      <td>NaN</td>\n",
       "      <td>0</td>\n",
       "    </tr>\n",
       "    <tr>\n",
       "      <th>1</th>\n",
       "      <td>Not Like Us</td>\n",
       "      <td>Not Like Us</td>\n",
       "      <td>Kendrick Lamar</td>\n",
       "      <td>5/4/2024</td>\n",
       "      <td>USUG12400910</td>\n",
       "      <td>2</td>\n",
       "      <td>545.9</td>\n",
       "      <td>323,703,884</td>\n",
       "      <td>28,113</td>\n",
       "      <td>174,597,137</td>\n",
       "      <td>...</td>\n",
       "      <td>3</td>\n",
       "      <td>67.0</td>\n",
       "      <td>10,422,430</td>\n",
       "      <td>111.0</td>\n",
       "      <td>7,780,028</td>\n",
       "      <td>28,444</td>\n",
       "      <td>6,623,075</td>\n",
       "      <td>1,118,279</td>\n",
       "      <td>NaN</td>\n",
       "      <td>1</td>\n",
       "    </tr>\n",
       "    <tr>\n",
       "      <th>2</th>\n",
       "      <td>i like the way you kiss me</td>\n",
       "      <td>I like the way you kiss me</td>\n",
       "      <td>Artemas</td>\n",
       "      <td>3/19/2024</td>\n",
       "      <td>QZJ842400387</td>\n",
       "      <td>3</td>\n",
       "      <td>538.4</td>\n",
       "      <td>601,309,283</td>\n",
       "      <td>54,331</td>\n",
       "      <td>211,607,669</td>\n",
       "      <td>...</td>\n",
       "      <td>536</td>\n",
       "      <td>136.0</td>\n",
       "      <td>36,321,847</td>\n",
       "      <td>172.0</td>\n",
       "      <td>5,022,621</td>\n",
       "      <td>5,639</td>\n",
       "      <td>7,208,651</td>\n",
       "      <td>5,285,340</td>\n",
       "      <td>NaN</td>\n",
       "      <td>0</td>\n",
       "    </tr>\n",
       "    <tr>\n",
       "      <th>3</th>\n",
       "      <td>Flowers</td>\n",
       "      <td>Flowers - Single</td>\n",
       "      <td>Miley Cyrus</td>\n",
       "      <td>1/12/2023</td>\n",
       "      <td>USSM12209777</td>\n",
       "      <td>4</td>\n",
       "      <td>444.9</td>\n",
       "      <td>2,031,280,633</td>\n",
       "      <td>269,802</td>\n",
       "      <td>136,569,078</td>\n",
       "      <td>...</td>\n",
       "      <td>2,182</td>\n",
       "      <td>264.0</td>\n",
       "      <td>24,684,248</td>\n",
       "      <td>210.0</td>\n",
       "      <td>190,260,277</td>\n",
       "      <td>203,384</td>\n",
       "      <td>NaN</td>\n",
       "      <td>11,822,942</td>\n",
       "      <td>NaN</td>\n",
       "      <td>0</td>\n",
       "    </tr>\n",
       "    <tr>\n",
       "      <th>4</th>\n",
       "      <td>Houdini</td>\n",
       "      <td>Houdini</td>\n",
       "      <td>Eminem</td>\n",
       "      <td>5/31/2024</td>\n",
       "      <td>USUG12403398</td>\n",
       "      <td>5</td>\n",
       "      <td>423.3</td>\n",
       "      <td>107,034,922</td>\n",
       "      <td>7,223</td>\n",
       "      <td>151,469,874</td>\n",
       "      <td>...</td>\n",
       "      <td>1</td>\n",
       "      <td>82.0</td>\n",
       "      <td>17,660,624</td>\n",
       "      <td>105.0</td>\n",
       "      <td>4,493,884</td>\n",
       "      <td>7,006</td>\n",
       "      <td>207,179</td>\n",
       "      <td>457,017</td>\n",
       "      <td>NaN</td>\n",
       "      <td>1</td>\n",
       "    </tr>\n",
       "    <tr>\n",
       "      <th>...</th>\n",
       "      <td>...</td>\n",
       "      <td>...</td>\n",
       "      <td>...</td>\n",
       "      <td>...</td>\n",
       "      <td>...</td>\n",
       "      <td>...</td>\n",
       "      <td>...</td>\n",
       "      <td>...</td>\n",
       "      <td>...</td>\n",
       "      <td>...</td>\n",
       "      <td>...</td>\n",
       "      <td>...</td>\n",
       "      <td>...</td>\n",
       "      <td>...</td>\n",
       "      <td>...</td>\n",
       "      <td>...</td>\n",
       "      <td>...</td>\n",
       "      <td>...</td>\n",
       "      <td>...</td>\n",
       "      <td>...</td>\n",
       "      <td>...</td>\n",
       "    </tr>\n",
       "    <tr>\n",
       "      <th>4595</th>\n",
       "      <td>For the Last Time</td>\n",
       "      <td>For the Last Time</td>\n",
       "      <td>$uicideboy$</td>\n",
       "      <td>9/5/2017</td>\n",
       "      <td>QM8DG1703420</td>\n",
       "      <td>4,585</td>\n",
       "      <td>19.4</td>\n",
       "      <td>305,049,963</td>\n",
       "      <td>65,770</td>\n",
       "      <td>5,103,054</td>\n",
       "      <td>...</td>\n",
       "      <td>NaN</td>\n",
       "      <td>2.0</td>\n",
       "      <td>14,217</td>\n",
       "      <td>NaN</td>\n",
       "      <td>20,104,066</td>\n",
       "      <td>13,184</td>\n",
       "      <td>50,633,006</td>\n",
       "      <td>656,337</td>\n",
       "      <td>NaN</td>\n",
       "      <td>1</td>\n",
       "    </tr>\n",
       "    <tr>\n",
       "      <th>4596</th>\n",
       "      <td>Dil Meri Na Sune</td>\n",
       "      <td>Dil Meri Na Sune (From \"Genius\")</td>\n",
       "      <td>Atif Aslam</td>\n",
       "      <td>7/27/2018</td>\n",
       "      <td>INT101800122</td>\n",
       "      <td>4,575</td>\n",
       "      <td>19.4</td>\n",
       "      <td>52,282,360</td>\n",
       "      <td>4,602</td>\n",
       "      <td>1,449,767</td>\n",
       "      <td>...</td>\n",
       "      <td>NaN</td>\n",
       "      <td>1.0</td>\n",
       "      <td>927</td>\n",
       "      <td>NaN</td>\n",
       "      <td>NaN</td>\n",
       "      <td>NaN</td>\n",
       "      <td>NaN</td>\n",
       "      <td>193,590</td>\n",
       "      <td>NaN</td>\n",
       "      <td>0</td>\n",
       "    </tr>\n",
       "    <tr>\n",
       "      <th>4597</th>\n",
       "      <td>Grace (feat. 42 Dugg)</td>\n",
       "      <td>My Turn</td>\n",
       "      <td>Lil Baby</td>\n",
       "      <td>2/28/2020</td>\n",
       "      <td>USUG12000043</td>\n",
       "      <td>4,571</td>\n",
       "      <td>19.4</td>\n",
       "      <td>189,972,685</td>\n",
       "      <td>72,066</td>\n",
       "      <td>6,704,802</td>\n",
       "      <td>...</td>\n",
       "      <td>NaN</td>\n",
       "      <td>1.0</td>\n",
       "      <td>74</td>\n",
       "      <td>6.0</td>\n",
       "      <td>84,426,740</td>\n",
       "      <td>28,999</td>\n",
       "      <td>NaN</td>\n",
       "      <td>1,135,998</td>\n",
       "      <td>NaN</td>\n",
       "      <td>1</td>\n",
       "    </tr>\n",
       "    <tr>\n",
       "      <th>4598</th>\n",
       "      <td>Nashe Si Chadh Gayi</td>\n",
       "      <td>November Top 10 Songs</td>\n",
       "      <td>Arijit Singh</td>\n",
       "      <td>11/8/2016</td>\n",
       "      <td>INY091600067</td>\n",
       "      <td>4,591</td>\n",
       "      <td>19.4</td>\n",
       "      <td>145,467,020</td>\n",
       "      <td>14,037</td>\n",
       "      <td>7,387,064</td>\n",
       "      <td>...</td>\n",
       "      <td>NaN</td>\n",
       "      <td>NaN</td>\n",
       "      <td>NaN</td>\n",
       "      <td>7.0</td>\n",
       "      <td>6,817,840</td>\n",
       "      <td>NaN</td>\n",
       "      <td>NaN</td>\n",
       "      <td>448,292</td>\n",
       "      <td>NaN</td>\n",
       "      <td>0</td>\n",
       "    </tr>\n",
       "    <tr>\n",
       "      <th>4599</th>\n",
       "      <td>Me Acostumbre (feat. Bad Bunny)</td>\n",
       "      <td>Me Acostumbre (feat. Bad Bunny)</td>\n",
       "      <td>Arcï¿½ï¿½</td>\n",
       "      <td>4/11/2017</td>\n",
       "      <td>USB271700107</td>\n",
       "      <td>4,593</td>\n",
       "      <td>19.4</td>\n",
       "      <td>255,740,653</td>\n",
       "      <td>32,138</td>\n",
       "      <td>14,066,526</td>\n",
       "      <td>...</td>\n",
       "      <td>NaN</td>\n",
       "      <td>4.0</td>\n",
       "      <td>127,479</td>\n",
       "      <td>4.0</td>\n",
       "      <td>69,006,739</td>\n",
       "      <td>11,320</td>\n",
       "      <td>NaN</td>\n",
       "      <td>767,006</td>\n",
       "      <td>NaN</td>\n",
       "      <td>1</td>\n",
       "    </tr>\n",
       "  </tbody>\n",
       "</table>\n",
       "<p>4600 rows × 29 columns</p>\n",
       "</div>"
      ],
      "text/plain": [
       "                                Track                        Album Name  \\\n",
       "0                 MILLION DOLLAR BABY      Million Dollar Baby - Single   \n",
       "1                         Not Like Us                       Not Like Us   \n",
       "2          i like the way you kiss me        I like the way you kiss me   \n",
       "3                             Flowers                  Flowers - Single   \n",
       "4                             Houdini                           Houdini   \n",
       "...                               ...                               ...   \n",
       "4595                For the Last Time                 For the Last Time   \n",
       "4596                 Dil Meri Na Sune  Dil Meri Na Sune (From \"Genius\")   \n",
       "4597            Grace (feat. 42 Dugg)                           My Turn   \n",
       "4598              Nashe Si Chadh Gayi             November Top 10 Songs   \n",
       "4599  Me Acostumbre (feat. Bad Bunny)   Me Acostumbre (feat. Bad Bunny)   \n",
       "\n",
       "              Artist Release Date          ISRC All Time Rank  Track Score  \\\n",
       "0      Tommy Richman    4/26/2024  QM24S2402528             1        725.4   \n",
       "1     Kendrick Lamar     5/4/2024  USUG12400910             2        545.9   \n",
       "2            Artemas    3/19/2024  QZJ842400387             3        538.4   \n",
       "3        Miley Cyrus    1/12/2023  USSM12209777             4        444.9   \n",
       "4             Eminem    5/31/2024  USUG12403398             5        423.3   \n",
       "...              ...          ...           ...           ...          ...   \n",
       "4595     $uicideboy$     9/5/2017  QM8DG1703420         4,585         19.4   \n",
       "4596      Atif Aslam    7/27/2018  INT101800122         4,575         19.4   \n",
       "4597        Lil Baby    2/28/2020  USUG12000043         4,571         19.4   \n",
       "4598    Arijit Singh    11/8/2016  INY091600067         4,591         19.4   \n",
       "4599       Arcï¿½ï¿½    4/11/2017  USB271700107         4,593         19.4   \n",
       "\n",
       "     Spotify Streams Spotify Playlist Count Spotify Playlist Reach  ...  \\\n",
       "0        390,470,936                 30,716            196,631,588  ...   \n",
       "1        323,703,884                 28,113            174,597,137  ...   \n",
       "2        601,309,283                 54,331            211,607,669  ...   \n",
       "3      2,031,280,633                269,802            136,569,078  ...   \n",
       "4        107,034,922                  7,223            151,469,874  ...   \n",
       "...              ...                    ...                    ...  ...   \n",
       "4595     305,049,963                 65,770              5,103,054  ...   \n",
       "4596      52,282,360                  4,602              1,449,767  ...   \n",
       "4597     189,972,685                 72,066              6,704,802  ...   \n",
       "4598     145,467,020                 14,037              7,387,064  ...   \n",
       "4599     255,740,653                 32,138             14,066,526  ...   \n",
       "\n",
       "      SiriusXM Spins Deezer Playlist Count Deezer Playlist Reach  \\\n",
       "0                684                  62.0            17,598,718   \n",
       "1                  3                  67.0            10,422,430   \n",
       "2                536                 136.0            36,321,847   \n",
       "3              2,182                 264.0            24,684,248   \n",
       "4                  1                  82.0            17,660,624   \n",
       "...              ...                   ...                   ...   \n",
       "4595             NaN                   2.0                14,217   \n",
       "4596             NaN                   1.0                   927   \n",
       "4597             NaN                   1.0                    74   \n",
       "4598             NaN                   NaN                   NaN   \n",
       "4599             NaN                   4.0               127,479   \n",
       "\n",
       "     Amazon Playlist Count Pandora Streams Pandora Track Stations  \\\n",
       "0                    114.0      18,004,655                 22,931   \n",
       "1                    111.0       7,780,028                 28,444   \n",
       "2                    172.0       5,022,621                  5,639   \n",
       "3                    210.0     190,260,277                203,384   \n",
       "4                    105.0       4,493,884                  7,006   \n",
       "...                    ...             ...                    ...   \n",
       "4595                   NaN      20,104,066                 13,184   \n",
       "4596                   NaN             NaN                    NaN   \n",
       "4597                   6.0      84,426,740                 28,999   \n",
       "4598                   7.0       6,817,840                    NaN   \n",
       "4599                   4.0      69,006,739                 11,320   \n",
       "\n",
       "     Soundcloud Streams  Shazam Counts TIDAL Popularity Explicit Track  \n",
       "0             4,818,457      2,669,262              NaN              0  \n",
       "1             6,623,075      1,118,279              NaN              1  \n",
       "2             7,208,651      5,285,340              NaN              0  \n",
       "3                   NaN     11,822,942              NaN              0  \n",
       "4               207,179        457,017              NaN              1  \n",
       "...                 ...            ...              ...            ...  \n",
       "4595         50,633,006        656,337              NaN              1  \n",
       "4596                NaN        193,590              NaN              0  \n",
       "4597                NaN      1,135,998              NaN              1  \n",
       "4598                NaN        448,292              NaN              0  \n",
       "4599                NaN        767,006              NaN              1  \n",
       "\n",
       "[4600 rows x 29 columns]"
      ]
     },
     "execution_count": 3,
     "metadata": {},
     "output_type": "execute_result"
    }
   ],
   "source": [
    "data"
   ]
  },
  {
   "cell_type": "code",
   "execution_count": 4,
   "id": "46f415ad-8509-4921-bb66-30ba533ea725",
   "metadata": {},
   "outputs": [
    {
     "data": {
      "text/plain": [
       "Index(['Track', 'Album Name', 'Artist', 'Release Date', 'ISRC',\n",
       "       'All Time Rank', 'Track Score', 'Spotify Streams',\n",
       "       'Spotify Playlist Count', 'Spotify Playlist Reach',\n",
       "       'Spotify Popularity', 'YouTube Views', 'YouTube Likes', 'TikTok Posts',\n",
       "       'TikTok Likes', 'TikTok Views', 'YouTube Playlist Reach',\n",
       "       'Apple Music Playlist Count', 'AirPlay Spins', 'SiriusXM Spins',\n",
       "       'Deezer Playlist Count', 'Deezer Playlist Reach',\n",
       "       'Amazon Playlist Count', 'Pandora Streams', 'Pandora Track Stations',\n",
       "       'Soundcloud Streams', 'Shazam Counts', 'TIDAL Popularity',\n",
       "       'Explicit Track'],\n",
       "      dtype='object')"
      ]
     },
     "execution_count": 4,
     "metadata": {},
     "output_type": "execute_result"
    }
   ],
   "source": [
    "data.columns"
   ]
  },
  {
   "cell_type": "markdown",
   "id": "e8866a2b-7560-411c-9c8b-e0399e64982d",
   "metadata": {},
   "source": [
    "Let us begin our EDA."
   ]
  },
  {
   "cell_type": "code",
   "execution_count": 5,
   "id": "28eff4a2-4f8c-4f68-a020-16a1b58c8187",
   "metadata": {},
   "outputs": [
    {
     "name": "stdout",
     "output_type": "stream",
     "text": [
      "Shape of the data: (4600, 29)\n",
      "\n",
      "Data types:\n",
      "Track                          object\n",
      "Album Name                     object\n",
      "Artist                         object\n",
      "Release Date                   object\n",
      "ISRC                           object\n",
      "All Time Rank                  object\n",
      "Track Score                   float64\n",
      "Spotify Streams                object\n",
      "Spotify Playlist Count         object\n",
      "Spotify Playlist Reach         object\n",
      "Spotify Popularity            float64\n",
      "YouTube Views                  object\n",
      "YouTube Likes                  object\n",
      "TikTok Posts                   object\n",
      "TikTok Likes                   object\n",
      "TikTok Views                   object\n",
      "YouTube Playlist Reach         object\n",
      "Apple Music Playlist Count    float64\n",
      "AirPlay Spins                  object\n",
      "SiriusXM Spins                 object\n",
      "Deezer Playlist Count         float64\n",
      "Deezer Playlist Reach          object\n",
      "Amazon Playlist Count         float64\n",
      "Pandora Streams                object\n",
      "Pandora Track Stations         object\n",
      "Soundcloud Streams             object\n",
      "Shazam Counts                  object\n",
      "TIDAL Popularity              float64\n",
      "Explicit Track                  int64\n",
      "dtype: object\n"
     ]
    }
   ],
   "source": [
    "print(f\"Shape of the data: {data.shape}\")\n",
    "print(f\"\\nData types:\\n{data.dtypes}\")\n"
   ]
  },
  {
   "cell_type": "code",
   "execution_count": 6,
   "id": "6f9b5609-96ee-43ee-a9d6-490ac900a29d",
   "metadata": {},
   "outputs": [
    {
     "data": {
      "text/plain": [
       "Track                            0\n",
       "Album Name                       0\n",
       "Artist                           5\n",
       "Release Date                     0\n",
       "ISRC                             0\n",
       "All Time Rank                    0\n",
       "Track Score                      0\n",
       "Spotify Streams                113\n",
       "Spotify Playlist Count          70\n",
       "Spotify Playlist Reach          72\n",
       "Spotify Popularity             804\n",
       "YouTube Views                  308\n",
       "YouTube Likes                  315\n",
       "TikTok Posts                  1173\n",
       "TikTok Likes                   980\n",
       "TikTok Views                   981\n",
       "YouTube Playlist Reach        1009\n",
       "Apple Music Playlist Count     561\n",
       "AirPlay Spins                  498\n",
       "SiriusXM Spins                2123\n",
       "Deezer Playlist Count          921\n",
       "Deezer Playlist Reach          928\n",
       "Amazon Playlist Count         1055\n",
       "Pandora Streams               1106\n",
       "Pandora Track Stations        1268\n",
       "Soundcloud Streams            3333\n",
       "Shazam Counts                  577\n",
       "TIDAL Popularity              4600\n",
       "Explicit Track                   0\n",
       "dtype: int64"
      ]
     },
     "execution_count": 6,
     "metadata": {},
     "output_type": "execute_result"
    }
   ],
   "source": [
    "data.isna().sum()"
   ]
  },
  {
   "cell_type": "markdown",
   "id": "1e4720b6-6d9e-41c3-8840-600b7f2c3cab",
   "metadata": {},
   "source": [
    "Let us analyze the first imformation we are comming across. Firstly, we got lots of samples with 29 features. We have objects, floats and ints. To further know if there is a problem with the `object` features we should examine them more. We also see that the column names are not consistent and there ae tons of missing values which we will have to handle somehow. Let us begin by changing the column names."
   ]
  },
  {
   "cell_type": "code",
   "execution_count": 7,
   "id": "f9626e39-4178-48f8-b27f-bb59b6d16b06",
   "metadata": {},
   "outputs": [
    {
     "data": {
      "text/plain": [
       "Index(['track', 'album_name', 'artist', 'release_date', 'isrc',\n",
       "       'all_time_rank', 'track_score', 'spotify_streams',\n",
       "       'spotify_playlist_count', 'spotify_playlist_reach',\n",
       "       'spotify_popularity', 'youtube_views', 'youtube_likes', 'tiktok_posts',\n",
       "       'tiktok_likes', 'tiktok_views', 'youtube_playlist_reach',\n",
       "       'apple_music_playlist_count', 'airplay_spins', 'siriusxm_spins',\n",
       "       'deezer_playlist_count', 'deezer_playlist_reach',\n",
       "       'amazon_playlist_count', 'pandora_streams', 'pandora_track_stations',\n",
       "       'soundcloud_streams', 'shazam_counts', 'tidal_popularity',\n",
       "       'explicit_track'],\n",
       "      dtype='object')"
      ]
     },
     "execution_count": 7,
     "metadata": {},
     "output_type": "execute_result"
    }
   ],
   "source": [
    "def func(x):\n",
    "    return x.lower().replace(' ','_')\n",
    "data.columns = data.columns.to_series().apply(func)\n",
    "data.columns"
   ]
  },
  {
   "cell_type": "markdown",
   "id": "f48bcba4-d61b-4a2b-baa1-251aa65913ea",
   "metadata": {},
   "source": []
  },
  {
   "cell_type": "code",
   "execution_count": 8,
   "id": "bd1cf798-8eab-4db8-87a6-c7c071b0d500",
   "metadata": {},
   "outputs": [
    {
     "data": {
      "text/plain": [
       "['track_score',\n",
       " 'spotify_popularity',\n",
       " 'apple_music_playlist_count',\n",
       " 'deezer_playlist_count',\n",
       " 'amazon_playlist_count',\n",
       " 'tidal_popularity',\n",
       " 'explicit_track']"
      ]
     },
     "execution_count": 8,
     "metadata": {},
     "output_type": "execute_result"
    }
   ],
   "source": [
    "numeric_cols = data.select_dtypes(include =[\"int64\",\"float64\"]).columns.tolist()\n",
    "numeric_cols"
   ]
  },
  {
   "cell_type": "code",
   "execution_count": 9,
   "id": "8830eef8-3a70-4c0b-b1a4-5e7627b05a95",
   "metadata": {},
   "outputs": [],
   "source": [
    "data_no_numerical = data[[col for col in data.columns if col not in numeric_cols]].copy() # we do copy for saftey, becuase of references"
   ]
  },
  {
   "cell_type": "code",
   "execution_count": 10,
   "id": "54e02ee5-453b-40a4-8027-f3ef03511378",
   "metadata": {},
   "outputs": [
    {
     "data": {
      "text/html": [
       "<div>\n",
       "<style scoped>\n",
       "    .dataframe tbody tr th:only-of-type {\n",
       "        vertical-align: middle;\n",
       "    }\n",
       "\n",
       "    .dataframe tbody tr th {\n",
       "        vertical-align: top;\n",
       "    }\n",
       "\n",
       "    .dataframe thead th {\n",
       "        text-align: right;\n",
       "    }\n",
       "</style>\n",
       "<table border=\"1\" class=\"dataframe\">\n",
       "  <thead>\n",
       "    <tr style=\"text-align: right;\">\n",
       "      <th></th>\n",
       "      <th>track</th>\n",
       "      <th>album_name</th>\n",
       "      <th>artist</th>\n",
       "      <th>release_date</th>\n",
       "      <th>isrc</th>\n",
       "      <th>all_time_rank</th>\n",
       "      <th>spotify_streams</th>\n",
       "      <th>spotify_playlist_count</th>\n",
       "      <th>spotify_playlist_reach</th>\n",
       "      <th>youtube_views</th>\n",
       "      <th>...</th>\n",
       "      <th>tiktok_likes</th>\n",
       "      <th>tiktok_views</th>\n",
       "      <th>youtube_playlist_reach</th>\n",
       "      <th>airplay_spins</th>\n",
       "      <th>siriusxm_spins</th>\n",
       "      <th>deezer_playlist_reach</th>\n",
       "      <th>pandora_streams</th>\n",
       "      <th>pandora_track_stations</th>\n",
       "      <th>soundcloud_streams</th>\n",
       "      <th>shazam_counts</th>\n",
       "    </tr>\n",
       "  </thead>\n",
       "  <tbody>\n",
       "    <tr>\n",
       "      <th>0</th>\n",
       "      <td>MILLION DOLLAR BABY</td>\n",
       "      <td>Million Dollar Baby - Single</td>\n",
       "      <td>Tommy Richman</td>\n",
       "      <td>4/26/2024</td>\n",
       "      <td>QM24S2402528</td>\n",
       "      <td>1</td>\n",
       "      <td>390,470,936</td>\n",
       "      <td>30,716</td>\n",
       "      <td>196,631,588</td>\n",
       "      <td>84,274,754</td>\n",
       "      <td>...</td>\n",
       "      <td>651,565,900</td>\n",
       "      <td>5,332,281,936</td>\n",
       "      <td>150,597,040</td>\n",
       "      <td>40,975</td>\n",
       "      <td>684</td>\n",
       "      <td>17,598,718</td>\n",
       "      <td>18,004,655</td>\n",
       "      <td>22,931</td>\n",
       "      <td>4,818,457</td>\n",
       "      <td>2,669,262</td>\n",
       "    </tr>\n",
       "    <tr>\n",
       "      <th>1</th>\n",
       "      <td>Not Like Us</td>\n",
       "      <td>Not Like Us</td>\n",
       "      <td>Kendrick Lamar</td>\n",
       "      <td>5/4/2024</td>\n",
       "      <td>USUG12400910</td>\n",
       "      <td>2</td>\n",
       "      <td>323,703,884</td>\n",
       "      <td>28,113</td>\n",
       "      <td>174,597,137</td>\n",
       "      <td>116,347,040</td>\n",
       "      <td>...</td>\n",
       "      <td>35,223,547</td>\n",
       "      <td>208,339,025</td>\n",
       "      <td>156,380,351</td>\n",
       "      <td>40,778</td>\n",
       "      <td>3</td>\n",
       "      <td>10,422,430</td>\n",
       "      <td>7,780,028</td>\n",
       "      <td>28,444</td>\n",
       "      <td>6,623,075</td>\n",
       "      <td>1,118,279</td>\n",
       "    </tr>\n",
       "    <tr>\n",
       "      <th>2</th>\n",
       "      <td>i like the way you kiss me</td>\n",
       "      <td>I like the way you kiss me</td>\n",
       "      <td>Artemas</td>\n",
       "      <td>3/19/2024</td>\n",
       "      <td>QZJ842400387</td>\n",
       "      <td>3</td>\n",
       "      <td>601,309,283</td>\n",
       "      <td>54,331</td>\n",
       "      <td>211,607,669</td>\n",
       "      <td>122,599,116</td>\n",
       "      <td>...</td>\n",
       "      <td>275,154,237</td>\n",
       "      <td>3,369,120,610</td>\n",
       "      <td>373,784,955</td>\n",
       "      <td>74,333</td>\n",
       "      <td>536</td>\n",
       "      <td>36,321,847</td>\n",
       "      <td>5,022,621</td>\n",
       "      <td>5,639</td>\n",
       "      <td>7,208,651</td>\n",
       "      <td>5,285,340</td>\n",
       "    </tr>\n",
       "    <tr>\n",
       "      <th>3</th>\n",
       "      <td>Flowers</td>\n",
       "      <td>Flowers - Single</td>\n",
       "      <td>Miley Cyrus</td>\n",
       "      <td>1/12/2023</td>\n",
       "      <td>USSM12209777</td>\n",
       "      <td>4</td>\n",
       "      <td>2,031,280,633</td>\n",
       "      <td>269,802</td>\n",
       "      <td>136,569,078</td>\n",
       "      <td>1,096,100,899</td>\n",
       "      <td>...</td>\n",
       "      <td>1,078,757,968</td>\n",
       "      <td>14,603,725,994</td>\n",
       "      <td>3,351,188,582</td>\n",
       "      <td>1,474,799</td>\n",
       "      <td>2,182</td>\n",
       "      <td>24,684,248</td>\n",
       "      <td>190,260,277</td>\n",
       "      <td>203,384</td>\n",
       "      <td>NaN</td>\n",
       "      <td>11,822,942</td>\n",
       "    </tr>\n",
       "    <tr>\n",
       "      <th>4</th>\n",
       "      <td>Houdini</td>\n",
       "      <td>Houdini</td>\n",
       "      <td>Eminem</td>\n",
       "      <td>5/31/2024</td>\n",
       "      <td>USUG12403398</td>\n",
       "      <td>5</td>\n",
       "      <td>107,034,922</td>\n",
       "      <td>7,223</td>\n",
       "      <td>151,469,874</td>\n",
       "      <td>77,373,957</td>\n",
       "      <td>...</td>\n",
       "      <td>NaN</td>\n",
       "      <td>NaN</td>\n",
       "      <td>112,763,851</td>\n",
       "      <td>12,185</td>\n",
       "      <td>1</td>\n",
       "      <td>17,660,624</td>\n",
       "      <td>4,493,884</td>\n",
       "      <td>7,006</td>\n",
       "      <td>207,179</td>\n",
       "      <td>457,017</td>\n",
       "    </tr>\n",
       "    <tr>\n",
       "      <th>...</th>\n",
       "      <td>...</td>\n",
       "      <td>...</td>\n",
       "      <td>...</td>\n",
       "      <td>...</td>\n",
       "      <td>...</td>\n",
       "      <td>...</td>\n",
       "      <td>...</td>\n",
       "      <td>...</td>\n",
       "      <td>...</td>\n",
       "      <td>...</td>\n",
       "      <td>...</td>\n",
       "      <td>...</td>\n",
       "      <td>...</td>\n",
       "      <td>...</td>\n",
       "      <td>...</td>\n",
       "      <td>...</td>\n",
       "      <td>...</td>\n",
       "      <td>...</td>\n",
       "      <td>...</td>\n",
       "      <td>...</td>\n",
       "      <td>...</td>\n",
       "    </tr>\n",
       "    <tr>\n",
       "      <th>4595</th>\n",
       "      <td>For the Last Time</td>\n",
       "      <td>For the Last Time</td>\n",
       "      <td>$uicideboy$</td>\n",
       "      <td>9/5/2017</td>\n",
       "      <td>QM8DG1703420</td>\n",
       "      <td>4,585</td>\n",
       "      <td>305,049,963</td>\n",
       "      <td>65,770</td>\n",
       "      <td>5,103,054</td>\n",
       "      <td>149,247,747</td>\n",
       "      <td>...</td>\n",
       "      <td>20,202,000</td>\n",
       "      <td>143,934,379</td>\n",
       "      <td>53,016</td>\n",
       "      <td>6</td>\n",
       "      <td>NaN</td>\n",
       "      <td>14,217</td>\n",
       "      <td>20,104,066</td>\n",
       "      <td>13,184</td>\n",
       "      <td>50,633,006</td>\n",
       "      <td>656,337</td>\n",
       "    </tr>\n",
       "    <tr>\n",
       "      <th>4596</th>\n",
       "      <td>Dil Meri Na Sune</td>\n",
       "      <td>Dil Meri Na Sune (From \"Genius\")</td>\n",
       "      <td>Atif Aslam</td>\n",
       "      <td>7/27/2018</td>\n",
       "      <td>INT101800122</td>\n",
       "      <td>4,575</td>\n",
       "      <td>52,282,360</td>\n",
       "      <td>4,602</td>\n",
       "      <td>1,449,767</td>\n",
       "      <td>943,920,245</td>\n",
       "      <td>...</td>\n",
       "      <td>1,721</td>\n",
       "      <td>19,935</td>\n",
       "      <td>24,973,048</td>\n",
       "      <td>412</td>\n",
       "      <td>NaN</td>\n",
       "      <td>927</td>\n",
       "      <td>NaN</td>\n",
       "      <td>NaN</td>\n",
       "      <td>NaN</td>\n",
       "      <td>193,590</td>\n",
       "    </tr>\n",
       "    <tr>\n",
       "      <th>4597</th>\n",
       "      <td>Grace (feat. 42 Dugg)</td>\n",
       "      <td>My Turn</td>\n",
       "      <td>Lil Baby</td>\n",
       "      <td>2/28/2020</td>\n",
       "      <td>USUG12000043</td>\n",
       "      <td>4,571</td>\n",
       "      <td>189,972,685</td>\n",
       "      <td>72,066</td>\n",
       "      <td>6,704,802</td>\n",
       "      <td>201,027,333</td>\n",
       "      <td>...</td>\n",
       "      <td>5,288,677</td>\n",
       "      <td>36,849,005</td>\n",
       "      <td>29,253,152</td>\n",
       "      <td>204</td>\n",
       "      <td>NaN</td>\n",
       "      <td>74</td>\n",
       "      <td>84,426,740</td>\n",
       "      <td>28,999</td>\n",
       "      <td>NaN</td>\n",
       "      <td>1,135,998</td>\n",
       "    </tr>\n",
       "    <tr>\n",
       "      <th>4598</th>\n",
       "      <td>Nashe Si Chadh Gayi</td>\n",
       "      <td>November Top 10 Songs</td>\n",
       "      <td>Arijit Singh</td>\n",
       "      <td>11/8/2016</td>\n",
       "      <td>INY091600067</td>\n",
       "      <td>4,591</td>\n",
       "      <td>145,467,020</td>\n",
       "      <td>14,037</td>\n",
       "      <td>7,387,064</td>\n",
       "      <td>1,118,595,159</td>\n",
       "      <td>...</td>\n",
       "      <td>2,534,831</td>\n",
       "      <td>37,757,301</td>\n",
       "      <td>25,150,516</td>\n",
       "      <td>1,200</td>\n",
       "      <td>NaN</td>\n",
       "      <td>NaN</td>\n",
       "      <td>6,817,840</td>\n",
       "      <td>NaN</td>\n",
       "      <td>NaN</td>\n",
       "      <td>448,292</td>\n",
       "    </tr>\n",
       "    <tr>\n",
       "      <th>4599</th>\n",
       "      <td>Me Acostumbre (feat. Bad Bunny)</td>\n",
       "      <td>Me Acostumbre (feat. Bad Bunny)</td>\n",
       "      <td>Arcï¿½ï¿½</td>\n",
       "      <td>4/11/2017</td>\n",
       "      <td>USB271700107</td>\n",
       "      <td>4,593</td>\n",
       "      <td>255,740,653</td>\n",
       "      <td>32,138</td>\n",
       "      <td>14,066,526</td>\n",
       "      <td>866,300,755</td>\n",
       "      <td>...</td>\n",
       "      <td>10,055,461</td>\n",
       "      <td>70,196,388</td>\n",
       "      <td>175,831,376</td>\n",
       "      <td>2,083</td>\n",
       "      <td>NaN</td>\n",
       "      <td>127,479</td>\n",
       "      <td>69,006,739</td>\n",
       "      <td>11,320</td>\n",
       "      <td>NaN</td>\n",
       "      <td>767,006</td>\n",
       "    </tr>\n",
       "  </tbody>\n",
       "</table>\n",
       "<p>4600 rows × 22 columns</p>\n",
       "</div>"
      ],
      "text/plain": [
       "                                track                        album_name  \\\n",
       "0                 MILLION DOLLAR BABY      Million Dollar Baby - Single   \n",
       "1                         Not Like Us                       Not Like Us   \n",
       "2          i like the way you kiss me        I like the way you kiss me   \n",
       "3                             Flowers                  Flowers - Single   \n",
       "4                             Houdini                           Houdini   \n",
       "...                               ...                               ...   \n",
       "4595                For the Last Time                 For the Last Time   \n",
       "4596                 Dil Meri Na Sune  Dil Meri Na Sune (From \"Genius\")   \n",
       "4597            Grace (feat. 42 Dugg)                           My Turn   \n",
       "4598              Nashe Si Chadh Gayi             November Top 10 Songs   \n",
       "4599  Me Acostumbre (feat. Bad Bunny)   Me Acostumbre (feat. Bad Bunny)   \n",
       "\n",
       "              artist release_date          isrc all_time_rank spotify_streams  \\\n",
       "0      Tommy Richman    4/26/2024  QM24S2402528             1     390,470,936   \n",
       "1     Kendrick Lamar     5/4/2024  USUG12400910             2     323,703,884   \n",
       "2            Artemas    3/19/2024  QZJ842400387             3     601,309,283   \n",
       "3        Miley Cyrus    1/12/2023  USSM12209777             4   2,031,280,633   \n",
       "4             Eminem    5/31/2024  USUG12403398             5     107,034,922   \n",
       "...              ...          ...           ...           ...             ...   \n",
       "4595     $uicideboy$     9/5/2017  QM8DG1703420         4,585     305,049,963   \n",
       "4596      Atif Aslam    7/27/2018  INT101800122         4,575      52,282,360   \n",
       "4597        Lil Baby    2/28/2020  USUG12000043         4,571     189,972,685   \n",
       "4598    Arijit Singh    11/8/2016  INY091600067         4,591     145,467,020   \n",
       "4599       Arcï¿½ï¿½    4/11/2017  USB271700107         4,593     255,740,653   \n",
       "\n",
       "     spotify_playlist_count spotify_playlist_reach  youtube_views  ...  \\\n",
       "0                    30,716            196,631,588     84,274,754  ...   \n",
       "1                    28,113            174,597,137    116,347,040  ...   \n",
       "2                    54,331            211,607,669    122,599,116  ...   \n",
       "3                   269,802            136,569,078  1,096,100,899  ...   \n",
       "4                     7,223            151,469,874     77,373,957  ...   \n",
       "...                     ...                    ...            ...  ...   \n",
       "4595                 65,770              5,103,054    149,247,747  ...   \n",
       "4596                  4,602              1,449,767    943,920,245  ...   \n",
       "4597                 72,066              6,704,802    201,027,333  ...   \n",
       "4598                 14,037              7,387,064  1,118,595,159  ...   \n",
       "4599                 32,138             14,066,526    866,300,755  ...   \n",
       "\n",
       "       tiktok_likes    tiktok_views youtube_playlist_reach airplay_spins  \\\n",
       "0       651,565,900   5,332,281,936            150,597,040        40,975   \n",
       "1        35,223,547     208,339,025            156,380,351        40,778   \n",
       "2       275,154,237   3,369,120,610            373,784,955        74,333   \n",
       "3     1,078,757,968  14,603,725,994          3,351,188,582     1,474,799   \n",
       "4               NaN             NaN            112,763,851        12,185   \n",
       "...             ...             ...                    ...           ...   \n",
       "4595     20,202,000     143,934,379                 53,016             6   \n",
       "4596          1,721          19,935             24,973,048           412   \n",
       "4597      5,288,677      36,849,005             29,253,152           204   \n",
       "4598      2,534,831      37,757,301             25,150,516         1,200   \n",
       "4599     10,055,461      70,196,388            175,831,376         2,083   \n",
       "\n",
       "     siriusxm_spins deezer_playlist_reach pandora_streams  \\\n",
       "0               684            17,598,718      18,004,655   \n",
       "1                 3            10,422,430       7,780,028   \n",
       "2               536            36,321,847       5,022,621   \n",
       "3             2,182            24,684,248     190,260,277   \n",
       "4                 1            17,660,624       4,493,884   \n",
       "...             ...                   ...             ...   \n",
       "4595            NaN                14,217      20,104,066   \n",
       "4596            NaN                   927             NaN   \n",
       "4597            NaN                    74      84,426,740   \n",
       "4598            NaN                   NaN       6,817,840   \n",
       "4599            NaN               127,479      69,006,739   \n",
       "\n",
       "     pandora_track_stations soundcloud_streams shazam_counts  \n",
       "0                    22,931          4,818,457     2,669,262  \n",
       "1                    28,444          6,623,075     1,118,279  \n",
       "2                     5,639          7,208,651     5,285,340  \n",
       "3                   203,384                NaN    11,822,942  \n",
       "4                     7,006            207,179       457,017  \n",
       "...                     ...                ...           ...  \n",
       "4595                 13,184         50,633,006       656,337  \n",
       "4596                    NaN                NaN       193,590  \n",
       "4597                 28,999                NaN     1,135,998  \n",
       "4598                    NaN                NaN       448,292  \n",
       "4599                 11,320                NaN       767,006  \n",
       "\n",
       "[4600 rows x 22 columns]"
      ]
     },
     "execution_count": 10,
     "metadata": {},
     "output_type": "execute_result"
    }
   ],
   "source": [
    "data_no_numerical"
   ]
  },
  {
   "cell_type": "code",
   "execution_count": null,
   "id": "093b2d60-36b8-44a6-b407-46fdcaed3956",
   "metadata": {},
   "outputs": [],
   "source": [
    "data"
   ]
  },
  {
   "cell_type": "code",
   "execution_count": 11,
   "id": "756019b1-1d3b-4f9d-b066-8ea7576b61ab",
   "metadata": {},
   "outputs": [
    {
     "data": {
      "text/plain": [
       "65.17105263157895"
      ]
     },
     "execution_count": 11,
     "metadata": {},
     "output_type": "execute_result"
    }
   ],
   "source": [
    "(data_no_numerical.isna().sum().sum())/(data.isna().sum().sum()) * 100\n"
   ]
  },
  {
   "cell_type": "markdown",
   "id": "1b986421-ffa9-4688-ab01-03d230ddb304",
   "metadata": {},
   "source": [
    "This tells us that about 65 percent of the missing data is in the categorical columns. However, we have to handle the missing data in both categorical and numerical"
   ]
  },
  {
   "cell_type": "markdown",
   "id": "817c81ff-b9ed-4ce7-be65-2fe41e3d246c",
   "metadata": {},
   "source": [
    "Now we see that a big proportion of the features are supposed to be numbers but are string. Let us change that."
   ]
  },
  {
   "cell_type": "code",
   "execution_count": 74,
   "id": "e92b5c05-3d2b-452e-bd7d-44b761e1ebab",
   "metadata": {},
   "outputs": [
    {
     "data": {
      "text/plain": [
       "Index(['track', 'album_name', 'artist', 'release_date', 'isrc',\n",
       "       'all_time_rank', 'track_score', 'spotify_streams',\n",
       "       'spotify_playlist_count', 'spotify_playlist_reach',\n",
       "       'spotify_popularity', 'youtube_views', 'youtube_likes', 'tiktok_posts',\n",
       "       'tiktok_likes', 'tiktok_views', 'youtube_playlist_reach',\n",
       "       'apple_music_playlist_count', 'airplay_spins', 'siriusxm_spins',\n",
       "       'deezer_playlist_count', 'deezer_playlist_reach',\n",
       "       'amazon_playlist_count', 'pandora_streams', 'pandora_track_stations',\n",
       "       'soundcloud_streams', 'shazam_counts', 'explicit_track',\n",
       "       'year_released', 'month_release'],\n",
       "      dtype='object')"
      ]
     },
     "execution_count": 74,
     "metadata": {},
     "output_type": "execute_result"
    }
   ],
   "source": [
    "data.columns"
   ]
  },
  {
   "cell_type": "code",
   "execution_count": 99,
   "id": "5e5c3f59-68b5-44b9-bde5-a9ec9bfc105d",
   "metadata": {},
   "outputs": [
    {
     "data": {
      "text/plain": [
       "track                                 object\n",
       "album_name                            object\n",
       "artist                                object\n",
       "release_date                  datetime64[ns]\n",
       "isrc                                  object\n",
       "all_time_rank                         object\n",
       "track_score                          float64\n",
       "spotify_streams                      float64\n",
       "spotify_playlist_count               float64\n",
       "spotify_playlist_reach               float64\n",
       "spotify_popularity                   float64\n",
       "youtube_views                        float64\n",
       "youtube_likes                        float64\n",
       "tiktok_posts                         float64\n",
       "tiktok_likes                         float64\n",
       "tiktok_views                         float64\n",
       "youtube_playlist_reach               float64\n",
       "apple_music_playlist_count           float64\n",
       "airplay_spins                         object\n",
       "siriusxm_spins                        object\n",
       "deezer_playlist_count                float64\n",
       "deezer_playlist_reach                 object\n",
       "amazon_playlist_count                float64\n",
       "pandora_streams                       object\n",
       "pandora_track_stations                object\n",
       "soundcloud_streams                    object\n",
       "shazam_counts                         object\n",
       "explicit_track                         int64\n",
       "year_released                          int32\n",
       "month_release                          int32\n",
       "dtype: object"
      ]
     },
     "execution_count": 99,
     "metadata": {},
     "output_type": "execute_result"
    }
   ],
   "source": [
    "data.dtypes"
   ]
  },
  {
   "cell_type": "code",
   "execution_count": 98,
   "id": "f18655b6-3a91-47fe-8f15-6b0341dd273c",
   "metadata": {},
   "outputs": [
    {
     "data": {
      "text/plain": [
       "0        30716.0\n",
       "1        28113.0\n",
       "2        54331.0\n",
       "3       269802.0\n",
       "4         7223.0\n",
       "          ...   \n",
       "4595     65770.0\n",
       "4596      4602.0\n",
       "4597     72066.0\n",
       "4598     14037.0\n",
       "4599     32138.0\n",
       "Name: spotify_playlist_count, Length: 4598, dtype: float64"
      ]
     },
     "execution_count": 98,
     "metadata": {},
     "output_type": "execute_result"
    }
   ],
   "source": [
    "data.spotify_playlist_count"
   ]
  },
  {
   "cell_type": "code",
   "execution_count": 111,
   "id": "cc89fd9d-6a0a-4f75-a46b-d7c22d9df4c9",
   "metadata": {},
   "outputs": [
    {
     "ename": "SyntaxError",
     "evalue": "invalid syntax (3712187245.py, line 1)",
     "output_type": "error",
     "traceback": [
      "\u001b[1;36m  Cell \u001b[1;32mIn[111], line 1\u001b[1;36m\u001b[0m\n\u001b[1;33m    features = [\"youtube_playlist_reach\",\"airplay_spins\",\"siriusxm_spins\",\"deezer_playlist_reach\",\"pandora_streams\",\"pandora_track_stations\",\"soundcloud_streams\",\"shazam_counts\",,\"spotify_playlist_reach\",\"youtube_views\",\"youtube_likes\",\"tiktok_posts\",\"tiktok_likes\",\"tiktok_views\"]\u001b[0m\n\u001b[1;37m                                                                                                                                                                                  ^\u001b[0m\n\u001b[1;31mSyntaxError\u001b[0m\u001b[1;31m:\u001b[0m invalid syntax\n"
     ]
    }
   ],
   "source": [
    "features = [\"youtube_playlist_reach\",\"airplay_spins\",\"siriusxm_spins\",\"deezer_playlist_reach\",\"pandora_streams\",\"pandora_track_stations\",\"soundcloud_streams\",\"shazam_counts\",,\"spotify_playlist_reach\",\"youtube_views\",\"youtube_likes\",\"tiktok_posts\",\"tiktok_likes\",\"tiktok_views\"]\n",
    "#Needs rerunning the data to fix a bit\n",
    "for feature in features:\n",
    "    data[feature] = data[feature].str.replace(\",\",\"\",regex=False).astype(float)"
   ]
  },
  {
   "cell_type": "markdown",
   "id": "691a5835-7cd4-4050-92e5-a918c7a69dce",
   "metadata": {},
   "source": [
    "For the next step I will look at the featrues individually and see if there are any that are unnecessary."
   ]
  },
  {
   "cell_type": "code",
   "execution_count": 12,
   "id": "79baf121-3a39-4a4d-a4c7-9af787395724",
   "metadata": {},
   "outputs": [
    {
     "data": {
      "text/plain": [
       "4598"
      ]
     },
     "execution_count": 12,
     "metadata": {},
     "output_type": "execute_result"
    }
   ],
   "source": [
    "len(data.isrc.unique()) # less than the songs in the list"
   ]
  },
  {
   "cell_type": "code",
   "execution_count": 13,
   "id": "91a89f60-0ac5-4ec8-bffe-a4404b041303",
   "metadata": {},
   "outputs": [
    {
     "data": {
      "text/plain": [
       "isrc\n",
       "USWL11700269    2\n",
       "TCAGJ2289254    2\n",
       "QM24S2402528    1\n",
       "USRN11900133    1\n",
       "USSD12300585    1\n",
       "               ..\n",
       "TCJPT2289709    1\n",
       "USWL12302932    1\n",
       "USUG11903492    1\n",
       "GBKPL2163189    1\n",
       "USB271700107    1\n",
       "Name: count, Length: 4598, dtype: int64"
      ]
     },
     "execution_count": 13,
     "metadata": {},
     "output_type": "execute_result"
    }
   ],
   "source": [
    "data.isrc.value_counts()"
   ]
  },
  {
   "cell_type": "markdown",
   "id": "310885f3-eb7b-4932-91dd-04657b71041b",
   "metadata": {},
   "source": [
    "It is weird that we see songs that actually have repearing. Let us see what is going on."
   ]
  },
  {
   "cell_type": "code",
   "execution_count": 14,
   "id": "97b766b5-e16f-4759-bb4d-c97a4161e24d",
   "metadata": {},
   "outputs": [
    {
     "data": {
      "text/html": [
       "<div>\n",
       "<style scoped>\n",
       "    .dataframe tbody tr th:only-of-type {\n",
       "        vertical-align: middle;\n",
       "    }\n",
       "\n",
       "    .dataframe tbody tr th {\n",
       "        vertical-align: top;\n",
       "    }\n",
       "\n",
       "    .dataframe thead th {\n",
       "        text-align: right;\n",
       "    }\n",
       "</style>\n",
       "<table border=\"1\" class=\"dataframe\">\n",
       "  <thead>\n",
       "    <tr style=\"text-align: right;\">\n",
       "      <th></th>\n",
       "      <th>track</th>\n",
       "      <th>album_name</th>\n",
       "      <th>artist</th>\n",
       "      <th>release_date</th>\n",
       "      <th>isrc</th>\n",
       "      <th>all_time_rank</th>\n",
       "      <th>track_score</th>\n",
       "      <th>spotify_streams</th>\n",
       "      <th>spotify_playlist_count</th>\n",
       "      <th>spotify_playlist_reach</th>\n",
       "      <th>...</th>\n",
       "      <th>siriusxm_spins</th>\n",
       "      <th>deezer_playlist_count</th>\n",
       "      <th>deezer_playlist_reach</th>\n",
       "      <th>amazon_playlist_count</th>\n",
       "      <th>pandora_streams</th>\n",
       "      <th>pandora_track_stations</th>\n",
       "      <th>soundcloud_streams</th>\n",
       "      <th>shazam_counts</th>\n",
       "      <th>tidal_popularity</th>\n",
       "      <th>explicit_track</th>\n",
       "    </tr>\n",
       "  </thead>\n",
       "  <tbody>\n",
       "    <tr>\n",
       "      <th>2449</th>\n",
       "      <td>Tennessee Orange</td>\n",
       "      <td>Tennessee Orange</td>\n",
       "      <td>Megan Moroney</td>\n",
       "      <td>9/2/2022</td>\n",
       "      <td>TCAGJ2289254</td>\n",
       "      <td>2,424</td>\n",
       "      <td>28.9</td>\n",
       "      <td>227,893,586</td>\n",
       "      <td>28,139</td>\n",
       "      <td>12,480,714</td>\n",
       "      <td>...</td>\n",
       "      <td>34</td>\n",
       "      <td>5.0</td>\n",
       "      <td>1,370</td>\n",
       "      <td>49.0</td>\n",
       "      <td>56,972,562</td>\n",
       "      <td>26,968</td>\n",
       "      <td>1,336,043</td>\n",
       "      <td>708,143</td>\n",
       "      <td>NaN</td>\n",
       "      <td>0</td>\n",
       "    </tr>\n",
       "    <tr>\n",
       "      <th>2450</th>\n",
       "      <td>Tennessee Orange</td>\n",
       "      <td>Tennessee Orange</td>\n",
       "      <td>Megan Moroney</td>\n",
       "      <td>9/2/2022</td>\n",
       "      <td>TCAGJ2289254</td>\n",
       "      <td>2,424</td>\n",
       "      <td>28.9</td>\n",
       "      <td>227,893,586</td>\n",
       "      <td>28,139</td>\n",
       "      <td>12,480,714</td>\n",
       "      <td>...</td>\n",
       "      <td>34</td>\n",
       "      <td>5.0</td>\n",
       "      <td>1,370</td>\n",
       "      <td>49.0</td>\n",
       "      <td>56,972,562</td>\n",
       "      <td>26,968</td>\n",
       "      <td>1,336,043</td>\n",
       "      <td>708,143</td>\n",
       "      <td>NaN</td>\n",
       "      <td>0</td>\n",
       "    </tr>\n",
       "    <tr>\n",
       "      <th>3447</th>\n",
       "      <td>Dembow</td>\n",
       "      <td>Dembow</td>\n",
       "      <td>Danny Ocean</td>\n",
       "      <td>12/8/2017</td>\n",
       "      <td>USWL11700269</td>\n",
       "      <td>3,441</td>\n",
       "      <td>23.3</td>\n",
       "      <td>579,189,526</td>\n",
       "      <td>60,397</td>\n",
       "      <td>11,805,084</td>\n",
       "      <td>...</td>\n",
       "      <td>9</td>\n",
       "      <td>20.0</td>\n",
       "      <td>37,649</td>\n",
       "      <td>12.0</td>\n",
       "      <td>6,723,858</td>\n",
       "      <td>7,832</td>\n",
       "      <td>NaN</td>\n",
       "      <td>1,619,550</td>\n",
       "      <td>NaN</td>\n",
       "      <td>0</td>\n",
       "    </tr>\n",
       "    <tr>\n",
       "      <th>3450</th>\n",
       "      <td>Dembow</td>\n",
       "      <td>Dembow</td>\n",
       "      <td>Danny Ocean</td>\n",
       "      <td>12/8/2017</td>\n",
       "      <td>USWL11700269</td>\n",
       "      <td>3,441</td>\n",
       "      <td>23.3</td>\n",
       "      <td>579,189,526</td>\n",
       "      <td>60,397</td>\n",
       "      <td>11,805,084</td>\n",
       "      <td>...</td>\n",
       "      <td>9</td>\n",
       "      <td>20.0</td>\n",
       "      <td>37,649</td>\n",
       "      <td>12.0</td>\n",
       "      <td>6,723,858</td>\n",
       "      <td>7,832</td>\n",
       "      <td>NaN</td>\n",
       "      <td>1,619,550</td>\n",
       "      <td>NaN</td>\n",
       "      <td>0</td>\n",
       "    </tr>\n",
       "  </tbody>\n",
       "</table>\n",
       "<p>4 rows × 29 columns</p>\n",
       "</div>"
      ],
      "text/plain": [
       "                 track        album_name         artist release_date  \\\n",
       "2449  Tennessee Orange  Tennessee Orange  Megan Moroney     9/2/2022   \n",
       "2450  Tennessee Orange  Tennessee Orange  Megan Moroney     9/2/2022   \n",
       "3447            Dembow            Dembow    Danny Ocean    12/8/2017   \n",
       "3450            Dembow            Dembow    Danny Ocean    12/8/2017   \n",
       "\n",
       "              isrc all_time_rank  track_score spotify_streams  \\\n",
       "2449  TCAGJ2289254         2,424         28.9     227,893,586   \n",
       "2450  TCAGJ2289254         2,424         28.9     227,893,586   \n",
       "3447  USWL11700269         3,441         23.3     579,189,526   \n",
       "3450  USWL11700269         3,441         23.3     579,189,526   \n",
       "\n",
       "     spotify_playlist_count spotify_playlist_reach  ...  siriusxm_spins  \\\n",
       "2449                 28,139             12,480,714  ...              34   \n",
       "2450                 28,139             12,480,714  ...              34   \n",
       "3447                 60,397             11,805,084  ...               9   \n",
       "3450                 60,397             11,805,084  ...               9   \n",
       "\n",
       "     deezer_playlist_count deezer_playlist_reach amazon_playlist_count  \\\n",
       "2449                   5.0                 1,370                  49.0   \n",
       "2450                   5.0                 1,370                  49.0   \n",
       "3447                  20.0                37,649                  12.0   \n",
       "3450                  20.0                37,649                  12.0   \n",
       "\n",
       "     pandora_streams pandora_track_stations soundcloud_streams  shazam_counts  \\\n",
       "2449      56,972,562                 26,968          1,336,043        708,143   \n",
       "2450      56,972,562                 26,968          1,336,043        708,143   \n",
       "3447       6,723,858                  7,832                NaN      1,619,550   \n",
       "3450       6,723,858                  7,832                NaN      1,619,550   \n",
       "\n",
       "     tidal_popularity explicit_track  \n",
       "2449              NaN              0  \n",
       "2450              NaN              0  \n",
       "3447              NaN              0  \n",
       "3450              NaN              0  \n",
       "\n",
       "[4 rows x 29 columns]"
      ]
     },
     "execution_count": 14,
     "metadata": {},
     "output_type": "execute_result"
    }
   ],
   "source": [
    " data[data['isrc'].isin(['USWL11700269', 'TCAGJ2289254'])]"
   ]
  },
  {
   "cell_type": "markdown",
   "id": "1ce67a6d-a44e-4008-9c43-eae96e8d1f33",
   "metadata": {},
   "source": [
    "We see that there are 2 repeating samples and we are going to remove them from the data."
   ]
  },
  {
   "cell_type": "code",
   "execution_count": 15,
   "id": "49dbb838-15d8-442c-9af7-51c347e7a02a",
   "metadata": {},
   "outputs": [
    {
     "data": {
      "text/plain": [
       "(4598, 29)"
      ]
     },
     "execution_count": 15,
     "metadata": {},
     "output_type": "execute_result"
    }
   ],
   "source": [
    "data = data.drop_duplicates()\n",
    "data.shape"
   ]
  },
  {
   "cell_type": "code",
   "execution_count": 16,
   "id": "d7f367d3-edd8-4881-9270-65b1e7dee4b8",
   "metadata": {},
   "outputs": [
    {
     "data": {
      "text/plain": [
       "0       196,631,588\n",
       "1       174,597,137\n",
       "2       211,607,669\n",
       "3       136,569,078\n",
       "4       151,469,874\n",
       "           ...     \n",
       "4595      5,103,054\n",
       "4596      1,449,767\n",
       "4597      6,704,802\n",
       "4598      7,387,064\n",
       "4599     14,066,526\n",
       "Name: spotify_playlist_reach, Length: 4598, dtype: object"
      ]
     },
     "execution_count": 16,
     "metadata": {},
     "output_type": "execute_result"
    }
   ],
   "source": [
    "data.spotify_playlist_reach # info as to how many listeners are reaching this music throguh different playlists"
   ]
  },
  {
   "cell_type": "markdown",
   "id": "18f407c1-429c-4420-bb11-e3d97c2cb90d",
   "metadata": {},
   "source": [
    "Something interesting here is that we dont know how popularity is actually calculated. Let us see how it varies"
   ]
  },
  {
   "cell_type": "code",
   "execution_count": 17,
   "id": "afdbf5bb-a6ae-4c54-91c7-ffa1fc2022d4",
   "metadata": {},
   "outputs": [
    {
     "name": "stdout",
     "output_type": "stream",
     "text": [
      "0       92.0\n",
      "1       92.0\n",
      "2       92.0\n",
      "3       85.0\n",
      "4       88.0\n",
      "        ... \n",
      "4595    71.0\n",
      "4596    56.0\n",
      "4597    65.0\n",
      "4598    66.0\n",
      "4599    64.0\n",
      "Name: spotify_popularity, Length: 4598, dtype: float64\n",
      "\n",
      "Description of popularity:\n",
      " count    3794.000000\n",
      "mean       63.498682\n",
      "std        16.189952\n",
      "min         1.000000\n",
      "25%        61.000000\n",
      "50%        67.000000\n",
      "75%        73.000000\n",
      "max        96.000000\n",
      "Name: spotify_popularity, dtype: float64\n"
     ]
    }
   ],
   "source": [
    "print(data.spotify_popularity)\n",
    "print(f\"\\nDescription of popularity:\\n {data.spotify_popularity.describe()}\")"
   ]
  },
  {
   "cell_type": "code",
   "execution_count": 18,
   "id": "4ff71bfd-b2c8-42d9-b07a-1b390deda14e",
   "metadata": {},
   "outputs": [
    {
     "data": {
      "text/html": [
       "<div>\n",
       "<style scoped>\n",
       "    .dataframe tbody tr th:only-of-type {\n",
       "        vertical-align: middle;\n",
       "    }\n",
       "\n",
       "    .dataframe tbody tr th {\n",
       "        vertical-align: top;\n",
       "    }\n",
       "\n",
       "    .dataframe thead th {\n",
       "        text-align: right;\n",
       "    }\n",
       "</style>\n",
       "<table border=\"1\" class=\"dataframe\">\n",
       "  <thead>\n",
       "    <tr style=\"text-align: right;\">\n",
       "      <th></th>\n",
       "      <th>track</th>\n",
       "      <th>album_name</th>\n",
       "      <th>artist</th>\n",
       "      <th>release_date</th>\n",
       "      <th>isrc</th>\n",
       "      <th>all_time_rank</th>\n",
       "      <th>track_score</th>\n",
       "      <th>spotify_streams</th>\n",
       "      <th>spotify_playlist_count</th>\n",
       "      <th>spotify_playlist_reach</th>\n",
       "      <th>...</th>\n",
       "      <th>siriusxm_spins</th>\n",
       "      <th>deezer_playlist_count</th>\n",
       "      <th>deezer_playlist_reach</th>\n",
       "      <th>amazon_playlist_count</th>\n",
       "      <th>pandora_streams</th>\n",
       "      <th>pandora_track_stations</th>\n",
       "      <th>soundcloud_streams</th>\n",
       "      <th>shazam_counts</th>\n",
       "      <th>tidal_popularity</th>\n",
       "      <th>explicit_track</th>\n",
       "    </tr>\n",
       "  </thead>\n",
       "  <tbody>\n",
       "    <tr>\n",
       "      <th>36</th>\n",
       "      <td>A Bar Song (Tipsy)</td>\n",
       "      <td>A Bar Song (Tipsy)</td>\n",
       "      <td>Shaboozey</td>\n",
       "      <td>4/12/2024</td>\n",
       "      <td>USUYG1541249</td>\n",
       "      <td>37</td>\n",
       "      <td>226.4</td>\n",
       "      <td>311,928,522</td>\n",
       "      <td>25,766</td>\n",
       "      <td>180,237,463</td>\n",
       "      <td>...</td>\n",
       "      <td>141</td>\n",
       "      <td>58.0</td>\n",
       "      <td>26,516,005</td>\n",
       "      <td>146.0</td>\n",
       "      <td>21,453,034</td>\n",
       "      <td>30,180</td>\n",
       "      <td>4,482,348</td>\n",
       "      <td>1,707,213</td>\n",
       "      <td>NaN</td>\n",
       "      <td>1</td>\n",
       "    </tr>\n",
       "  </tbody>\n",
       "</table>\n",
       "<p>1 rows × 29 columns</p>\n",
       "</div>"
      ],
      "text/plain": [
       "                 track          album_name     artist release_date  \\\n",
       "36  A Bar Song (Tipsy)  A Bar Song (Tipsy)  Shaboozey    4/12/2024   \n",
       "\n",
       "            isrc all_time_rank  track_score spotify_streams  \\\n",
       "36  USUYG1541249            37        226.4     311,928,522   \n",
       "\n",
       "   spotify_playlist_count spotify_playlist_reach  ...  siriusxm_spins  \\\n",
       "36                 25,766            180,237,463  ...             141   \n",
       "\n",
       "   deezer_playlist_count deezer_playlist_reach amazon_playlist_count  \\\n",
       "36                  58.0            26,516,005                 146.0   \n",
       "\n",
       "   pandora_streams pandora_track_stations soundcloud_streams  shazam_counts  \\\n",
       "36      21,453,034                 30,180          4,482,348      1,707,213   \n",
       "\n",
       "   tidal_popularity explicit_track  \n",
       "36              NaN              1  \n",
       "\n",
       "[1 rows x 29 columns]"
      ]
     },
     "execution_count": 18,
     "metadata": {},
     "output_type": "execute_result"
    }
   ],
   "source": [
    "data[data.spotify_popularity == 96.000]"
   ]
  },
  {
   "cell_type": "markdown",
   "id": "7c651bf1-c899-4b8f-afdf-f8b3999d3168",
   "metadata": {},
   "source": [
    "From this information I lately notice that there is no specific order in which the songs have been added in the dataset, since songs with more reach, popularity are further behind"
   ]
  },
  {
   "cell_type": "markdown",
   "id": "5c43be4d-fbbb-4d6d-8a21-d0defe047f01",
   "metadata": {},
   "source": [
    "One more important thing is the `tidal_popularity`. It is all NaN, therefore we are going to drop it from the data"
   ]
  },
  {
   "cell_type": "code",
   "execution_count": 19,
   "id": "311202d6-7cfb-4b23-9be3-247ee5e62613",
   "metadata": {},
   "outputs": [],
   "source": [
    "data = data.drop(columns = [\"tidal_popularity\"])"
   ]
  },
  {
   "cell_type": "code",
   "execution_count": 20,
   "id": "0a12a879-05a4-4056-9db7-cecd381e9ff5",
   "metadata": {},
   "outputs": [
    {
     "data": {
      "text/plain": [
       "28"
      ]
     },
     "execution_count": 20,
     "metadata": {},
     "output_type": "execute_result"
    }
   ],
   "source": [
    "len(data.columns)"
   ]
  },
  {
   "cell_type": "markdown",
   "id": "ec3e3604-28c0-4fed-8bd7-54b34f5140df",
   "metadata": {},
   "source": [
    "This is what I have come up with as for the start, let us move forward."
   ]
  },
  {
   "cell_type": "markdown",
   "id": "0ae40d8d-4831-484d-a464-dda392703366",
   "metadata": {},
   "source": [
    "### Problem 3. Most productive artists (1 point)\n",
    "Who are the five artists with the most songs in the dataset?\n",
    "\n",
    "Who are the five \"clean-mouthed\" artists (i.e., with no explicit songs)? **Note:** We're not going into details but we can start a discussion about whether a song needs swearing to be popular."
   ]
  },
  {
   "cell_type": "markdown",
   "id": "609b948f-397b-4537-a68b-b3e2ecfc043d",
   "metadata": {},
   "source": [
    "Let's find out more about the most productive artists."
   ]
  },
  {
   "cell_type": "code",
   "execution_count": 21,
   "id": "74058a85-18df-45bf-ac6d-0c14854269f5",
   "metadata": {},
   "outputs": [],
   "source": [
    "artists_song = {}\n",
    "for artist,grouped in data.groupby(\"artist\"):\n",
    "    artists_song[artist] = len(grouped)"
   ]
  },
  {
   "cell_type": "code",
   "execution_count": 22,
   "id": "8202a882-29a7-4661-acce-c52e0c77f220",
   "metadata": {},
   "outputs": [
    {
     "data": {
      "text/plain": [
       "[('Drake', 63),\n",
       " ('Taylor Swift', 63),\n",
       " ('Bad Bunny', 60),\n",
       " ('KAROL G', 32),\n",
       " ('The Weeknd', 31)]"
      ]
     },
     "execution_count": 22,
     "metadata": {},
     "output_type": "execute_result"
    }
   ],
   "source": [
    "top_5_artists = sorted(artists_song.items(),key = lambda x:x[1],reverse=True)[:5]\n",
    "top_5_artists"
   ]
  },
  {
   "cell_type": "markdown",
   "id": "58ad419d-cc27-4556-b4c1-abe66a3f7416",
   "metadata": {},
   "source": [
    "This gives us info as to which are the top 5 artists who have the most songs. Now let us find the ones with no explicit songs."
   ]
  },
  {
   "cell_type": "code",
   "execution_count": 23,
   "id": "2802d93e-0398-4285-9196-80e6a2c6a11a",
   "metadata": {},
   "outputs": [],
   "source": [
    "explicit_artists = {}\n",
    "for artist,group in data.groupby(\"artist\"):\n",
    "    if not group[\"explicit_track\"].any():\n",
    "        explicit_artists[artist] = len(group)\n",
    "\n"
   ]
  },
  {
   "cell_type": "markdown",
   "id": "4ed55eb6-e5bc-409a-a102-b7421019dd84",
   "metadata": {},
   "source": [
    "This would give us a dictionary with all the artists whose all songs are not explicit and as a value the number of songs they have. The next step would be ti order them by number of songs and take the top 5"
   ]
  },
  {
   "cell_type": "code",
   "execution_count": 24,
   "id": "9eb133b2-9bc1-4f8b-82d5-16daa6b8d778",
   "metadata": {},
   "outputs": [
    {
     "data": {
      "text/plain": [
       "[('Imagine Dragons', 16),\n",
       " ('BTS', 14),\n",
       " ('Linkin Park', 13),\n",
       " ('Luke Combs', 13),\n",
       " ('Bruno Mars', 12)]"
      ]
     },
     "execution_count": 24,
     "metadata": {},
     "output_type": "execute_result"
    }
   ],
   "source": [
    "top_5_explicit = sorted(explicit_artists.items(),key = lambda x:x[1],reverse=True)[:5]\n",
    "\n",
    "top_5_explicit"
   ]
  },
  {
   "cell_type": "markdown",
   "id": "38bdbfac-5e8c-4625-aabd-84f563adcf74",
   "metadata": {},
   "source": [
    "Let us check if that is true however."
   ]
  },
  {
   "cell_type": "code",
   "execution_count": 25,
   "id": "26ca2795-67ca-4f45-abdd-15176169ad86",
   "metadata": {},
   "outputs": [
    {
     "data": {
      "text/plain": [
       "118     0\n",
       "179     0\n",
       "203     0\n",
       "432     0\n",
       "497     0\n",
       "661     0\n",
       "677     0\n",
       "851     0\n",
       "941     0\n",
       "949     0\n",
       "1519    0\n",
       "1587    0\n",
       "1892    0\n",
       "2155    0\n",
       "2643    0\n",
       "2746    0\n",
       "Name: explicit_track, dtype: int64"
      ]
     },
     "execution_count": 25,
     "metadata": {},
     "output_type": "execute_result"
    }
   ],
   "source": [
    "data[data.artist==\"Imagine Dragons\"]['explicit_track']"
   ]
  },
  {
   "cell_type": "markdown",
   "id": "c0eb28ff-1b03-47cd-8713-741e07bc9e89",
   "metadata": {},
   "source": [
    "We see that it works well for Imagine Dragons and I will assume it is correct for the  others as well "
   ]
  },
  {
   "cell_type": "markdown",
   "id": "7f1a578b-0e27-4c9e-bcf0-8028bac48444",
   "metadata": {},
   "source": [
    "However there is an easier way to do that"
   ]
  },
  {
   "cell_type": "code",
   "execution_count": 26,
   "id": "ff4bb46f-a9b1-45a8-ac22-77ef9d18eb3a",
   "metadata": {},
   "outputs": [],
   "source": [
    "artists_no_explicit_df = data.groupby(\"artist\").filter(lambda x: (x[\"explicit_track\"] ==0).all())"
   ]
  },
  {
   "cell_type": "code",
   "execution_count": 27,
   "id": "10c64b2b-1bac-4bd7-a10c-8b8fdf5d952a",
   "metadata": {},
   "outputs": [
    {
     "data": {
      "text/html": [
       "<div>\n",
       "<style scoped>\n",
       "    .dataframe tbody tr th:only-of-type {\n",
       "        vertical-align: middle;\n",
       "    }\n",
       "\n",
       "    .dataframe tbody tr th {\n",
       "        vertical-align: top;\n",
       "    }\n",
       "\n",
       "    .dataframe thead th {\n",
       "        text-align: right;\n",
       "    }\n",
       "</style>\n",
       "<table border=\"1\" class=\"dataframe\">\n",
       "  <thead>\n",
       "    <tr style=\"text-align: right;\">\n",
       "      <th></th>\n",
       "      <th>track</th>\n",
       "      <th>album_name</th>\n",
       "      <th>artist</th>\n",
       "      <th>release_date</th>\n",
       "      <th>isrc</th>\n",
       "      <th>all_time_rank</th>\n",
       "      <th>track_score</th>\n",
       "      <th>spotify_streams</th>\n",
       "      <th>spotify_playlist_count</th>\n",
       "      <th>spotify_playlist_reach</th>\n",
       "      <th>...</th>\n",
       "      <th>airplay_spins</th>\n",
       "      <th>siriusxm_spins</th>\n",
       "      <th>deezer_playlist_count</th>\n",
       "      <th>deezer_playlist_reach</th>\n",
       "      <th>amazon_playlist_count</th>\n",
       "      <th>pandora_streams</th>\n",
       "      <th>pandora_track_stations</th>\n",
       "      <th>soundcloud_streams</th>\n",
       "      <th>shazam_counts</th>\n",
       "      <th>explicit_track</th>\n",
       "    </tr>\n",
       "  </thead>\n",
       "  <tbody>\n",
       "    <tr>\n",
       "      <th>0</th>\n",
       "      <td>MILLION DOLLAR BABY</td>\n",
       "      <td>Million Dollar Baby - Single</td>\n",
       "      <td>Tommy Richman</td>\n",
       "      <td>4/26/2024</td>\n",
       "      <td>QM24S2402528</td>\n",
       "      <td>1</td>\n",
       "      <td>725.4</td>\n",
       "      <td>390,470,936</td>\n",
       "      <td>30,716</td>\n",
       "      <td>196,631,588</td>\n",
       "      <td>...</td>\n",
       "      <td>40,975</td>\n",
       "      <td>684</td>\n",
       "      <td>62.0</td>\n",
       "      <td>17,598,718</td>\n",
       "      <td>114.0</td>\n",
       "      <td>18,004,655</td>\n",
       "      <td>22,931</td>\n",
       "      <td>4,818,457</td>\n",
       "      <td>2,669,262</td>\n",
       "      <td>0</td>\n",
       "    </tr>\n",
       "    <tr>\n",
       "      <th>6</th>\n",
       "      <td>Beautiful Things</td>\n",
       "      <td>Beautiful Things</td>\n",
       "      <td>Benson Boone</td>\n",
       "      <td>1/18/2024</td>\n",
       "      <td>USWB12307016</td>\n",
       "      <td>7</td>\n",
       "      <td>407.2</td>\n",
       "      <td>900,158,751</td>\n",
       "      <td>73,118</td>\n",
       "      <td>201,585,714</td>\n",
       "      <td>...</td>\n",
       "      <td>383,478</td>\n",
       "      <td>429</td>\n",
       "      <td>168.0</td>\n",
       "      <td>48,197,850</td>\n",
       "      <td>154.0</td>\n",
       "      <td>65,447,476</td>\n",
       "      <td>57,372</td>\n",
       "      <td>NaN</td>\n",
       "      <td>9,990,302</td>\n",
       "      <td>0</td>\n",
       "    </tr>\n",
       "    <tr>\n",
       "      <th>14</th>\n",
       "      <td>bathroom floor</td>\n",
       "      <td>bathroom floor</td>\n",
       "      <td>Kids With Buns</td>\n",
       "      <td>10/7/2022</td>\n",
       "      <td>NLC242100307</td>\n",
       "      <td>15</td>\n",
       "      <td>301.6</td>\n",
       "      <td>297,185</td>\n",
       "      <td>277</td>\n",
       "      <td>24,445</td>\n",
       "      <td>...</td>\n",
       "      <td>1,057</td>\n",
       "      <td>NaN</td>\n",
       "      <td>NaN</td>\n",
       "      <td>NaN</td>\n",
       "      <td>NaN</td>\n",
       "      <td>NaN</td>\n",
       "      <td>NaN</td>\n",
       "      <td>NaN</td>\n",
       "      <td>3,288</td>\n",
       "      <td>0</td>\n",
       "    </tr>\n",
       "    <tr>\n",
       "      <th>19</th>\n",
       "      <td>As It Was</td>\n",
       "      <td>As It Was</td>\n",
       "      <td>Harry Styles</td>\n",
       "      <td>3/31/2022</td>\n",
       "      <td>USSM12200612</td>\n",
       "      <td>20</td>\n",
       "      <td>292.0</td>\n",
       "      <td>3,301,814,535</td>\n",
       "      <td>407,119</td>\n",
       "      <td>169,783,402</td>\n",
       "      <td>...</td>\n",
       "      <td>1,777,811</td>\n",
       "      <td>4,909</td>\n",
       "      <td>330.0</td>\n",
       "      <td>12,907,852</td>\n",
       "      <td>189.0</td>\n",
       "      <td>132,624,772</td>\n",
       "      <td>79,909</td>\n",
       "      <td>NaN</td>\n",
       "      <td>14,967,379</td>\n",
       "      <td>0</td>\n",
       "    </tr>\n",
       "    <tr>\n",
       "      <th>24</th>\n",
       "      <td>Future</td>\n",
       "      <td>Future</td>\n",
       "      <td>official sound studio</td>\n",
       "      <td>1/10/2024</td>\n",
       "      <td>RUA1H2415548</td>\n",
       "      <td>25</td>\n",
       "      <td>277.5</td>\n",
       "      <td>NaN</td>\n",
       "      <td>1</td>\n",
       "      <td>2</td>\n",
       "      <td>...</td>\n",
       "      <td>NaN</td>\n",
       "      <td>NaN</td>\n",
       "      <td>NaN</td>\n",
       "      <td>NaN</td>\n",
       "      <td>NaN</td>\n",
       "      <td>NaN</td>\n",
       "      <td>NaN</td>\n",
       "      <td>NaN</td>\n",
       "      <td>NaN</td>\n",
       "      <td>0</td>\n",
       "    </tr>\n",
       "    <tr>\n",
       "      <th>...</th>\n",
       "      <td>...</td>\n",
       "      <td>...</td>\n",
       "      <td>...</td>\n",
       "      <td>...</td>\n",
       "      <td>...</td>\n",
       "      <td>...</td>\n",
       "      <td>...</td>\n",
       "      <td>...</td>\n",
       "      <td>...</td>\n",
       "      <td>...</td>\n",
       "      <td>...</td>\n",
       "      <td>...</td>\n",
       "      <td>...</td>\n",
       "      <td>...</td>\n",
       "      <td>...</td>\n",
       "      <td>...</td>\n",
       "      <td>...</td>\n",
       "      <td>...</td>\n",
       "      <td>...</td>\n",
       "      <td>...</td>\n",
       "      <td>...</td>\n",
       "    </tr>\n",
       "    <tr>\n",
       "      <th>4591</th>\n",
       "      <td>Happiest Year</td>\n",
       "      <td>Feel Something (Deluxe)</td>\n",
       "      <td>Jaymes Young</td>\n",
       "      <td>6/23/2017</td>\n",
       "      <td>USAT21903715</td>\n",
       "      <td>4,540</td>\n",
       "      <td>19.5</td>\n",
       "      <td>472,408,276</td>\n",
       "      <td>84,220</td>\n",
       "      <td>23,944,018</td>\n",
       "      <td>...</td>\n",
       "      <td>563</td>\n",
       "      <td>13</td>\n",
       "      <td>10.0</td>\n",
       "      <td>101,920</td>\n",
       "      <td>1.0</td>\n",
       "      <td>10,855,294</td>\n",
       "      <td>18,606</td>\n",
       "      <td>NaN</td>\n",
       "      <td>1,724,972</td>\n",
       "      <td>0</td>\n",
       "    </tr>\n",
       "    <tr>\n",
       "      <th>4592</th>\n",
       "      <td>3 Haselnï¿½ï¿</td>\n",
       "      <td>3 Haselnï¿½ï¿½sse - Si</td>\n",
       "      <td>Jaques Raupï¿</td>\n",
       "      <td>12/1/2023</td>\n",
       "      <td>DEN062300845</td>\n",
       "      <td>4,595</td>\n",
       "      <td>19.4</td>\n",
       "      <td>25,822,176</td>\n",
       "      <td>15,387</td>\n",
       "      <td>2,650,670</td>\n",
       "      <td>...</td>\n",
       "      <td>250</td>\n",
       "      <td>NaN</td>\n",
       "      <td>9.0</td>\n",
       "      <td>163,999</td>\n",
       "      <td>1.0</td>\n",
       "      <td>NaN</td>\n",
       "      <td>NaN</td>\n",
       "      <td>33,508</td>\n",
       "      <td>312,177</td>\n",
       "      <td>0</td>\n",
       "    </tr>\n",
       "    <tr>\n",
       "      <th>4593</th>\n",
       "      <td>Jaragandi (From \"Game Changer\") (Telugu)</td>\n",
       "      <td>Jaragandi (From \"Game Changer\") (Telugu)</td>\n",
       "      <td>Thaman S</td>\n",
       "      <td>3/27/2024</td>\n",
       "      <td>INH102405594</td>\n",
       "      <td>4,587</td>\n",
       "      <td>19.4</td>\n",
       "      <td>3,754,914</td>\n",
       "      <td>101</td>\n",
       "      <td>1,306,604</td>\n",
       "      <td>...</td>\n",
       "      <td>NaN</td>\n",
       "      <td>NaN</td>\n",
       "      <td>NaN</td>\n",
       "      <td>NaN</td>\n",
       "      <td>8.0</td>\n",
       "      <td>NaN</td>\n",
       "      <td>NaN</td>\n",
       "      <td>NaN</td>\n",
       "      <td>3,169</td>\n",
       "      <td>0</td>\n",
       "    </tr>\n",
       "    <tr>\n",
       "      <th>4596</th>\n",
       "      <td>Dil Meri Na Sune</td>\n",
       "      <td>Dil Meri Na Sune (From \"Genius\")</td>\n",
       "      <td>Atif Aslam</td>\n",
       "      <td>7/27/2018</td>\n",
       "      <td>INT101800122</td>\n",
       "      <td>4,575</td>\n",
       "      <td>19.4</td>\n",
       "      <td>52,282,360</td>\n",
       "      <td>4,602</td>\n",
       "      <td>1,449,767</td>\n",
       "      <td>...</td>\n",
       "      <td>412</td>\n",
       "      <td>NaN</td>\n",
       "      <td>1.0</td>\n",
       "      <td>927</td>\n",
       "      <td>NaN</td>\n",
       "      <td>NaN</td>\n",
       "      <td>NaN</td>\n",
       "      <td>NaN</td>\n",
       "      <td>193,590</td>\n",
       "      <td>0</td>\n",
       "    </tr>\n",
       "    <tr>\n",
       "      <th>4598</th>\n",
       "      <td>Nashe Si Chadh Gayi</td>\n",
       "      <td>November Top 10 Songs</td>\n",
       "      <td>Arijit Singh</td>\n",
       "      <td>11/8/2016</td>\n",
       "      <td>INY091600067</td>\n",
       "      <td>4,591</td>\n",
       "      <td>19.4</td>\n",
       "      <td>145,467,020</td>\n",
       "      <td>14,037</td>\n",
       "      <td>7,387,064</td>\n",
       "      <td>...</td>\n",
       "      <td>1,200</td>\n",
       "      <td>NaN</td>\n",
       "      <td>NaN</td>\n",
       "      <td>NaN</td>\n",
       "      <td>7.0</td>\n",
       "      <td>6,817,840</td>\n",
       "      <td>NaN</td>\n",
       "      <td>NaN</td>\n",
       "      <td>448,292</td>\n",
       "      <td>0</td>\n",
       "    </tr>\n",
       "  </tbody>\n",
       "</table>\n",
       "<p>2118 rows × 28 columns</p>\n",
       "</div>"
      ],
      "text/plain": [
       "                                         track  \\\n",
       "0                          MILLION DOLLAR BABY   \n",
       "6                             Beautiful Things   \n",
       "14                              bathroom floor   \n",
       "19                                   As It Was   \n",
       "24                                      Future   \n",
       "...                                        ...   \n",
       "4591                             Happiest Year   \n",
       "4592                             3 Haselnï¿½ï¿   \n",
       "4593  Jaragandi (From \"Game Changer\") (Telugu)   \n",
       "4596                          Dil Meri Na Sune   \n",
       "4598                       Nashe Si Chadh Gayi   \n",
       "\n",
       "                                    album_name                 artist  \\\n",
       "0                 Million Dollar Baby - Single          Tommy Richman   \n",
       "6                             Beautiful Things           Benson Boone   \n",
       "14                              bathroom floor         Kids With Buns   \n",
       "19                                   As It Was           Harry Styles   \n",
       "24                                      Future  official sound studio   \n",
       "...                                        ...                    ...   \n",
       "4591                   Feel Something (Deluxe)           Jaymes Young   \n",
       "4592                    3 Haselnï¿½ï¿½sse - Si          Jaques Raupï¿   \n",
       "4593  Jaragandi (From \"Game Changer\") (Telugu)               Thaman S   \n",
       "4596          Dil Meri Na Sune (From \"Genius\")             Atif Aslam   \n",
       "4598                     November Top 10 Songs           Arijit Singh   \n",
       "\n",
       "     release_date          isrc all_time_rank  track_score spotify_streams  \\\n",
       "0       4/26/2024  QM24S2402528             1        725.4     390,470,936   \n",
       "6       1/18/2024  USWB12307016             7        407.2     900,158,751   \n",
       "14      10/7/2022  NLC242100307            15        301.6         297,185   \n",
       "19      3/31/2022  USSM12200612            20        292.0   3,301,814,535   \n",
       "24      1/10/2024  RUA1H2415548            25        277.5             NaN   \n",
       "...           ...           ...           ...          ...             ...   \n",
       "4591    6/23/2017  USAT21903715         4,540         19.5     472,408,276   \n",
       "4592    12/1/2023  DEN062300845         4,595         19.4      25,822,176   \n",
       "4593    3/27/2024  INH102405594         4,587         19.4       3,754,914   \n",
       "4596    7/27/2018  INT101800122         4,575         19.4      52,282,360   \n",
       "4598    11/8/2016  INY091600067         4,591         19.4     145,467,020   \n",
       "\n",
       "     spotify_playlist_count spotify_playlist_reach  ...  airplay_spins  \\\n",
       "0                    30,716            196,631,588  ...         40,975   \n",
       "6                    73,118            201,585,714  ...        383,478   \n",
       "14                      277                 24,445  ...          1,057   \n",
       "19                  407,119            169,783,402  ...      1,777,811   \n",
       "24                        1                      2  ...            NaN   \n",
       "...                     ...                    ...  ...            ...   \n",
       "4591                 84,220             23,944,018  ...            563   \n",
       "4592                 15,387              2,650,670  ...            250   \n",
       "4593                    101              1,306,604  ...            NaN   \n",
       "4596                  4,602              1,449,767  ...            412   \n",
       "4598                 14,037              7,387,064  ...          1,200   \n",
       "\n",
       "     siriusxm_spins deezer_playlist_count deezer_playlist_reach  \\\n",
       "0               684                  62.0            17,598,718   \n",
       "6               429                 168.0            48,197,850   \n",
       "14              NaN                   NaN                   NaN   \n",
       "19            4,909                 330.0            12,907,852   \n",
       "24              NaN                   NaN                   NaN   \n",
       "...             ...                   ...                   ...   \n",
       "4591             13                  10.0               101,920   \n",
       "4592            NaN                   9.0               163,999   \n",
       "4593            NaN                   NaN                   NaN   \n",
       "4596            NaN                   1.0                   927   \n",
       "4598            NaN                   NaN                   NaN   \n",
       "\n",
       "     amazon_playlist_count pandora_streams pandora_track_stations  \\\n",
       "0                    114.0      18,004,655                 22,931   \n",
       "6                    154.0      65,447,476                 57,372   \n",
       "14                     NaN             NaN                    NaN   \n",
       "19                   189.0     132,624,772                 79,909   \n",
       "24                     NaN             NaN                    NaN   \n",
       "...                    ...             ...                    ...   \n",
       "4591                   1.0      10,855,294                 18,606   \n",
       "4592                   1.0             NaN                    NaN   \n",
       "4593                   8.0             NaN                    NaN   \n",
       "4596                   NaN             NaN                    NaN   \n",
       "4598                   7.0       6,817,840                    NaN   \n",
       "\n",
       "      soundcloud_streams shazam_counts explicit_track  \n",
       "0              4,818,457     2,669,262              0  \n",
       "6                    NaN     9,990,302              0  \n",
       "14                   NaN         3,288              0  \n",
       "19                   NaN    14,967,379              0  \n",
       "24                   NaN           NaN              0  \n",
       "...                  ...           ...            ...  \n",
       "4591                 NaN     1,724,972              0  \n",
       "4592              33,508       312,177              0  \n",
       "4593                 NaN         3,169              0  \n",
       "4596                 NaN       193,590              0  \n",
       "4598                 NaN       448,292              0  \n",
       "\n",
       "[2118 rows x 28 columns]"
      ]
     },
     "execution_count": 27,
     "metadata": {},
     "output_type": "execute_result"
    }
   ],
   "source": [
    "artists_no_explicit_df"
   ]
  },
  {
   "cell_type": "markdown",
   "id": "471f52d1-ec04-488f-9108-b0e7918ee03a",
   "metadata": {},
   "source": [
    "And one more way to do it in just one line, for the sake of practicing the syntax of python:"
   ]
  },
  {
   "cell_type": "code",
   "execution_count": 28,
   "id": "84472084-7d84-43a4-9f58-91b54dedcecb",
   "metadata": {},
   "outputs": [
    {
     "data": {
      "text/plain": [
       "['Imagine Dragons', 'BTS', 'Linkin Park', 'Luke Combs', 'Bruno Mars']"
      ]
     },
     "execution_count": 28,
     "metadata": {},
     "output_type": "execute_result"
    }
   ],
   "source": [
    "top5_artists_no_explicit = (\n",
    "    data.groupby(\"artist\")\n",
    "    .filter(lambda x: (x[\"explicit_track\"] ==0).all())\n",
    "    .groupby(\"artist\")\n",
    "    .size()\n",
    "    .nlargest(5)\n",
    "    .index\n",
    "    .tolist())\n",
    "top5_artists_no_explicit"
   ]
  },
  {
   "cell_type": "markdown",
   "id": "db09ef0b-516f-4034-9873-93adb69ffb63",
   "metadata": {},
   "source": [
    "This returns us a dataset where each song of the artist is non_explicit"
   ]
  },
  {
   "cell_type": "markdown",
   "id": "25ee2949-c7ce-4c30-8836-1fa443d245e9",
   "metadata": {},
   "source": [
    "### Problem 4. Most streamed artists (1 point)\n",
    "And who are the top five most streamed (as measured by Spotify streams) artists?"
   ]
  },
  {
   "cell_type": "markdown",
   "id": "208c3a1a-728c-4fbf-bfe1-ba8a7825b82f",
   "metadata": {},
   "source": [
    "The first problem that we encouter is that the `dtype` of the spotify_streams is `object`. After trying to convert tho I notice something else that I should have noticed and taken care of earlier. it is that many of the object columns are just cotinuous values which should be floats or integers. To convert then we have to first replace the comma with a blank space"
   ]
  },
  {
   "cell_type": "code",
   "execution_count": 29,
   "id": "87d39c20-e45a-48bf-86fb-4b75b0164764",
   "metadata": {},
   "outputs": [],
   "source": [
    "data['spotify_streams'] = data['spotify_streams'].str.replace(',', '') # we gotta replace that to be able to convert to float\n",
    "data['spotify_streams'] = data['spotify_streams'].astype(float)"
   ]
  },
  {
   "cell_type": "code",
   "execution_count": 30,
   "id": "33610a99-4812-4b53-913e-34d0d4638e2f",
   "metadata": {},
   "outputs": [
    {
     "data": {
      "text/plain": [
       "artist\n",
       "Bad Bunny       3.705483e+10\n",
       "The Weeknd      3.694854e+10\n",
       "Drake           3.496216e+10\n",
       "Taylor Swift    3.447077e+10\n",
       "Post Malone     2.613747e+10\n",
       "Name: spotify_streams, dtype: float64"
      ]
     },
     "execution_count": 30,
     "metadata": {},
     "output_type": "execute_result"
    }
   ],
   "source": [
    "most_streamed_artists = (\n",
    "    data.groupby('artist')['spotify_streams']\n",
    "    .sum()\n",
    "    .nlargest(5)\n",
    ")\n",
    "most_streamed_artists"
   ]
  },
  {
   "cell_type": "markdown",
   "id": "597f160d-760b-4253-996a-f1216195c9a1",
   "metadata": {},
   "source": [
    "Something important to notice. Here, since we want to have the sum of all spotify_streams by an artist we are going to use sum. In the last problem we used size since we did not care about the value of the group, but of the size for each group. "
   ]
  },
  {
   "cell_type": "markdown",
   "id": "30fa25c3-abd4-4f04-859a-e00e781adaa8",
   "metadata": {},
   "source": [
    "### Problem 5. Songs by year and month (1 point)\n",
    "How many songs have been released each year? Present an appropriate plot. Can you explain the behavior of the plot for 2024?\n",
    "\n",
    "How about months? Is / Are there (a) popular month(s) to release music?"
   ]
  },
  {
   "cell_type": "code",
   "execution_count": 35,
   "id": "13c89914-1fc4-4ad2-a676-3e88a766a466",
   "metadata": {},
   "outputs": [],
   "source": [
    "data[\"release_date\"] = pd.to_datetime(data[\"release_date\"])"
   ]
  },
  {
   "cell_type": "code",
   "execution_count": 57,
   "id": "6bfca544-a5b2-40b1-9678-c4dbeff75423",
   "metadata": {},
   "outputs": [],
   "source": [
    "data[\"year_released\"] = data['release_date'].dt.year\n",
    "songs_by_year = (\n",
    "    data.groupby(\"year_released\")\n",
    "    .size()\n",
    ")"
   ]
  },
  {
   "cell_type": "code",
   "execution_count": 54,
   "id": "4c0694af-a3bf-49d8-95eb-463ad788dc06",
   "metadata": {},
   "outputs": [
    {
     "data": {
      "image/png": "[encoded data removed]",
      "text/plain": [
       "<Figure size 1000x600 with 1 Axes>"
      ]
     },
     "metadata": {},
     "output_type": "display_data"
    }
   ],
   "source": [
    "plt.figure(figsize=(10,6))\n",
    "plt.bar(songs_by_year.index,songs_by_year)\n",
    "plt.xlabel(\"Year\")\n",
    "plt.ylabel(\"Uploads\")\n",
    "plt.title(\"Uploads per year\")\n",
    "plt.show()"
   ]
  },
  {
   "cell_type": "markdown",
   "id": "2ad707e0-e53f-4b5d-97f8-06a574a31bbd",
   "metadata": {},
   "source": [
    "Firstly, after looking at the graph we see that the numbers showing the uploads are not really meeting our expectations. One of the biggest platforms cannot have so few songs uploaded each year. This is simply because we cannot take all the songs that are present and we have selected only some of them. There might be a bias in the selection and because of that the number of uploads in 2024 is so low. However we are going to research and see if there is anything interesting concerning that."
   ]
  },
  {
   "attachments": {},
   "cell_type": "markdown",
   "id": "dea2f5e5-efe4-49d3-922b-ae2d709737cb",
   "metadata": {},
   "source": [
    "After doing some research, it turns out it is not as easy to find out the number of uploaded songs on spotify yearly. We see this: \n",
    "\n",
    "*\"The number of songs uploaded to Spotify and all the other streaming platforms makes for intimidating reading for artists but, arguably, is also an encouraging stat.\"*\n",
    "\n",
    "Something else that might be interesting:\n",
    "*\"The ever-growing flood of new music is further fuelled by cheap or free tools and AI-powered production software. On average, around 99,000 new tracks will still be uploaded per day in 2024, a slight decrease from 103,500 uploads per day (!) the year before. Nevertheless, the problem remains: around 87 per cent of all tracks on streaming platforms receive fewer than 1,000 plays per year. At the same time, according to Chartmetric, only a small percentage of artists reach a significant number of listeners. Only 5.31 per cent of Spotify artists had more than 1,000 monthly listeners, while 86 per cent had fewer than ten.\"*\n",
    "\n",
    "We find out that there is a much bigger number of uploads per year. However, some of the songs uploaded hardly reach any audience. We see that the difference between 2024 and 2023 is not as big as in our data. Altought we are depending on the sampling method that was used when collecting the data, we could suggest that we expect the same proportion in our sample, however we do not have that"
   ]
  },
  {
   "cell_type": "markdown",
   "id": "2e4f7ee4-2c78-4511-a19d-3de15cbeab92",
   "metadata": {},
   "source": [
    "#### Months "
   ]
  },
  {
   "cell_type": "code",
   "execution_count": 62,
   "id": "c269b092-88a9-463a-a806-ab5212b96ae6",
   "metadata": {},
   "outputs": [],
   "source": [
    "import calendar\n",
    "\n",
    "\n",
    "data[\"month_release\"] = data['release_date'].dt.month\n",
    "release_by_months = data.groupby('month_release').size()\n",
    "months = [calendar.month_name[i] for i in release_by_months.index]"
   ]
  },
  {
   "cell_type": "code",
   "execution_count": 65,
   "id": "7fe82570-64ca-4ef7-bd76-04f3d30bf8b1",
   "metadata": {},
   "outputs": [
    {
     "data": {
      "image/png": "[encoded data removed]",
      "text/plain": [
       "<Figure size 640x480 with 1 Axes>"
      ]
     },
     "metadata": {},
     "output_type": "display_data"
    }
   ],
   "source": [
    "plt.bar(months,release_by_months)\n",
    "plt.xticks(rotation=45)\n",
    "plt.show()"
   ]
  },
  {
   "cell_type": "markdown",
   "id": "e8a8117f-1e5e-4d52-961f-d08190405bf0",
   "metadata": {},
   "source": [
    "Some of the most popular months to upload prove to be January and April."
   ]
  },
  {
   "cell_type": "markdown",
   "id": "d83c5535-72dc-4670-81a3-8ca244233a46",
   "metadata": {},
   "source": [
    "### Problem 6. Playlists (2 points)\n",
    "Is there any connection (correlation) between users adding a song to playlists in one service, or another? Only Spotify, Apple, Deezer, and Amazon offer the ability to add a song to a playlist. Find a way to plot all these relationships at the same time, and analyze them. Experiment with different types of correlations."
   ]
  },
  {
   "cell_type": "code",
   "execution_count": 101,
   "id": "d3db5ed8-10e4-4f3d-9e20-ddc03371ba58",
   "metadata": {},
   "outputs": [],
   "source": [
    "\n",
    "corr_matrix = data[[\"spotify_playlist_count\",\"apple_music_playlist_count\",\"deezer_playlist_count\",\"amazon_playlist_count\"]].corr(method=\"pearson\")"
   ]
  },
  {
   "cell_type": "code",
   "execution_count": 110,
   "id": "03ab076c-e052-4a61-b841-03dd46e30d1f",
   "metadata": {},
   "outputs": [
    {
     "data": {
      "image/png": "[encoded data removed]",
      "text/plain": [
       "<Figure size 640x480 with 2 Axes>"
      ]
     },
     "metadata": {},
     "output_type": "display_data"
    }
   ],
   "source": [
    "sns.heatmap(corr_matrix, annot=True, cmap='coolwarm', center=0, fmt=\".2f\")\n",
    "plt.title(\"Pearson correlation on provider and song count\")\n",
    "plt.show()"
   ]
  },
  {
   "cell_type": "code",
   "execution_count": null,
   "id": "094522cc-1656-4a72-b392-68d6cdb65efc",
   "metadata": {},
   "outputs": [],
   "source": []
  },
  {
   "cell_type": "markdown",
   "id": "e78b8307-de74-4cb4-ba61-da4e7c9fc6c6",
   "metadata": {},
   "source": [
    "### Problem 7. YouTube views and likes (1 point)\n",
    "What is the relationship between YouTube views and likes? Present an appropriate plot. \n",
    "\n",
    "What is the mean YouTube views-to-likes ratio? What is its distribution? Find a way to plot it and describe it."
   ]
  },
  {
   "cell_type": "code",
   "execution_count": null,
   "id": "bf3c3dd5-7466-4dec-9fc3-14a5690da4b4",
   "metadata": {},
   "outputs": [],
   "source": []
  },
  {
   "cell_type": "markdown",
   "id": "7fc028b8-362f-4d5e-9958-72ed876f83fc",
   "metadata": {},
   "source": [
    "### Problem 8. TikTok stuff (2 points)\n",
    "The most popular songs on TikTok released every year show... interesting behavior. Which years peaked the most TikTok views? Show an appropriate chart. Can you explain this behavior? For a bit of context, TikTok was created in 2016.\n",
    "\n",
    "Now, how much popular is the most popular song for each release year, than the mean popularity? Analyze the results.\n",
    "\n",
    "In both parts, it would be helpful to see the actual songs."
   ]
  },
  {
   "cell_type": "code",
   "execution_count": null,
   "id": "3ecec32f-7ddb-449d-9b69-8157705cc319",
   "metadata": {},
   "outputs": [],
   "source": []
  },
  {
   "cell_type": "markdown",
   "id": "d6d06ba6-54fe-4514-b9f3-50b5ac541b50",
   "metadata": {},
   "source": [
    "### * Problem 9. Explore (and clean) at will\n",
    "There is a lot to look for here. For example, you can easily link a song to its genres, and lyrics. You may also try to link artists and albums to more info about them. Or you can compare and contrast a song's performance across different platforms, in a similar manner to what you already did above; maybe even assign a better song ranking system (across platforms with different popularity metrics, and different requirements) than the one provided in the dataset."
   ]
  },
  {
   "cell_type": "code",
   "execution_count": null,
   "id": "844a9811-c034-4bcf-96c4-8b69f743a330",
   "metadata": {},
   "outputs": [],
   "source": []
  }
 ],
 "metadata": {
  "kernelspec": {
   "display_name": "Python 3 (ipykernel)",
   "language": "python",
   "name": "python3"
  },
  "language_info": {
   "codemirror_mode": {
    "name": "ipython",
    "version": 3
   },
   "file_extension": ".py",
   "mimetype": "text/x-python",
   "name": "python",
   "nbconvert_exporter": "python",
   "pygments_lexer": "ipython3",
   "version": "3.10.0"
  }
 },
 "nbformat": 4,
 "nbformat_minor": 5
}
