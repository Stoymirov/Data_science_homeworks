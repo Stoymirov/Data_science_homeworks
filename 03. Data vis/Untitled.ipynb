{
 "cells": [
  {
   "cell_type": "code",
   "execution_count": 2,
   "id": "f9c904b9-a279-4189-9e9c-604eababef13",
   "metadata": {},
   "outputs": [],
   "source": [
    "import numpy as np\n",
    "import pandas as pd\n",
    "import matplotlib.pyplot as plt"
   ]
  },
  {
   "cell_type": "markdown",
   "id": "986cf81a-a178-4f86-909c-670e3be083ad",
   "metadata": {},
   "source": [
    "## Data Visualization and EDA"
   ]
  },
  {
   "cell_type": "code",
   "execution_count": 4,
   "id": "53afa901-703f-4328-bb2b-a6c75a033764",
   "metadata": {},
   "outputs": [],
   "source": [
    "data = pd.read_csv(\"electric_vehicles_spec_2025.csv.csv\")"
   ]
  },
  {
   "cell_type": "code",
   "execution_count": 6,
   "id": "fe974e48-3ae5-4fcc-9029-ea1e0f0952f8",
   "metadata": {},
   "outputs": [
    {
     "data": {
      "text/plain": [
       "(478, 22)"
      ]
     },
     "execution_count": 6,
     "metadata": {},
     "output_type": "execute_result"
    }
   ],
   "source": [
    "data.shape"
   ]
  },
  {
   "cell_type": "code",
   "execution_count": 7,
   "id": "baba131d-522b-4fbe-84c3-a4ff963bb75c",
   "metadata": {},
   "outputs": [
    {
     "data": {
      "text/plain": [
       "Index(['brand', 'model', 'top_speed_kmh', 'battery_capacity_kWh',\n",
       "       'battery_type', 'number_of_cells', 'torque_nm', 'efficiency_wh_per_km',\n",
       "       'range_km', 'acceleration_0_100_s', 'fast_charging_power_kw_dc',\n",
       "       'fast_charge_port', 'towing_capacity_kg', 'cargo_volume_l', 'seats',\n",
       "       'drivetrain', 'segment', 'length_mm', 'width_mm', 'height_mm',\n",
       "       'car_body_type', 'source_url'],\n",
       "      dtype='object')"
      ]
     },
     "execution_count": 7,
     "metadata": {},
     "output_type": "execute_result"
    }
   ],
   "source": [
    "data.columns"
   ]
  },
  {
   "cell_type": "code",
   "execution_count": 8,
   "id": "3f818e60-2325-450c-af60-40d1c9a08cac",
   "metadata": {},
   "outputs": [
    {
     "data": {
      "text/plain": [
       "0       B - Compact\n",
       "1       B - Compact\n",
       "2      JB - Compact\n",
       "3      JB - Compact\n",
       "4       JC - Medium\n",
       "           ...     \n",
       "473      JD - Large\n",
       "474    JB - Compact\n",
       "475    JB - Compact\n",
       "476    JB - Compact\n",
       "477     B - Compact\n",
       "Name: segment, Length: 478, dtype: object"
      ]
     },
     "execution_count": 8,
     "metadata": {},
     "output_type": "execute_result"
    }
   ],
   "source": [
    "data.segment"
   ]
  },
  {
   "cell_type": "code",
   "execution_count": 9,
   "id": "1a14a5ad-b6e8-4e39-8e6b-7df6b93fa813",
   "metadata": {},
   "outputs": [
    {
     "data": {
      "text/plain": [
       "segment\n",
       "JC - Medium          91\n",
       "JD - Large           58\n",
       "F - Luxury           51\n",
       "N - Passenger Van    47\n",
       "JB - Compact         44\n",
       "C - Medium           34\n",
       "E - Executive        30\n",
       "JF - Luxury          30\n",
       "B - Compact          29\n",
       "JE - Executive       28\n",
       "D - Large            28\n",
       "A - Mini              3\n",
       "JA - Mini             2\n",
       "G - Sports            2\n",
       "I - Luxury            1\n",
       "Name: count, dtype: int64"
      ]
     },
     "execution_count": 9,
     "metadata": {},
     "output_type": "execute_result"
    }
   ],
   "source": [
    "data.segment.value_counts()"
   ]
  },
  {
   "cell_type": "code",
   "execution_count": 10,
   "id": "c70dbb79-ec53-401f-a3b0-2f6eff4095e1",
   "metadata": {
    "collapsed": true,
    "jupyter": {
     "outputs_hidden": true
    },
    "scrolled": true
   },
   "outputs": [
    {
     "data": {
      "text/plain": [
       "brand\n",
       "Mercedes-Benz    42\n",
       "Audi             28\n",
       "Porsche          26\n",
       "Volkswagen       23\n",
       "Ford             22\n",
       "BMW              20\n",
       "Peugeot          19\n",
       "Volvo            18\n",
       "BYD              17\n",
       "Smart            17\n",
       "Kia              16\n",
       "Opel             14\n",
       "Hyundai          14\n",
       "Skoda            12\n",
       "MG               12\n",
       "NIO              12\n",
       "Citroen          12\n",
       "Renault          11\n",
       "Tesla            11\n",
       "Polestar          9\n",
       "XPENG             9\n",
       "Zeekr             9\n",
       "Fiat              8\n",
       "Mini              8\n",
       "Toyota            7\n",
       "Nissan            6\n",
       "Lotus             6\n",
       "GWM               6\n",
       "Genesis           5\n",
       "DS                5\n",
       "CUPRA             5\n",
       "Abarth            4\n",
       "Lucid             3\n",
       "Hongqi            3\n",
       "Maserati          3\n",
       "Lexus             3\n",
       "Alfa              2\n",
       "Aiways            2\n",
       "Alpine            2\n",
       "Leapmotor         2\n",
       "Jeep              2\n",
       "Dacia             2\n",
       "VinFast           2\n",
       "Mazda             2\n",
       "Skywell           2\n",
       "Dongfeng          2\n",
       "Elaris            1\n",
       "Voyah             1\n",
       "Cadillac          1\n",
       "Maxus             1\n",
       "Subaru            1\n",
       "Honda             1\n",
       "Rolls-Royce       1\n",
       "Jaguar            1\n",
       "KGM               1\n",
       "Lancia            1\n",
       "Omoda             1\n",
       "Lynk&Co           1\n",
       "firefly           1\n",
       "Name: count, dtype: int64"
      ]
     },
     "execution_count": 10,
     "metadata": {},
     "output_type": "execute_result"
    }
   ],
   "source": [
    "data.brand.value_counts()"
   ]
  },
  {
   "cell_type": "code",
   "execution_count": 27,
   "id": "1e7b95c4-c271-4a6c-86d1-96ce69dbda24",
   "metadata": {},
   "outputs": [],
   "source": [
    "brands = data.brand.value_counts()"
   ]
  },
  {
   "cell_type": "code",
   "execution_count": 29,
   "id": "e608ac21-de36-4d27-af69-0645019cf512",
   "metadata": {},
   "outputs": [
    {
     "data": {
      "image/png": "[encoded data removed]",
      "text/plain": [
       "<Figure size 600x1000 with 1 Axes>"
      ]
     },
     "metadata": {},
     "output_type": "display_data"
    }
   ],
   "source": [
    "plt.figure(figsize=(6,10))\n",
    "plt.barh(brands.index[::-1],brands[::-1])\n",
    "plt.xlabel(\"Number of cars\")\n",
    "plt.ylabel(\"Auto brand\")\n",
    "plt.show()"
   ]
  },
  {
   "cell_type": "code",
   "execution_count": 31,
   "id": "88a09be3-0eed-4aad-9420-54da47535f98",
   "metadata": {},
   "outputs": [
    {
     "data": {
      "text/plain": [
       "battery_type\n",
       "Lithium-ion    478\n",
       "Name: count, dtype: int64"
      ]
     },
     "execution_count": 31,
     "metadata": {},
     "output_type": "execute_result"
    }
   ],
   "source": [
    "data.battery_type.value_counts()"
   ]
  },
  {
   "cell_type": "markdown",
   "id": "fa1113ff-422d-41b4-b157-9cb8451ed735",
   "metadata": {},
   "source": [
    "From the ```battery_type.value_counts()``` we can observe that there is only one battery type. This means that the column is not going to give us any important information when it comens to further analysis so we are going to note that and drop it from the dataset"
   ]
  },
  {
   "cell_type": "code",
   "execution_count": 32,
   "id": "21ba6fef-8ba9-46a7-aa2d-c7cfbf233aa1",
   "metadata": {},
   "outputs": [],
   "source": [
    "data = data.drop(columns=[\"battery_type\"])"
   ]
  },
  {
   "cell_type": "code",
   "execution_count": 35,
   "id": "b30be88a-7c18-4187-a354-47d7e8289669",
   "metadata": {},
   "outputs": [
    {
     "data": {
      "text/plain": [
       "fast_charge_port\n",
       "CCS        476\n",
       "CHAdeMO      1\n",
       "NaN          1\n",
       "Name: count, dtype: int64"
      ]
     },
     "execution_count": 35,
     "metadata": {},
     "output_type": "execute_result"
    }
   ],
   "source": [
    " data.fast_charge_port.value_counts(dropna=False)"
   ]
  },
  {
   "cell_type": "code",
   "execution_count": 38,
   "id": "cb9a8f32-373d-48e3-bbd6-f1f5f12e43c7",
   "metadata": {},
   "outputs": [
    {
     "data": {
      "text/html": [
       "<div>\n",
       "<style scoped>\n",
       "    .dataframe tbody tr th:only-of-type {\n",
       "        vertical-align: middle;\n",
       "    }\n",
       "\n",
       "    .dataframe tbody tr th {\n",
       "        vertical-align: top;\n",
       "    }\n",
       "\n",
       "    .dataframe thead th {\n",
       "        text-align: right;\n",
       "    }\n",
       "</style>\n",
       "<table border=\"1\" class=\"dataframe\">\n",
       "  <thead>\n",
       "    <tr style=\"text-align: right;\">\n",
       "      <th></th>\n",
       "      <th>brand</th>\n",
       "      <th>model</th>\n",
       "      <th>top_speed_kmh</th>\n",
       "      <th>battery_capacity_kWh</th>\n",
       "      <th>number_of_cells</th>\n",
       "      <th>torque_nm</th>\n",
       "      <th>efficiency_wh_per_km</th>\n",
       "      <th>range_km</th>\n",
       "      <th>acceleration_0_100_s</th>\n",
       "      <th>fast_charging_power_kw_dc</th>\n",
       "      <th>...</th>\n",
       "      <th>towing_capacity_kg</th>\n",
       "      <th>cargo_volume_l</th>\n",
       "      <th>seats</th>\n",
       "      <th>drivetrain</th>\n",
       "      <th>segment</th>\n",
       "      <th>length_mm</th>\n",
       "      <th>width_mm</th>\n",
       "      <th>height_mm</th>\n",
       "      <th>car_body_type</th>\n",
       "      <th>source_url</th>\n",
       "    </tr>\n",
       "  </thead>\n",
       "  <tbody>\n",
       "    <tr>\n",
       "      <th>356</th>\n",
       "      <td>Renault</td>\n",
       "      <td>5 E-Tech 40kWh 95hp</td>\n",
       "      <td>130</td>\n",
       "      <td>40.0</td>\n",
       "      <td>93.0</td>\n",
       "      <td>215.0</td>\n",
       "      <td>129</td>\n",
       "      <td>255</td>\n",
       "      <td>12.0</td>\n",
       "      <td>NaN</td>\n",
       "      <td>...</td>\n",
       "      <td>500.0</td>\n",
       "      <td>326</td>\n",
       "      <td>5</td>\n",
       "      <td>FWD</td>\n",
       "      <td>B - Compact</td>\n",
       "      <td>3922</td>\n",
       "      <td>1808</td>\n",
       "      <td>1489</td>\n",
       "      <td>Hatchback</td>\n",
       "      <td>https://ev-database.org/car/2133/Renault-5-E-T...</td>\n",
       "    </tr>\n",
       "  </tbody>\n",
       "</table>\n",
       "<p>1 rows × 21 columns</p>\n",
       "</div>"
      ],
      "text/plain": [
       "       brand                model  top_speed_kmh  battery_capacity_kWh  \\\n",
       "356  Renault  5 E-Tech 40kWh 95hp            130                  40.0   \n",
       "\n",
       "     number_of_cells  torque_nm  efficiency_wh_per_km  range_km  \\\n",
       "356             93.0      215.0                   129       255   \n",
       "\n",
       "     acceleration_0_100_s  fast_charging_power_kw_dc  ... towing_capacity_kg  \\\n",
       "356                  12.0                        NaN  ...              500.0   \n",
       "\n",
       "     cargo_volume_l seats  drivetrain      segment length_mm  width_mm  \\\n",
       "356             326     5         FWD  B - Compact      3922      1808   \n",
       "\n",
       "     height_mm  car_body_type  \\\n",
       "356       1489      Hatchback   \n",
       "\n",
       "                                            source_url  \n",
       "356  https://ev-database.org/car/2133/Renault-5-E-T...  \n",
       "\n",
       "[1 rows x 21 columns]"
      ]
     },
     "execution_count": 38,
     "metadata": {},
     "output_type": "execute_result"
    }
   ],
   "source": [
    "data[data.fast_charge_port.isna()]"
   ]
  },
  {
   "cell_type": "markdown",
   "id": "903f6edb-5260-48a0-9baa-b2e3924e401e",
   "metadata": {},
   "source": [
    "We can see that the NaN car has a lithium battetry if we look it up on the internet. **It has no fast charging**"
   ]
  },
  {
   "cell_type": "code",
   "execution_count": 39,
   "id": "200f114f-5e74-4c24-b24e-9d8f1ea8b8ef",
   "metadata": {},
   "outputs": [
    {
     "data": {
      "text/plain": [
       "brand                         object\n",
       "model                         object\n",
       "top_speed_kmh                  int64\n",
       "battery_capacity_kWh         float64\n",
       "number_of_cells              float64\n",
       "torque_nm                    float64\n",
       "efficiency_wh_per_km           int64\n",
       "range_km                       int64\n",
       "acceleration_0_100_s         float64\n",
       "fast_charging_power_kw_dc    float64\n",
       "fast_charge_port              object\n",
       "towing_capacity_kg           float64\n",
       "cargo_volume_l                object\n",
       "seats                          int64\n",
       "drivetrain                    object\n",
       "segment                       object\n",
       "length_mm                      int64\n",
       "width_mm                       int64\n",
       "height_mm                      int64\n",
       "car_body_type                 object\n",
       "source_url                    object\n",
       "dtype: object"
      ]
     },
     "execution_count": 39,
     "metadata": {},
     "output_type": "execute_result"
    }
   ],
   "source": [
    "data.dtypes"
   ]
  },
  {
   "cell_type": "markdown",
   "id": "804691c1-bdaa-463a-900b-e2c9d0bd1464",
   "metadata": {},
   "source": [
    "We can see that he cargo_valume_l is of type `object` which is not logical. We should investigate."
   ]
  },
  {
   "cell_type": "code",
   "execution_count": 40,
   "id": "d91d736d-8e06-44e6-ac6e-2ab958b9b607",
   "metadata": {},
   "outputs": [
    {
     "data": {
      "text/plain": [
       "cargo_volume_l\n",
       "520    17\n",
       "490    10\n",
       "519    10\n",
       "407    10\n",
       "405     9\n",
       "       ..\n",
       "354     1\n",
       "555     1\n",
       "503     1\n",
       "471     1\n",
       "316     1\n",
       "Name: count, Length: 140, dtype: int64"
      ]
     },
     "execution_count": 40,
     "metadata": {},
     "output_type": "execute_result"
    }
   ],
   "source": [
    "data.cargo_volume_l.value_counts()"
   ]
  },
  {
   "cell_type": "code",
   "execution_count": 41,
   "id": "268acc09-4097-40b5-bb8d-440df45a76b5",
   "metadata": {},
   "outputs": [
    {
     "data": {
      "text/plain": [
       "array(['185', '360', '496', '472', '400', '326', '502', '520', '535',\n",
       "       '526', '511', '10 Banana Boxes', '514', '350', '405', '470', '490',\n",
       "       '570', '500', '525', '440', '345', '308', '552', '235', '385',\n",
       "       '540', '793', '775', '1050', '310', '460', '380', '510', '603',\n",
       "       '989', '390', '620', '467', '361', '572', '536', '519', '523', nan,\n",
       "       '672', '228', '333', '354', '432', '503', '438', '280', '480',\n",
       "       '401', '338', '466', '505', '355', '550', '839', '435', '475',\n",
       "       '309', '210', '522', '316', '611', '509', '456', '410', '249',\n",
       "       '363', '479', '453', '448', '151', '270', '31 Banana Boxes', '340',\n",
       "       '495', '430', '645', '13 Banana Boxes', '828', '551', '1410',\n",
       "       '1030', '555', '1390', '990', '300', '200', '579', '265', '386',\n",
       "       '450', '468', '415', '819', '352', '516', '267', '434', '588',\n",
       "       '412', '608', '471', '348', '407', '484', '446', '366', '367',\n",
       "       '420', '950', '545', '585', '313', '323', '370', '630', '441',\n",
       "       '594', '709', '425', '854', '452', '376', '1340', '1121', '543',\n",
       "       '549', '532', '605', '404', '318', '571', '660', '539', '362'],\n",
       "      dtype=object)"
      ]
     },
     "execution_count": 41,
     "metadata": {},
     "output_type": "execute_result"
    }
   ],
   "source": [
    "data.cargo_volume_l.unique()"
   ]
  },
  {
   "cell_type": "code",
   "execution_count": 47,
   "id": "a8a359b5-1476-4ec5-85c6-bdc52dbaa68e",
   "metadata": {},
   "outputs": [
    {
     "data": {
      "text/html": [
       "<div>\n",
       "<style scoped>\n",
       "    .dataframe tbody tr th:only-of-type {\n",
       "        vertical-align: middle;\n",
       "    }\n",
       "\n",
       "    .dataframe tbody tr th {\n",
       "        vertical-align: top;\n",
       "    }\n",
       "\n",
       "    .dataframe thead th {\n",
       "        text-align: right;\n",
       "    }\n",
       "</style>\n",
       "<table border=\"1\" class=\"dataframe\">\n",
       "  <thead>\n",
       "    <tr style=\"text-align: right;\">\n",
       "      <th></th>\n",
       "      <th>brand</th>\n",
       "      <th>model</th>\n",
       "      <th>top_speed_kmh</th>\n",
       "      <th>battery_capacity_kWh</th>\n",
       "      <th>number_of_cells</th>\n",
       "      <th>torque_nm</th>\n",
       "      <th>efficiency_wh_per_km</th>\n",
       "      <th>range_km</th>\n",
       "      <th>acceleration_0_100_s</th>\n",
       "      <th>fast_charging_power_kw_dc</th>\n",
       "      <th>...</th>\n",
       "      <th>towing_capacity_kg</th>\n",
       "      <th>cargo_volume_l</th>\n",
       "      <th>seats</th>\n",
       "      <th>drivetrain</th>\n",
       "      <th>segment</th>\n",
       "      <th>length_mm</th>\n",
       "      <th>width_mm</th>\n",
       "      <th>height_mm</th>\n",
       "      <th>car_body_type</th>\n",
       "      <th>source_url</th>\n",
       "    </tr>\n",
       "  </thead>\n",
       "  <tbody>\n",
       "    <tr>\n",
       "      <th>29</th>\n",
       "      <td>Audi</td>\n",
       "      <td>Q6 e-tron quattro</td>\n",
       "      <td>210</td>\n",
       "      <td>94.9</td>\n",
       "      <td>180.0</td>\n",
       "      <td>855.0</td>\n",
       "      <td>176</td>\n",
       "      <td>480</td>\n",
       "      <td>5.9</td>\n",
       "      <td>200.0</td>\n",
       "      <td>...</td>\n",
       "      <td>2400.0</td>\n",
       "      <td>10 Banana Boxes</td>\n",
       "      <td>5</td>\n",
       "      <td>AWD</td>\n",
       "      <td>JD - Large</td>\n",
       "      <td>4771</td>\n",
       "      <td>1939</td>\n",
       "      <td>1685</td>\n",
       "      <td>SUV</td>\n",
       "      <td>https://ev-database.org/car/2146/Audi-Q6-e-tro...</td>\n",
       "    </tr>\n",
       "    <tr>\n",
       "      <th>213</th>\n",
       "      <td>Maxus</td>\n",
       "      <td>MIFA 9</td>\n",
       "      <td>180</td>\n",
       "      <td>84.0</td>\n",
       "      <td>NaN</td>\n",
       "      <td>350.0</td>\n",
       "      <td>195</td>\n",
       "      <td>365</td>\n",
       "      <td>9.2</td>\n",
       "      <td>103.0</td>\n",
       "      <td>...</td>\n",
       "      <td>1000.0</td>\n",
       "      <td>31 Banana Boxes</td>\n",
       "      <td>7</td>\n",
       "      <td>FWD</td>\n",
       "      <td>N - Passenger Van</td>\n",
       "      <td>5270</td>\n",
       "      <td>2000</td>\n",
       "      <td>1840</td>\n",
       "      <td>Small Passenger Van</td>\n",
       "      <td>https://ev-database.org/car/1837/Maxus-MIFA-9</td>\n",
       "    </tr>\n",
       "    <tr>\n",
       "      <th>246</th>\n",
       "      <td>Mercedes-Benz</td>\n",
       "      <td>EQS SUV 580 4MATIC</td>\n",
       "      <td>210</td>\n",
       "      <td>118.0</td>\n",
       "      <td>NaN</td>\n",
       "      <td>858.0</td>\n",
       "      <td>199</td>\n",
       "      <td>530</td>\n",
       "      <td>4.7</td>\n",
       "      <td>160.0</td>\n",
       "      <td>...</td>\n",
       "      <td>1800.0</td>\n",
       "      <td>13 Banana Boxes</td>\n",
       "      <td>7</td>\n",
       "      <td>AWD</td>\n",
       "      <td>JF - Luxury</td>\n",
       "      <td>5125</td>\n",
       "      <td>1959</td>\n",
       "      <td>1718</td>\n",
       "      <td>SUV</td>\n",
       "      <td>https://ev-database.org/car/2090/Mercedes-Benz...</td>\n",
       "    </tr>\n",
       "  </tbody>\n",
       "</table>\n",
       "<p>3 rows × 21 columns</p>\n",
       "</div>"
      ],
      "text/plain": [
       "             brand               model  top_speed_kmh  battery_capacity_kWh  \\\n",
       "29            Audi   Q6 e-tron quattro            210                  94.9   \n",
       "213          Maxus              MIFA 9            180                  84.0   \n",
       "246  Mercedes-Benz  EQS SUV 580 4MATIC            210                 118.0   \n",
       "\n",
       "     number_of_cells  torque_nm  efficiency_wh_per_km  range_km  \\\n",
       "29             180.0      855.0                   176       480   \n",
       "213              NaN      350.0                   195       365   \n",
       "246              NaN      858.0                   199       530   \n",
       "\n",
       "     acceleration_0_100_s  fast_charging_power_kw_dc  ... towing_capacity_kg  \\\n",
       "29                    5.9                      200.0  ...             2400.0   \n",
       "213                   9.2                      103.0  ...             1000.0   \n",
       "246                   4.7                      160.0  ...             1800.0   \n",
       "\n",
       "      cargo_volume_l seats  drivetrain            segment length_mm  width_mm  \\\n",
       "29   10 Banana Boxes     5         AWD         JD - Large      4771      1939   \n",
       "213  31 Banana Boxes     7         FWD  N - Passenger Van      5270      2000   \n",
       "246  13 Banana Boxes     7         AWD        JF - Luxury      5125      1959   \n",
       "\n",
       "     height_mm        car_body_type  \\\n",
       "29        1685                  SUV   \n",
       "213       1840  Small Passenger Van   \n",
       "246       1718                  SUV   \n",
       "\n",
       "                                            source_url  \n",
       "29   https://ev-database.org/car/2146/Audi-Q6-e-tro...  \n",
       "213      https://ev-database.org/car/1837/Maxus-MIFA-9  \n",
       "246  https://ev-database.org/car/2090/Mercedes-Benz...  \n",
       "\n",
       "[3 rows x 21 columns]"
      ]
     },
     "execution_count": 47,
     "metadata": {},
     "output_type": "execute_result"
    }
   ],
   "source": [
    "data[data.cargo_volume_l.fillna(\"\").str.contains(\"banana\",case=False)]"
   ]
  },
  {
   "cell_type": "markdown",
   "id": "61a3a37d-da7d-439d-a6cc-c14fb4992e44",
   "metadata": {},
   "source": [
    "We see that there are three cars that measure the cargo_valume in banana boxes"
   ]
  },
  {
   "cell_type": "code",
   "execution_count": 50,
   "id": "53f23623-fcd3-425e-927f-3474b982a7a6",
   "metadata": {},
   "outputs": [],
   "source": [
    "indicies_to_correct = data[data.cargo_volume_l.fillna(\"\").str.contains(\"banana\",case=False)].index"
   ]
  },
  {
   "cell_type": "code",
   "execution_count": 51,
   "id": "ce7bf486-aed8-435f-bad4-d72f9e223d57",
   "metadata": {},
   "outputs": [],
   "source": [
    "data[\"cargo_volume_corrected\"] = data.cargo_volume_l.copy()"
   ]
  },
  {
   "cell_type": "code",
   "execution_count": 61,
   "id": "1c6db4e9-4361-4b77-9cb2-a58f5cd9854e",
   "metadata": {},
   "outputs": [],
   "source": [
    " data.loc[indicies_to_correct,\"cargo_volume_corrected\"] = np.nan"
   ]
  },
  {
   "cell_type": "code",
   "execution_count": 62,
   "id": "40abb724-765a-4c91-b49a-42e6e86eedfc",
   "metadata": {},
   "outputs": [
    {
     "data": {
      "text/plain": [
       "29     NaN\n",
       "213    NaN\n",
       "246    NaN\n",
       "Name: cargo_volume_corrected, dtype: object"
      ]
     },
     "execution_count": 62,
     "metadata": {},
     "output_type": "execute_result"
    }
   ],
   "source": [
    " data.loc[indicies_to_correct,\"cargo_volume_corrected\"]"
   ]
  },
  {
   "cell_type": "code",
   "execution_count": 58,
   "id": "cab8c0ab-b1be-42f3-b4d9-5f871c37d45a",
   "metadata": {},
   "outputs": [
    {
     "data": {
      "text/plain": [
       "array(['185', '360', '496', '472', '400', '326', '502', '520', '535',\n",
       "       '526', '511', '10 Banana Boxes', '514', '350', '405', '470', '490',\n",
       "       '570', '500', '525', '440', '345', '308', '552', '235', '385',\n",
       "       '540', '793', '775', '1050', '310', '460', '380', '510', '603',\n",
       "       '989', '390', '620', '467', '361', '572', '536', '519', '523', nan,\n",
       "       '672', '228', '333', '354', '432', '503', '438', '280', '480',\n",
       "       '401', '338', '466', '505', '355', '550', '839', '435', '475',\n",
       "       '309', '210', '522', '316', '611', '509', '456', '410', '249',\n",
       "       '363', '479', '453', '448', '151', '270', '31 Banana Boxes', '340',\n",
       "       '495', '430', '645', '13 Banana Boxes', '828', '551', '1410',\n",
       "       '1030', '555', '1390', '990', '300', '200', '579', '265', '386',\n",
       "       '450', '468', '415', '819', '352', '516', '267', '434', '588',\n",
       "       '412', '608', '471', '348', '407', '484', '446', '366', '367',\n",
       "       '420', '950', '545', '585', '313', '323', '370', '630', '441',\n",
       "       '594', '709', '425', '854', '452', '376', '1340', '1121', '543',\n",
       "       '549', '532', '605', '404', '318', '571', '660', '539', '362'],\n",
       "      dtype=object)"
      ]
     },
     "execution_count": 58,
     "metadata": {},
     "output_type": "execute_result"
    }
   ],
   "source": [
    "data.cargo_volume_corrected.unique()"
   ]
  },
  {
   "cell_type": "code",
   "execution_count": 64,
   "id": "a128af1d-0ed8-4f14-9ad3-62d00f27ac36",
   "metadata": {},
   "outputs": [
    {
     "data": {
      "text/plain": [
       "0      185.0\n",
       "1      185.0\n",
       "2      360.0\n",
       "3      360.0\n",
       "4      496.0\n",
       "       ...  \n",
       "473    539.0\n",
       "474    362.0\n",
       "475    362.0\n",
       "476    362.0\n",
       "477    404.0\n",
       "Name: cargo_volume_corrected, Length: 478, dtype: float64"
      ]
     },
     "execution_count": 64,
     "metadata": {},
     "output_type": "execute_result"
    }
   ],
   "source": [
    "data.cargo_volume_corrected.astype(float)"
   ]
  },
  {
   "cell_type": "markdown",
   "id": "5cf833e3-b047-49d0-82bc-445581a44591",
   "metadata": {},
   "source": [
    "Let us go through the steps we did and why we did it. I want to plot a histogram of the cargo_volume_liters. However, there are values that are "
   ]
  }
 ],
 "metadata": {
  "kernelspec": {
   "display_name": "Python 3 (ipykernel)",
   "language": "python",
   "name": "python3"
  },
  "language_info": {
   "codemirror_mode": {
    "name": "ipython",
    "version": 3
   },
   "file_extension": ".py",
   "mimetype": "text/x-python",
   "name": "python",
   "nbconvert_exporter": "python",
   "pygments_lexer": "ipython3",
   "version": "3.10.0"
  }
 },
 "nbformat": 4,
 "nbformat_minor": 5
}
